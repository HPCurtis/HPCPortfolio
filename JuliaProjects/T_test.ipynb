{
 "cells": [
  {
   "cell_type": "code",
   "execution_count": 20,
   "id": "5037dfed",
   "metadata": {},
   "outputs": [],
   "source": [
    "using CSV, DataFrames, HypothesisTests"
   ]
  },
  {
   "cell_type": "code",
   "execution_count": 28,
   "id": "bd4d4b1f",
   "metadata": {},
   "outputs": [],
   "source": [
    "url = \"https://raw.githubusercontent.com/HPCurtis/HPCPortfolio/main/Data/Mehr%20Song%20and%20Spelke%202016%20Experiment%201.csv\"\n",
    "df = CSV.read(download(url), DataFrame);"
   ]
  },
  {
   "cell_type": "code",
   "execution_count": 25,
   "id": "0359d735",
   "metadata": {},
   "outputs": [
    {
     "data": {
      "text/html": [
       "<div class=\"data-frame\"><p>2 rows × 153 columns (omitted printing of 144 columns)</p><table class=\"data-frame\"><thead><tr><th></th><th>id</th><th>study_code</th><th>exp1</th><th>exp2</th><th>exp3</th><th>exp4</th><th>exp5</th><th>dob</th><th>dot1</th></tr><tr><th></th><th title=\"Int64\">Int64</th><th title=\"String7\">String7</th><th title=\"Int64\">Int64</th><th title=\"Int64\">Int64</th><th title=\"Int64\">Int64</th><th title=\"String1\">String1</th><th title=\"String1\">String1</th><th title=\"String15\">String15</th><th title=\"String15\">String15</th></tr></thead><tbody><tr><th>1</th><td>131</td><td>&quot;LUL&quot;</td><td>1</td><td>0</td><td>0</td><td> </td><td> </td><td>17-Oct-12</td><td>06-Apr-13</td></tr><tr><th>2</th><td>132</td><td>&quot;LUL&quot;</td><td>1</td><td>0</td><td>0</td><td> </td><td> </td><td>01-Dec-12</td><td>08-May-13</td></tr></tbody></table></div>"
      ],
      "text/latex": [
       "\\begin{tabular}{r|cccccccccc}\n",
       "\t& id & study\\_code & exp1 & exp2 & exp3 & exp4 & exp5 & dob & dot1 & \\\\\n",
       "\t\\hline\n",
       "\t& Int64 & String7 & Int64 & Int64 & Int64 & String1 & String1 & String15 & String15 & \\\\\n",
       "\t\\hline\n",
       "\t1 & 131 & \"LUL\" & 1 & 0 & 0 &   &   & 17-Oct-12 & 06-Apr-13 & $\\dots$ \\\\\n",
       "\t2 & 132 & \"LUL\" & 1 & 0 & 0 &   &   & 01-Dec-12 & 08-May-13 & $\\dots$ \\\\\n",
       "\\end{tabular}\n"
      ],
      "text/plain": [
       "\u001b[1m2×153 DataFrame\u001b[0m\n",
       "\u001b[1m Row \u001b[0m│\u001b[1m id    \u001b[0m\u001b[1m study_code \u001b[0m\u001b[1m exp1  \u001b[0m\u001b[1m exp2  \u001b[0m\u001b[1m exp3  \u001b[0m\u001b[1m exp4    \u001b[0m\u001b[1m exp5    \u001b[0m\u001b[1m dob       \u001b[0m\u001b[1m do\u001b[0m ⋯\n",
       "\u001b[1m     \u001b[0m│\u001b[90m Int64 \u001b[0m\u001b[90m String7    \u001b[0m\u001b[90m Int64 \u001b[0m\u001b[90m Int64 \u001b[0m\u001b[90m Int64 \u001b[0m\u001b[90m String1 \u001b[0m\u001b[90m String1 \u001b[0m\u001b[90m String15  \u001b[0m\u001b[90m St\u001b[0m ⋯\n",
       "─────┼──────────────────────────────────────────────────────────────────────────\n",
       "   1 │   131  \"LUL\"           1      0      0                    17-Oct-12  06 ⋯\n",
       "   2 │   132  \"LUL\"           1      0      0                    01-Dec-12  08\n",
       "\u001b[36m                                                             145 columns omitted\u001b[0m"
      ]
     },
     "execution_count": 25,
     "metadata": {},
     "output_type": "execute_result"
    }
   ],
   "source": [
    "# The data for the specific experiment is in the first 32 rows of the dataframe\n",
    "red_df = df[1:32, :];\\\n",
    "# check if id are correct by looking at last 2 rows id's.\n",
    "last(red_df, 2)"
   ]
  },
  {
   "cell_type": "code",
   "execution_count": 37,
   "id": "8907dfa4",
   "metadata": {},
   "outputs": [
    {
     "data": {
      "text/plain": [
       "One sample t-test\n",
       "-----------------\n",
       "Population details:\n",
       "    parameter of interest:   Mean\n",
       "    value under h_0:         0\n",
       "    point estimate:          0.521097\n",
       "    95% confidence interval: (0.4573, 0.5849)\n",
       "\n",
       "Test summary:\n",
       "    outcome with 95% confidence: reject h_0\n",
       "    two-sided p-value:           <1e-16\n",
       "\n",
       "Details:\n",
       "    number of observations:   32\n",
       "    t-statistic:              16.657344006181578\n",
       "    degrees of freedom:       31\n",
       "    empirical standard error: 0.03128329911458993\n"
      ]
     },
     "execution_count": 37,
     "metadata": {},
     "output_type": "execute_result"
    }
   ],
   "source": [
    "OneSampleTTest(red_df[:,:Baseline_Proportion_Gaze_to_Singer], 0)"
   ]
  },
  {
   "cell_type": "code",
   "execution_count": 32,
   "id": "1e6ae344",
   "metadata": {},
   "outputs": [
    {
     "data": {
      "text/html": [
       "<div class=\"data-frame\"><p>96 rows × 153 columns (omitted printing of 144 columns)</p><table class=\"data-frame\"><thead><tr><th></th><th>id</th><th>study_code</th><th>exp1</th><th>exp2</th><th>exp3</th><th>exp4</th><th>exp5</th><th>dob</th><th>dot1</th></tr><tr><th></th><th title=\"Int64\">Int64</th><th title=\"String7\">String7</th><th title=\"Int64\">Int64</th><th title=\"Int64\">Int64</th><th title=\"Int64\">Int64</th><th title=\"String1\">String1</th><th title=\"String1\">String1</th><th title=\"String15\">String15</th><th title=\"String15\">String15</th></tr></thead><tbody><tr><th>1</th><td>101</td><td>&quot;LUL&quot;</td><td>1</td><td>0</td><td>0</td><td> </td><td> </td><td>09-Oct-12</td><td>29-Mar-13</td></tr><tr><th>2</th><td>102</td><td>&quot;LUL&quot;</td><td>1</td><td>0</td><td>0</td><td> </td><td> </td><td>16-Nov-12</td><td>10-May-13</td></tr><tr><th>3</th><td>103</td><td>&quot;LUL&quot;</td><td>1</td><td>0</td><td>0</td><td> </td><td> </td><td>26-Nov-12</td><td>11-May-13</td></tr><tr><th>4</th><td>104</td><td>&quot;LUL&quot;</td><td>1</td><td>0</td><td>0</td><td> </td><td> </td><td>19-Nov-12</td><td>11-May-13</td></tr><tr><th>5</th><td>105</td><td>&quot;LUL&quot;</td><td>1</td><td>0</td><td>0</td><td> </td><td> </td><td>29-Nov-12</td><td>15-May-13</td></tr><tr><th>6</th><td>106</td><td>&quot;LUL&quot;</td><td>1</td><td>0</td><td>0</td><td> </td><td> </td><td>05-Dec-12</td><td>16-May-13</td></tr><tr><th>7</th><td>107</td><td>&quot;LUL&quot;</td><td>1</td><td>0</td><td>0</td><td> </td><td> </td><td>13-Dec-12</td><td>17-May-13</td></tr><tr><th>8</th><td>108</td><td>&quot;LUL&quot;</td><td>1</td><td>0</td><td>0</td><td> </td><td> </td><td>07-Dec-12</td><td>17-May-13</td></tr><tr><th>9</th><td>109</td><td>&quot;LUL&quot;</td><td>1</td><td>0</td><td>0</td><td> </td><td> </td><td>24-Nov-12</td><td>20-May-13</td></tr><tr><th>10</th><td>110</td><td>&quot;LUL&quot;</td><td>1</td><td>0</td><td>0</td><td> </td><td> </td><td>21-Dec-12</td><td>28-May-13</td></tr><tr><th>11</th><td>111</td><td>&quot;LUL&quot;</td><td>1</td><td>0</td><td>0</td><td> </td><td> </td><td>06-Dec-12</td><td>30-May-13</td></tr><tr><th>12</th><td>112</td><td>&quot;LUL&quot;</td><td>1</td><td>0</td><td>0</td><td> </td><td> </td><td>23-Oct-12</td><td>03-Apr-13</td></tr><tr><th>13</th><td>113</td><td>&quot;LUL&quot;</td><td>1</td><td>0</td><td>0</td><td> </td><td> </td><td>13-Dec-12</td><td>30-May-13</td></tr><tr><th>14</th><td>114</td><td>&quot;LUL&quot;</td><td>1</td><td>0</td><td>0</td><td> </td><td> </td><td>12-Dec-12</td><td>30-May-13</td></tr><tr><th>15</th><td>115</td><td>&quot;LUL&quot;</td><td>1</td><td>0</td><td>0</td><td> </td><td> </td><td>19-Dec-12</td><td>07-Jun-13</td></tr><tr><th>16</th><td>116</td><td>&quot;LUL&quot;</td><td>1</td><td>0</td><td>0</td><td> </td><td> </td><td>11-Jan-13</td><td>10-Jun-13</td></tr><tr><th>17</th><td>117</td><td>&quot;LUL&quot;</td><td>1</td><td>0</td><td>0</td><td> </td><td> </td><td>13-Jan-13</td><td>10-Jun-13</td></tr><tr><th>18</th><td>118</td><td>&quot;LUL&quot;</td><td>1</td><td>0</td><td>0</td><td> </td><td> </td><td>15-Jan-13</td><td>11-Jun-13</td></tr><tr><th>19</th><td>119</td><td>&quot;LUL&quot;</td><td>1</td><td>0</td><td>0</td><td> </td><td> </td><td>17-Jan-13</td><td>17-Jun-13</td></tr><tr><th>20</th><td>120</td><td>&quot;LUL&quot;</td><td>1</td><td>0</td><td>0</td><td> </td><td> </td><td>15-Oct-12</td><td>05-Apr-13</td></tr><tr><th>21</th><td>121</td><td>&quot;LUL&quot;</td><td>1</td><td>0</td><td>0</td><td> </td><td> </td><td>19-Jan-13</td><td>21-Jun-13</td></tr><tr><th>22</th><td>122</td><td>&quot;LUL&quot;</td><td>1</td><td>0</td><td>0</td><td> </td><td> </td><td>21-Jan-13</td><td>24-Jun-13</td></tr><tr><th>23</th><td>123</td><td>&quot;LUL&quot;</td><td>1</td><td>0</td><td>0</td><td> </td><td> </td><td>17-Jan-13</td><td>28-Jun-13</td></tr><tr><th>24</th><td>124</td><td>&quot;LUL&quot;</td><td>1</td><td>0</td><td>0</td><td> </td><td> </td><td>25-Jan-13</td><td>29-Jun-13</td></tr><tr><th>25</th><td>125</td><td>&quot;LUL&quot;</td><td>1</td><td>0</td><td>0</td><td> </td><td> </td><td>25-Jan-13</td><td>09-Jul-13</td></tr><tr><th>26</th><td>126</td><td>&quot;LUL&quot;</td><td>1</td><td>0</td><td>0</td><td> </td><td> </td><td>12-Feb-13</td><td>10-Jul-13</td></tr><tr><th>27</th><td>127</td><td>&quot;LUL&quot;</td><td>1</td><td>0</td><td>0</td><td> </td><td> </td><td>23-Jan-13</td><td>12-Jul-13</td></tr><tr><th>28</th><td>128</td><td>&quot;LUL&quot;</td><td>1</td><td>0</td><td>0</td><td> </td><td> </td><td>23-Feb-13</td><td>29-Jul-13</td></tr><tr><th>29</th><td>129</td><td>&quot;LUL&quot;</td><td>1</td><td>0</td><td>0</td><td> </td><td> </td><td>27-Feb-13</td><td>29-Jul-13</td></tr><tr><th>30</th><td>130</td><td>&quot;LUL&quot;</td><td>1</td><td>0</td><td>0</td><td> </td><td> </td><td>11-Oct-12</td><td>05-Apr-13</td></tr><tr><th>&vellip;</th><td>&vellip;</td><td>&vellip;</td><td>&vellip;</td><td>&vellip;</td><td>&vellip;</td><td>&vellip;</td><td>&vellip;</td><td>&vellip;</td><td>&vellip;</td></tr></tbody></table></div>"
      ],
      "text/latex": [
       "\\begin{tabular}{r|cccccccccc}\n",
       "\t& id & study\\_code & exp1 & exp2 & exp3 & exp4 & exp5 & dob & dot1 & \\\\\n",
       "\t\\hline\n",
       "\t& Int64 & String7 & Int64 & Int64 & Int64 & String1 & String1 & String15 & String15 & \\\\\n",
       "\t\\hline\n",
       "\t1 & 101 & \"LUL\" & 1 & 0 & 0 &   &   & 09-Oct-12 & 29-Mar-13 & $\\dots$ \\\\\n",
       "\t2 & 102 & \"LUL\" & 1 & 0 & 0 &   &   & 16-Nov-12 & 10-May-13 & $\\dots$ \\\\\n",
       "\t3 & 103 & \"LUL\" & 1 & 0 & 0 &   &   & 26-Nov-12 & 11-May-13 & $\\dots$ \\\\\n",
       "\t4 & 104 & \"LUL\" & 1 & 0 & 0 &   &   & 19-Nov-12 & 11-May-13 & $\\dots$ \\\\\n",
       "\t5 & 105 & \"LUL\" & 1 & 0 & 0 &   &   & 29-Nov-12 & 15-May-13 & $\\dots$ \\\\\n",
       "\t6 & 106 & \"LUL\" & 1 & 0 & 0 &   &   & 05-Dec-12 & 16-May-13 & $\\dots$ \\\\\n",
       "\t7 & 107 & \"LUL\" & 1 & 0 & 0 &   &   & 13-Dec-12 & 17-May-13 & $\\dots$ \\\\\n",
       "\t8 & 108 & \"LUL\" & 1 & 0 & 0 &   &   & 07-Dec-12 & 17-May-13 & $\\dots$ \\\\\n",
       "\t9 & 109 & \"LUL\" & 1 & 0 & 0 &   &   & 24-Nov-12 & 20-May-13 & $\\dots$ \\\\\n",
       "\t10 & 110 & \"LUL\" & 1 & 0 & 0 &   &   & 21-Dec-12 & 28-May-13 & $\\dots$ \\\\\n",
       "\t11 & 111 & \"LUL\" & 1 & 0 & 0 &   &   & 06-Dec-12 & 30-May-13 & $\\dots$ \\\\\n",
       "\t12 & 112 & \"LUL\" & 1 & 0 & 0 &   &   & 23-Oct-12 & 03-Apr-13 & $\\dots$ \\\\\n",
       "\t13 & 113 & \"LUL\" & 1 & 0 & 0 &   &   & 13-Dec-12 & 30-May-13 & $\\dots$ \\\\\n",
       "\t14 & 114 & \"LUL\" & 1 & 0 & 0 &   &   & 12-Dec-12 & 30-May-13 & $\\dots$ \\\\\n",
       "\t15 & 115 & \"LUL\" & 1 & 0 & 0 &   &   & 19-Dec-12 & 07-Jun-13 & $\\dots$ \\\\\n",
       "\t16 & 116 & \"LUL\" & 1 & 0 & 0 &   &   & 11-Jan-13 & 10-Jun-13 & $\\dots$ \\\\\n",
       "\t17 & 117 & \"LUL\" & 1 & 0 & 0 &   &   & 13-Jan-13 & 10-Jun-13 & $\\dots$ \\\\\n",
       "\t18 & 118 & \"LUL\" & 1 & 0 & 0 &   &   & 15-Jan-13 & 11-Jun-13 & $\\dots$ \\\\\n",
       "\t19 & 119 & \"LUL\" & 1 & 0 & 0 &   &   & 17-Jan-13 & 17-Jun-13 & $\\dots$ \\\\\n",
       "\t20 & 120 & \"LUL\" & 1 & 0 & 0 &   &   & 15-Oct-12 & 05-Apr-13 & $\\dots$ \\\\\n",
       "\t21 & 121 & \"LUL\" & 1 & 0 & 0 &   &   & 19-Jan-13 & 21-Jun-13 & $\\dots$ \\\\\n",
       "\t22 & 122 & \"LUL\" & 1 & 0 & 0 &   &   & 21-Jan-13 & 24-Jun-13 & $\\dots$ \\\\\n",
       "\t23 & 123 & \"LUL\" & 1 & 0 & 0 &   &   & 17-Jan-13 & 28-Jun-13 & $\\dots$ \\\\\n",
       "\t24 & 124 & \"LUL\" & 1 & 0 & 0 &   &   & 25-Jan-13 & 29-Jun-13 & $\\dots$ \\\\\n",
       "\t25 & 125 & \"LUL\" & 1 & 0 & 0 &   &   & 25-Jan-13 & 09-Jul-13 & $\\dots$ \\\\\n",
       "\t26 & 126 & \"LUL\" & 1 & 0 & 0 &   &   & 12-Feb-13 & 10-Jul-13 & $\\dots$ \\\\\n",
       "\t27 & 127 & \"LUL\" & 1 & 0 & 0 &   &   & 23-Jan-13 & 12-Jul-13 & $\\dots$ \\\\\n",
       "\t28 & 128 & \"LUL\" & 1 & 0 & 0 &   &   & 23-Feb-13 & 29-Jul-13 & $\\dots$ \\\\\n",
       "\t29 & 129 & \"LUL\" & 1 & 0 & 0 &   &   & 27-Feb-13 & 29-Jul-13 & $\\dots$ \\\\\n",
       "\t30 & 130 & \"LUL\" & 1 & 0 & 0 &   &   & 11-Oct-12 & 05-Apr-13 & $\\dots$ \\\\\n",
       "\t$\\dots$ & $\\dots$ & $\\dots$ & $\\dots$ & $\\dots$ & $\\dots$ & $\\dots$ & $\\dots$ & $\\dots$ & $\\dots$ &  \\\\\n",
       "\\end{tabular}\n"
      ],
      "text/plain": [
       "\u001b[1m96×153 DataFrame\u001b[0m\n",
       "\u001b[1m Row \u001b[0m│\u001b[1m id    \u001b[0m\u001b[1m study_code \u001b[0m\u001b[1m exp1  \u001b[0m\u001b[1m exp2  \u001b[0m\u001b[1m exp3  \u001b[0m\u001b[1m exp4    \u001b[0m\u001b[1m exp5    \u001b[0m\u001b[1m dob       \u001b[0m\u001b[1m do\u001b[0m ⋯\n",
       "\u001b[1m     \u001b[0m│\u001b[90m Int64 \u001b[0m\u001b[90m String7    \u001b[0m\u001b[90m Int64 \u001b[0m\u001b[90m Int64 \u001b[0m\u001b[90m Int64 \u001b[0m\u001b[90m String1 \u001b[0m\u001b[90m String1 \u001b[0m\u001b[90m String15  \u001b[0m\u001b[90m St\u001b[0m ⋯\n",
       "─────┼──────────────────────────────────────────────────────────────────────────\n",
       "   1 │   101  \"LUL\"           1      0      0                    09-Oct-12  29 ⋯\n",
       "   2 │   102  \"LUL\"           1      0      0                    16-Nov-12  10\n",
       "   3 │   103  \"LUL\"           1      0      0                    26-Nov-12  11\n",
       "   4 │   104  \"LUL\"           1      0      0                    19-Nov-12  11\n",
       "   5 │   105  \"LUL\"           1      0      0                    29-Nov-12  15 ⋯\n",
       "   6 │   106  \"LUL\"           1      0      0                    05-Dec-12  16\n",
       "   7 │   107  \"LUL\"           1      0      0                    13-Dec-12  17\n",
       "   8 │   108  \"LUL\"           1      0      0                    07-Dec-12  17\n",
       "   9 │   109  \"LUL\"           1      0      0                    24-Nov-12  20 ⋯\n",
       "  10 │   110  \"LUL\"           1      0      0                    21-Dec-12  28\n",
       "  11 │   111  \"LUL\"           1      0      0                    06-Dec-12  30\n",
       "  ⋮  │   ⋮        ⋮         ⋮      ⋮      ⋮       ⋮        ⋮         ⋮         ⋱\n",
       "  87 │   323  \"LAS\"           0      0      1           1        23-Mar-14  04\n",
       "  88 │   324  \"LAS\"           0      0      1                    01-May-14  27 ⋯\n",
       "  89 │   325  \"LAS\"           0      0      1           1        22-May-14  15\n",
       "  90 │   326  \"LAS\"           0      0      1           1        07-Jun-14  31\n",
       "  91 │   327  \"LAS\"           0      0      1                    13-Nov-13  13\n",
       "  92 │   328  \"LAS\"           0      0      1                    13-Nov-13  15 ⋯\n",
       "  93 │   329  \"LAS\"           0      0      1           1        11-Dec-13  23\n",
       "  94 │   330  \"LAS\"           0      0      1           1        28-Nov-13  27\n",
       "  95 │   331  \"LAS\"           0      0      1           1        29-Nov-13  27\n",
       "  96 │   332  \"LAS\"           0      0      1                    13-Dec-13  28 ⋯\n",
       "\u001b[36m                                                 145 columns and 75 rows omitted\u001b[0m"
      ]
     },
     "execution_count": 32,
     "metadata": {},
     "output_type": "execute_result"
    }
   ],
   "source": [
    "df"
   ]
  },
  {
   "cell_type": "code",
   "execution_count": null,
   "id": "f66c23df",
   "metadata": {},
   "outputs": [],
   "source": []
  }
 ],
 "metadata": {
  "kernelspec": {
   "display_name": "Julia 1.7.3",
   "language": "julia",
   "name": "julia-1.7"
  },
  "language_info": {
   "file_extension": ".jl",
   "mimetype": "application/julia",
   "name": "julia",
   "version": "1.7.3"
  }
 },
 "nbformat": 4,
 "nbformat_minor": 5
}
