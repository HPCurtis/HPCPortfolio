{
 "cells": [
  {
   "cell_type": "code",
   "execution_count": 20,
   "id": "5037dfed",
   "metadata": {},
   "outputs": [],
   "source": [
    "using CSV, DataFrames, HypothesisTests"
   ]
  },
  {
   "cell_type": "code",
   "execution_count": 13,
   "id": "f8f36ce2",
   "metadata": {},
   "outputs": [],
   "source": [
    "url = \"https://raw.githubusercontent.com/HPCurtis/HPCPortfolio/main/Data/Mehr%20Song%20and%20Spelke%202016%20Experiment%201.csv\"\n",
    "df = CSV.read(download(url), DataFrame);"
   ]
  },
  {
   "cell_type": "code",
   "execution_count": null,
   "id": "ba38cafa",
   "metadata": {},
   "outputs": [],
   "source": []
  }
 ],
 "metadata": {
  "kernelspec": {
   "display_name": "Julia 1.7.3",
   "language": "julia",
   "name": "julia-1.7"
  },
  "language_info": {
   "file_extension": ".jl",
   "mimetype": "application/julia",
   "name": "julia",
   "version": "1.7.3"
  }
 },
 "nbformat": 4,
 "nbformat_minor": 5
}
