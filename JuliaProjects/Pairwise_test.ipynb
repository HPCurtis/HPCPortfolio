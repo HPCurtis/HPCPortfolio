{
 "cells": [
  {
   "cell_type": "code",
   "execution_count": 3,
   "id": "d8657415",
   "metadata": {},
   "outputs": [],
   "source": [
    "# Load relevant Julia analysis packages.\n",
    "using CSV, DataFrames, HypothesisTests, \n",
    "Plots, Statistics, MixedModels"
   ]
  },
  {
   "cell_type": "code",
   "execution_count": 7,
   "id": "7014b500",
   "metadata": {},
   "outputs": [
    {
     "data": {
      "text/html": [
       "<div class=\"data-frame\"><p>2 rows × 153 columns (omitted printing of 144 columns)</p><table class=\"data-frame\"><thead><tr><th></th><th>id</th><th>study_code</th><th>exp1</th><th>exp2</th><th>exp3</th><th>exp4</th><th>exp5</th><th>dob</th><th>dot1</th></tr><tr><th></th><th title=\"Int64\">Int64</th><th title=\"String7\">String7</th><th title=\"Int64\">Int64</th><th title=\"Int64\">Int64</th><th title=\"Int64\">Int64</th><th title=\"String1\">String1</th><th title=\"String1\">String1</th><th title=\"String15\">String15</th><th title=\"String15\">String15</th></tr></thead><tbody><tr><th>1</th><td>101</td><td>&quot;LUL&quot;</td><td>1</td><td>0</td><td>0</td><td> </td><td> </td><td>09-Oct-12</td><td>29-Mar-13</td></tr><tr><th>2</th><td>102</td><td>&quot;LUL&quot;</td><td>1</td><td>0</td><td>0</td><td> </td><td> </td><td>16-Nov-12</td><td>10-May-13</td></tr></tbody></table></div>"
      ],
      "text/latex": [
       "\\begin{tabular}{r|cccccccccc}\n",
       "\t& id & study\\_code & exp1 & exp2 & exp3 & exp4 & exp5 & dob & dot1 & \\\\\n",
       "\t\\hline\n",
       "\t& Int64 & String7 & Int64 & Int64 & Int64 & String1 & String1 & String15 & String15 & \\\\\n",
       "\t\\hline\n",
       "\t1 & 101 & \"LUL\" & 1 & 0 & 0 &   &   & 09-Oct-12 & 29-Mar-13 & $\\dots$ \\\\\n",
       "\t2 & 102 & \"LUL\" & 1 & 0 & 0 &   &   & 16-Nov-12 & 10-May-13 & $\\dots$ \\\\\n",
       "\\end{tabular}\n"
      ],
      "text/plain": [
       "\u001b[1m2×153 DataFrame\u001b[0m\n",
       "\u001b[1m Row \u001b[0m│\u001b[1m id    \u001b[0m\u001b[1m study_code \u001b[0m\u001b[1m exp1  \u001b[0m\u001b[1m exp2  \u001b[0m\u001b[1m exp3  \u001b[0m\u001b[1m exp4    \u001b[0m\u001b[1m exp5    \u001b[0m\u001b[1m dob       \u001b[0m\u001b[1m do\u001b[0m ⋯\n",
       "\u001b[1m     \u001b[0m│\u001b[90m Int64 \u001b[0m\u001b[90m String7    \u001b[0m\u001b[90m Int64 \u001b[0m\u001b[90m Int64 \u001b[0m\u001b[90m Int64 \u001b[0m\u001b[90m String1 \u001b[0m\u001b[90m String1 \u001b[0m\u001b[90m String15  \u001b[0m\u001b[90m St\u001b[0m ⋯\n",
       "─────┼──────────────────────────────────────────────────────────────────────────\n",
       "   1 │   101  \"LUL\"           1      0      0                    09-Oct-12  29 ⋯\n",
       "   2 │   102  \"LUL\"           1      0      0                    16-Nov-12  10\n",
       "\u001b[36m                                                             145 columns omitted\u001b[0m"
      ]
     },
     "execution_count": 7,
     "metadata": {},
     "output_type": "execute_result"
    }
   ],
   "source": [
    "url = \"https://raw.githubusercontent.com/HPCurtis/HPCPortfolio/main/Data/Mehr%20Song%20and%20Spelke%202016%20Experiment%201.csv\"\n",
    "df = CSV.read(download(url), DataFrame)\n",
    "first(df, 2)"
   ]
  },
  {
   "cell_type": "code",
   "execution_count": 8,
   "id": "6a9db4b6",
   "metadata": {},
   "outputs": [
    {
     "data": {
      "text/html": [
       "<div class=\"data-frame\"><p>2 rows × 153 columns (omitted printing of 144 columns)</p><table class=\"data-frame\"><thead><tr><th></th><th>id</th><th>study_code</th><th>exp1</th><th>exp2</th><th>exp3</th><th>exp4</th><th>exp5</th><th>dob</th><th>dot1</th></tr><tr><th></th><th title=\"Int64\">Int64</th><th title=\"String7\">String7</th><th title=\"Int64\">Int64</th><th title=\"Int64\">Int64</th><th title=\"Int64\">Int64</th><th title=\"String1\">String1</th><th title=\"String1\">String1</th><th title=\"String15\">String15</th><th title=\"String15\">String15</th></tr></thead><tbody><tr><th>1</th><td>131</td><td>&quot;LUL&quot;</td><td>1</td><td>0</td><td>0</td><td> </td><td> </td><td>17-Oct-12</td><td>06-Apr-13</td></tr><tr><th>2</th><td>132</td><td>&quot;LUL&quot;</td><td>1</td><td>0</td><td>0</td><td> </td><td> </td><td>01-Dec-12</td><td>08-May-13</td></tr></tbody></table></div>"
      ],
      "text/latex": [
       "\\begin{tabular}{r|cccccccccc}\n",
       "\t& id & study\\_code & exp1 & exp2 & exp3 & exp4 & exp5 & dob & dot1 & \\\\\n",
       "\t\\hline\n",
       "\t& Int64 & String7 & Int64 & Int64 & Int64 & String1 & String1 & String15 & String15 & \\\\\n",
       "\t\\hline\n",
       "\t1 & 131 & \"LUL\" & 1 & 0 & 0 &   &   & 17-Oct-12 & 06-Apr-13 & $\\dots$ \\\\\n",
       "\t2 & 132 & \"LUL\" & 1 & 0 & 0 &   &   & 01-Dec-12 & 08-May-13 & $\\dots$ \\\\\n",
       "\\end{tabular}\n"
      ],
      "text/plain": [
       "\u001b[1m2×153 DataFrame\u001b[0m\n",
       "\u001b[1m Row \u001b[0m│\u001b[1m id    \u001b[0m\u001b[1m study_code \u001b[0m\u001b[1m exp1  \u001b[0m\u001b[1m exp2  \u001b[0m\u001b[1m exp3  \u001b[0m\u001b[1m exp4    \u001b[0m\u001b[1m exp5    \u001b[0m\u001b[1m dob       \u001b[0m\u001b[1m do\u001b[0m ⋯\n",
       "\u001b[1m     \u001b[0m│\u001b[90m Int64 \u001b[0m\u001b[90m String7    \u001b[0m\u001b[90m Int64 \u001b[0m\u001b[90m Int64 \u001b[0m\u001b[90m Int64 \u001b[0m\u001b[90m String1 \u001b[0m\u001b[90m String1 \u001b[0m\u001b[90m String15  \u001b[0m\u001b[90m St\u001b[0m ⋯\n",
       "─────┼──────────────────────────────────────────────────────────────────────────\n",
       "   1 │   131  \"LUL\"           1      0      0                    17-Oct-12  06 ⋯\n",
       "   2 │   132  \"LUL\"           1      0      0                    01-Dec-12  08\n",
       "\u001b[36m                                                             145 columns omitted\u001b[0m"
      ]
     },
     "execution_count": 8,
     "metadata": {},
     "output_type": "execute_result"
    }
   ],
   "source": [
    "# The data for the specific experiment is in the first 32 rows of the dataframe\n",
    "red_df = df[1:32, :];\\\n",
    "# check if id are correct by looking at last 2 rows id's.\n",
    "last(red_df, 2)"
   ]
  },
  {
   "cell_type": "code",
   "execution_count": null,
   "id": "c2b47107",
   "metadata": {},
   "outputs": [],
   "source": []
  }
 ],
 "metadata": {
  "kernelspec": {
   "display_name": "Julia 1.7.3",
   "language": "julia",
   "name": "julia-1.7"
  },
  "language_info": {
   "file_extension": ".jl",
   "mimetype": "application/julia",
   "name": "julia",
   "version": "1.7.3"
  }
 },
 "nbformat": 4,
 "nbformat_minor": 5
}
