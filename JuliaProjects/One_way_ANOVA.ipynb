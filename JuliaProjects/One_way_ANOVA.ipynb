{
 "cells": [
  {
   "cell_type": "code",
   "execution_count": 1,
   "id": "785cd7be",
   "metadata": {},
   "outputs": [
    {
     "ename": "LoadError",
     "evalue": "ArgumentError: Package ANOVA not found in current path:\n- Run `import Pkg; Pkg.add(\"ANOVA\")` to install the ANOVA package.\n",
     "output_type": "error",
     "traceback": [
      "ArgumentError: Package ANOVA not found in current path:\n- Run `import Pkg; Pkg.add(\"ANOVA\")` to install the ANOVA package.\n",
      "",
      "Stacktrace:",
      " [1] require(into::Module, mod::Symbol)",
      "   @ Base ./loading.jl:967",
      " [2] eval",
      "   @ ./boot.jl:373 [inlined]",
      " [3] include_string(mapexpr::typeof(REPL.softscope), mod::Module, code::String, filename::String)",
      "   @ Base ./loading.jl:1196"
     ]
    }
   ],
   "source": [
    "# Load relevant Julia analysis packages.\n",
    "using CSV, DataFrames, HypothesisTests, \n",
    "Plots, Statistics, CategoricalArrays,\n",
    "GLM"
   ]
  },
  {
   "cell_type": "code",
   "execution_count": 3,
   "id": "4208ded3",
   "metadata": {},
   "outputs": [
    {
     "data": {
      "text/html": [
       "<div class=\"data-frame\"><p>2 rows × 28 columns (omitted printing of 22 columns)</p><table class=\"data-frame\"><thead><tr><th></th><th>Condition</th><th>Time_of_Day</th><th>BDI_II</th><th>STAI_T</th><th>pre_film_VAS_Sad</th><th>pre_film_VAS_Hopeless</th></tr><tr><th></th><th title=\"Int64\">Int64</th><th title=\"Int64\">Int64</th><th title=\"Int64\">Int64</th><th title=\"Int64\">Int64</th><th title=\"Float64\">Float64</th><th title=\"Float64\">Float64</th></tr></thead><tbody><tr><th>1</th><td>1</td><td>2</td><td>1</td><td>33</td><td>0.0</td><td>0.0</td></tr><tr><th>2</th><td>1</td><td>2</td><td>3</td><td>27</td><td>1.9</td><td>0.7</td></tr></tbody></table></div>"
      ],
      "text/latex": [
       "\\begin{tabular}{r|ccccccc}\n",
       "\t& Condition & Time\\_of\\_Day & BDI\\_II & STAI\\_T & pre\\_film\\_VAS\\_Sad & pre\\_film\\_VAS\\_Hopeless & \\\\\n",
       "\t\\hline\n",
       "\t& Int64 & Int64 & Int64 & Int64 & Float64 & Float64 & \\\\\n",
       "\t\\hline\n",
       "\t1 & 1 & 2 & 1 & 33 & 0.0 & 0.0 & $\\dots$ \\\\\n",
       "\t2 & 1 & 2 & 3 & 27 & 1.9 & 0.7 & $\\dots$ \\\\\n",
       "\\end{tabular}\n"
      ],
      "text/plain": [
       "\u001b[1m2×28 DataFrame\u001b[0m\n",
       "\u001b[1m Row \u001b[0m│\u001b[1m Condition \u001b[0m\u001b[1m Time_of_Day \u001b[0m\u001b[1m BDI_II \u001b[0m\u001b[1m STAI_T \u001b[0m\u001b[1m pre_film_VAS_Sad \u001b[0m\u001b[1m pre_film_VAS_\u001b[0m ⋯\n",
       "\u001b[1m     \u001b[0m│\u001b[90m Int64     \u001b[0m\u001b[90m Int64       \u001b[0m\u001b[90m Int64  \u001b[0m\u001b[90m Int64  \u001b[0m\u001b[90m Float64          \u001b[0m\u001b[90m Float64      \u001b[0m ⋯\n",
       "─────┼──────────────────────────────────────────────────────────────────────────\n",
       "   1 │         1            2       1      33               0.0                ⋯\n",
       "   2 │         1            2       3      27               1.9\n",
       "\u001b[36m                                                              23 columns omitted\u001b[0m"
      ]
     },
     "execution_count": 3,
     "metadata": {},
     "output_type": "execute_result"
    }
   ],
   "source": [
    "# Load in example analysis data\n",
    "url = \"https://raw.githubusercontent.com/HPCurtis/HPCPortfolio/main/Data/James%20et%20al%202015%20Experiment%202%20Data%20Set.csv\"\n",
    "df = CSV.read(download(url), DataFrame)\n",
    "first(df, 2)"
   ]
  },
  {
   "cell_type": "code",
   "execution_count": 2,
   "id": "5dc1e865",
   "metadata": {},
   "outputs": [
    {
     "name": "stderr",
     "output_type": "stream",
     "text": [
      "\u001b[32m\u001b[1m    Updating\u001b[22m\u001b[39m registry at `~/.julia/registries/General.toml`\n",
      "\u001b[32m\u001b[1m   Resolving\u001b[22m\u001b[39m package versions...\n"
     ]
    },
    {
     "ename": "LoadError",
     "evalue": "Unsatisfiable requirements detected for package \u001b[38;5;14mMixedModels [ff71e718]\u001b[39m:\n \u001b[38;5;14mMixedModels [ff71e718]\u001b[39m log:\n ├─possible versions are: \u001b[38;5;14m0.18.1-4.14.1\u001b[39m or uninstalled\n ├─restricted to versions \u001b[38;5;14m*\u001b[39m by an explicit requirement, leaving only versions \u001b[38;5;14m0.18.1-4.14.1\u001b[39m\n ├─restricted by julia compatibility requirements to versions: \u001b[38;5;14m0.18.1-4.8.2\u001b[39m or uninstalled, leaving only versions: \u001b[38;5;14m0.18.1-4.8.2\u001b[39m\n ├─restricted by compatibility requirements with \u001b[38;5;4mNLopt [76087f3c]\u001b[39m to versions: \u001b[38;5;14m2.3.1-4.14.1\u001b[39m or uninstalled, leaving only versions: \u001b[38;5;14m2.3.1-4.8.2\u001b[39m\n │ └─\u001b[38;5;4mNLopt [76087f3c]\u001b[39m log:\n │   ├─possible versions are: \u001b[38;5;4m0.5.0-0.6.5\u001b[39m or uninstalled\n │   ├─restricted by julia compatibility requirements to versions: \u001b[38;5;4m0.6.0-0.6.5\u001b[39m or uninstalled\n │   └─restricted by compatibility requirements with \u001b[38;5;14mMixedModels [ff71e718]\u001b[39m to versions: \u001b[38;5;4m0.5.0-0.6.5\u001b[39m, leaving only versions: \u001b[38;5;4m0.6.0-0.6.5\u001b[39m\n │     └─\u001b[38;5;14mMixedModels [ff71e718]\u001b[39m log: see above\n └─restricted by compatibility requirements with \u001b[38;5;6mStatsModels [3eaba693]\u001b[39m to versions: \u001b[38;5;14m0.18.1-1.1.7\u001b[39m or uninstalled — no versions left\n   └─\u001b[38;5;6mStatsModels [3eaba693]\u001b[39m log:\n     ├─possible versions are: \u001b[38;5;6m0.3.0-0.7.2\u001b[39m or uninstalled\n     ├─restricted by compatibility requirements with \u001b[38;5;14mMixedModels [ff71e718]\u001b[39m to versions: \u001b[38;5;6m0.3.0-0.6.33\u001b[39m\n     │ └─\u001b[38;5;14mMixedModels [ff71e718]\u001b[39m log: see above\n     └─restricted by compatibility requirements with \u001b[38;5;11mANOVA [0825541b]\u001b[39m to versions: \u001b[38;5;6m0.3.0-0.5.0\u001b[39m\n       └─\u001b[38;5;11mANOVA [0825541b]\u001b[39m log:\n         ├─possible versions are: \u001b[38;5;11m0.1.0\u001b[39m or uninstalled\n         └─restricted to versions \u001b[38;5;11m*\u001b[39m by an explicit requirement, leaving only versions \u001b[38;5;11m0.1.0\u001b[39m",
     "output_type": "error",
     "traceback": [
      "Unsatisfiable requirements detected for package \u001b[38;5;14mMixedModels [ff71e718]\u001b[39m:\n \u001b[38;5;14mMixedModels [ff71e718]\u001b[39m log:\n ├─possible versions are: \u001b[38;5;14m0.18.1-4.14.1\u001b[39m or uninstalled\n ├─restricted to versions \u001b[38;5;14m*\u001b[39m by an explicit requirement, leaving only versions \u001b[38;5;14m0.18.1-4.14.1\u001b[39m\n ├─restricted by julia compatibility requirements to versions: \u001b[38;5;14m0.18.1-4.8.2\u001b[39m or uninstalled, leaving only versions: \u001b[38;5;14m0.18.1-4.8.2\u001b[39m\n ├─restricted by compatibility requirements with \u001b[38;5;4mNLopt [76087f3c]\u001b[39m to versions: \u001b[38;5;14m2.3.1-4.14.1\u001b[39m or uninstalled, leaving only versions: \u001b[38;5;14m2.3.1-4.8.2\u001b[39m\n │ └─\u001b[38;5;4mNLopt [76087f3c]\u001b[39m log:\n │   ├─possible versions are: \u001b[38;5;4m0.5.0-0.6.5\u001b[39m or uninstalled\n │   ├─restricted by julia compatibility requirements to versions: \u001b[38;5;4m0.6.0-0.6.5\u001b[39m or uninstalled\n │   └─restricted by compatibility requirements with \u001b[38;5;14mMixedModels [ff71e718]\u001b[39m to versions: \u001b[38;5;4m0.5.0-0.6.5\u001b[39m, leaving only versions: \u001b[38;5;4m0.6.0-0.6.5\u001b[39m\n │     └─\u001b[38;5;14mMixedModels [ff71e718]\u001b[39m log: see above\n └─restricted by compatibility requirements with \u001b[38;5;6mStatsModels [3eaba693]\u001b[39m to versions: \u001b[38;5;14m0.18.1-1.1.7\u001b[39m or uninstalled — no versions left\n   └─\u001b[38;5;6mStatsModels [3eaba693]\u001b[39m log:\n     ├─possible versions are: \u001b[38;5;6m0.3.0-0.7.2\u001b[39m or uninstalled\n     ├─restricted by compatibility requirements with \u001b[38;5;14mMixedModels [ff71e718]\u001b[39m to versions: \u001b[38;5;6m0.3.0-0.6.33\u001b[39m\n     │ └─\u001b[38;5;14mMixedModels [ff71e718]\u001b[39m log: see above\n     └─restricted by compatibility requirements with \u001b[38;5;11mANOVA [0825541b]\u001b[39m to versions: \u001b[38;5;6m0.3.0-0.5.0\u001b[39m\n       └─\u001b[38;5;11mANOVA [0825541b]\u001b[39m log:\n         ├─possible versions are: \u001b[38;5;11m0.1.0\u001b[39m or uninstalled\n         └─restricted to versions \u001b[38;5;11m*\u001b[39m by an explicit requirement, leaving only versions \u001b[38;5;11m0.1.0\u001b[39m",
      "",
      "Stacktrace:",
      "  [1] propagate_constraints!(graph::Pkg.Resolve.Graph, sources::Set{Int64}; log_events::Bool)",
      "    @ Pkg.Resolve /private/var/folders/jx/7kz0ltm51cs_16wzzyj3gkk80000gn/T/AppTranslocation/7A51D522-8AC9-4F40-B4D2-B5403002D487/d/Julia-1.7.app/Contents/Resources/julia/share/julia/stdlib/v1.7/Pkg/src/Resolve/graphtype.jl:1063",
      "  [2] propagate_constraints! (repeats 2 times)",
      "    @ /private/var/folders/jx/7kz0ltm51cs_16wzzyj3gkk80000gn/T/AppTranslocation/7A51D522-8AC9-4F40-B4D2-B5403002D487/d/Julia-1.7.app/Contents/Resources/julia/share/julia/stdlib/v1.7/Pkg/src/Resolve/graphtype.jl:1000 [inlined]",
      "  [3] simplify_graph!(graph::Pkg.Resolve.Graph, sources::Set{Int64}; clean_graph::Bool)",
      "    @ Pkg.Resolve /private/var/folders/jx/7kz0ltm51cs_16wzzyj3gkk80000gn/T/AppTranslocation/7A51D522-8AC9-4F40-B4D2-B5403002D487/d/Julia-1.7.app/Contents/Resources/julia/share/julia/stdlib/v1.7/Pkg/src/Resolve/graphtype.jl:1519",
      "  [4] simplify_graph! (repeats 2 times)",
      "    @ /private/var/folders/jx/7kz0ltm51cs_16wzzyj3gkk80000gn/T/AppTranslocation/7A51D522-8AC9-4F40-B4D2-B5403002D487/d/Julia-1.7.app/Contents/Resources/julia/share/julia/stdlib/v1.7/Pkg/src/Resolve/graphtype.jl:1519 [inlined]",
      "  [5] resolve_versions!(env::Pkg.Types.EnvCache, registries::Vector{Pkg.Registry.RegistryInstance}, pkgs::Vector{Pkg.Types.PackageSpec}, julia_version::VersionNumber)",
      "    @ Pkg.Operations /private/var/folders/jx/7kz0ltm51cs_16wzzyj3gkk80000gn/T/AppTranslocation/7A51D522-8AC9-4F40-B4D2-B5403002D487/d/Julia-1.7.app/Contents/Resources/julia/share/julia/stdlib/v1.7/Pkg/src/Operations.jl:335",
      "  [6] targeted_resolve(env::Pkg.Types.EnvCache, registries::Vector{Pkg.Registry.RegistryInstance}, pkgs::Vector{Pkg.Types.PackageSpec}, preserve::Pkg.Types.PreserveLevel, julia_version::VersionNumber)",
      "    @ Pkg.Operations /private/var/folders/jx/7kz0ltm51cs_16wzzyj3gkk80000gn/T/AppTranslocation/7A51D522-8AC9-4F40-B4D2-B5403002D487/d/Julia-1.7.app/Contents/Resources/julia/share/julia/stdlib/v1.7/Pkg/src/Operations.jl:1154",
      "  [7] tiered_resolve(env::Pkg.Types.EnvCache, registries::Vector{Pkg.Registry.RegistryInstance}, pkgs::Vector{Pkg.Types.PackageSpec}, julia_version::VersionNumber)",
      "    @ Pkg.Operations /private/var/folders/jx/7kz0ltm51cs_16wzzyj3gkk80000gn/T/AppTranslocation/7A51D522-8AC9-4F40-B4D2-B5403002D487/d/Julia-1.7.app/Contents/Resources/julia/share/julia/stdlib/v1.7/Pkg/src/Operations.jl:1139",
      "  [8] _resolve(io::IJulia.IJuliaStdio{Base.PipeEndpoint}, env::Pkg.Types.EnvCache, registries::Vector{Pkg.Registry.RegistryInstance}, pkgs::Vector{Pkg.Types.PackageSpec}, preserve::Pkg.Types.PreserveLevel, julia_version::VersionNumber)",
      "    @ Pkg.Operations /private/var/folders/jx/7kz0ltm51cs_16wzzyj3gkk80000gn/T/AppTranslocation/7A51D522-8AC9-4F40-B4D2-B5403002D487/d/Julia-1.7.app/Contents/Resources/julia/share/julia/stdlib/v1.7/Pkg/src/Operations.jl:1160",
      "  [9] add(ctx::Pkg.Types.Context, pkgs::Vector{Pkg.Types.PackageSpec}, new_git::Set{Base.UUID}; preserve::Pkg.Types.PreserveLevel, platform::Base.BinaryPlatforms.Platform)",
      "    @ Pkg.Operations /private/var/folders/jx/7kz0ltm51cs_16wzzyj3gkk80000gn/T/AppTranslocation/7A51D522-8AC9-4F40-B4D2-B5403002D487/d/Julia-1.7.app/Contents/Resources/julia/share/julia/stdlib/v1.7/Pkg/src/Operations.jl:1176",
      " [10] add(ctx::Pkg.Types.Context, pkgs::Vector{Pkg.Types.PackageSpec}; preserve::Pkg.Types.PreserveLevel, platform::Base.BinaryPlatforms.Platform, kwargs::Base.Pairs{Symbol, IJulia.IJuliaStdio{Base.PipeEndpoint}, Tuple{Symbol}, NamedTuple{(:io,), Tuple{IJulia.IJuliaStdio{Base.PipeEndpoint}}}})",
      "    @ Pkg.API /private/var/folders/jx/7kz0ltm51cs_16wzzyj3gkk80000gn/T/AppTranslocation/7A51D522-8AC9-4F40-B4D2-B5403002D487/d/Julia-1.7.app/Contents/Resources/julia/share/julia/stdlib/v1.7/Pkg/src/API.jl:268",
      " [11] add(pkgs::Vector{Pkg.Types.PackageSpec}; io::IJulia.IJuliaStdio{Base.PipeEndpoint}, kwargs::Base.Pairs{Symbol, Union{}, Tuple{}, NamedTuple{(), Tuple{}}})",
      "    @ Pkg.API /private/var/folders/jx/7kz0ltm51cs_16wzzyj3gkk80000gn/T/AppTranslocation/7A51D522-8AC9-4F40-B4D2-B5403002D487/d/Julia-1.7.app/Contents/Resources/julia/share/julia/stdlib/v1.7/Pkg/src/API.jl:149",
      " [12] add(pkgs::Vector{Pkg.Types.PackageSpec})",
      "    @ Pkg.API /private/var/folders/jx/7kz0ltm51cs_16wzzyj3gkk80000gn/T/AppTranslocation/7A51D522-8AC9-4F40-B4D2-B5403002D487/d/Julia-1.7.app/Contents/Resources/julia/share/julia/stdlib/v1.7/Pkg/src/API.jl:144",
      " [13] #add#27",
      "    @ /private/var/folders/jx/7kz0ltm51cs_16wzzyj3gkk80000gn/T/AppTranslocation/7A51D522-8AC9-4F40-B4D2-B5403002D487/d/Julia-1.7.app/Contents/Resources/julia/share/julia/stdlib/v1.7/Pkg/src/API.jl:142 [inlined]",
      " [14] add",
      "    @ /private/var/folders/jx/7kz0ltm51cs_16wzzyj3gkk80000gn/T/AppTranslocation/7A51D522-8AC9-4F40-B4D2-B5403002D487/d/Julia-1.7.app/Contents/Resources/julia/share/julia/stdlib/v1.7/Pkg/src/API.jl:142 [inlined]",
      " [15] #add#26",
      "    @ /private/var/folders/jx/7kz0ltm51cs_16wzzyj3gkk80000gn/T/AppTranslocation/7A51D522-8AC9-4F40-B4D2-B5403002D487/d/Julia-1.7.app/Contents/Resources/julia/share/julia/stdlib/v1.7/Pkg/src/API.jl:141 [inlined]",
      " [16] add(pkg::String)",
      "    @ Pkg.API /private/var/folders/jx/7kz0ltm51cs_16wzzyj3gkk80000gn/T/AppTranslocation/7A51D522-8AC9-4F40-B4D2-B5403002D487/d/Julia-1.7.app/Contents/Resources/julia/share/julia/stdlib/v1.7/Pkg/src/API.jl:141",
      " [17] top-level scope",
      "    @ In[2]:1",
      " [18] eval",
      "    @ ./boot.jl:373 [inlined]",
      " [19] include_string(mapexpr::typeof(REPL.softscope), mod::Module, code::String, filename::String)",
      "    @ Base ./loading.jl:1196"
     ]
    }
   ],
   "source": [
    "import Pkg; Pkg.add(\"ANOVA\")"
   ]
  }
 ],
 "metadata": {
  "kernelspec": {
   "display_name": "Julia 1.7.3",
   "language": "julia",
   "name": "julia-1.7"
  },
  "language_info": {
   "file_extension": ".jl",
   "mimetype": "application/julia",
   "name": "julia",
   "version": "1.7.3"
  }
 },
 "nbformat": 4,
 "nbformat_minor": 5
}
