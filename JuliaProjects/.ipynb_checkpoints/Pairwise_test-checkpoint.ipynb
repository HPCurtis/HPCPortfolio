{
 "cells": [
  {
   "cell_type": "code",
   "execution_count": 85,
   "id": "d11bb074",
   "metadata": {},
   "outputs": [],
   "source": [
    "# Load relevant Julia analysis packages.\n",
    "using CSV, DataFrames, HypothesisTests, \n",
    "Plots, Statistics, MixedModels,CategoricalArrays\n",
    " "
   ]
  },
  {
   "cell_type": "code",
   "execution_count": 70,
   "id": "12b269fc",
   "metadata": {},
   "outputs": [
    {
     "data": {
      "text/html": [
       "<div class=\"data-frame\"><p>2 rows × 153 columns (omitted printing of 144 columns)</p><table class=\"data-frame\"><thead><tr><th></th><th>id</th><th>study_code</th><th>exp1</th><th>exp2</th><th>exp3</th><th>exp4</th><th>exp5</th><th>dob</th><th>dot1</th></tr><tr><th></th><th title=\"Int64\">Int64</th><th title=\"String7\">String7</th><th title=\"Int64\">Int64</th><th title=\"Int64\">Int64</th><th title=\"Int64\">Int64</th><th title=\"String1\">String1</th><th title=\"String1\">String1</th><th title=\"String15\">String15</th><th title=\"String15\">String15</th></tr></thead><tbody><tr><th>1</th><td>101</td><td>&quot;LUL&quot;</td><td>1</td><td>0</td><td>0</td><td> </td><td> </td><td>09-Oct-12</td><td>29-Mar-13</td></tr><tr><th>2</th><td>102</td><td>&quot;LUL&quot;</td><td>1</td><td>0</td><td>0</td><td> </td><td> </td><td>16-Nov-12</td><td>10-May-13</td></tr></tbody></table></div>"
      ],
      "text/latex": [
       "\\begin{tabular}{r|cccccccccc}\n",
       "\t& id & study\\_code & exp1 & exp2 & exp3 & exp4 & exp5 & dob & dot1 & \\\\\n",
       "\t\\hline\n",
       "\t& Int64 & String7 & Int64 & Int64 & Int64 & String1 & String1 & String15 & String15 & \\\\\n",
       "\t\\hline\n",
       "\t1 & 101 & \"LUL\" & 1 & 0 & 0 &   &   & 09-Oct-12 & 29-Mar-13 & $\\dots$ \\\\\n",
       "\t2 & 102 & \"LUL\" & 1 & 0 & 0 &   &   & 16-Nov-12 & 10-May-13 & $\\dots$ \\\\\n",
       "\\end{tabular}\n"
      ],
      "text/plain": [
       "\u001b[1m2×153 DataFrame\u001b[0m\n",
       "\u001b[1m Row \u001b[0m│\u001b[1m id    \u001b[0m\u001b[1m study_code \u001b[0m\u001b[1m exp1  \u001b[0m\u001b[1m exp2  \u001b[0m\u001b[1m exp3  \u001b[0m\u001b[1m exp4    \u001b[0m\u001b[1m exp5    \u001b[0m\u001b[1m dob       \u001b[0m\u001b[1m do\u001b[0m ⋯\n",
       "\u001b[1m     \u001b[0m│\u001b[90m Int64 \u001b[0m\u001b[90m String7    \u001b[0m\u001b[90m Int64 \u001b[0m\u001b[90m Int64 \u001b[0m\u001b[90m Int64 \u001b[0m\u001b[90m String1 \u001b[0m\u001b[90m String1 \u001b[0m\u001b[90m String15  \u001b[0m\u001b[90m St\u001b[0m ⋯\n",
       "─────┼──────────────────────────────────────────────────────────────────────────\n",
       "   1 │   101  \"LUL\"           1      0      0                    09-Oct-12  29 ⋯\n",
       "   2 │   102  \"LUL\"           1      0      0                    16-Nov-12  10\n",
       "\u001b[36m                                                             145 columns omitted\u001b[0m"
      ]
     },
     "execution_count": 70,
     "metadata": {},
     "output_type": "execute_result"
    }
   ],
   "source": [
    "url = \"https://raw.githubusercontent.com/HPCurtis/HPCPortfolio/main/Data/Mehr%20Song%20and%20Spelke%202016%20Experiment%201.csv\"\n",
    "df = CSV.read(download(url), DataFrame)\n",
    "first(df, 2)"
   ]
  },
  {
   "cell_type": "code",
   "execution_count": 71,
   "id": "820f310a",
   "metadata": {},
   "outputs": [
    {
     "data": {
      "text/html": [
       "<div class=\"data-frame\"><p>2 rows × 3 columns</p><table class=\"data-frame\"><thead><tr><th></th><th>id</th><th>Baseline</th><th>Test</th></tr><tr><th></th><th title=\"Int64\">Int64</th><th title=\"Float64\">Float64</th><th title=\"Float64\">Float64</th></tr></thead><tbody><tr><th>1</th><td>131</td><td>0.422037</td><td>0.762963</td></tr><tr><th>2</th><td>132</td><td>0.435484</td><td>0.460274</td></tr></tbody></table></div>"
      ],
      "text/latex": [
       "\\begin{tabular}{r|ccc}\n",
       "\t& id & Baseline & Test\\\\\n",
       "\t\\hline\n",
       "\t& Int64 & Float64 & Float64\\\\\n",
       "\t\\hline\n",
       "\t1 & 131 & 0.422037 & 0.762963 \\\\\n",
       "\t2 & 132 & 0.435484 & 0.460274 \\\\\n",
       "\\end{tabular}\n"
      ],
      "text/plain": [
       "\u001b[1m2×3 DataFrame\u001b[0m\n",
       "\u001b[1m Row \u001b[0m│\u001b[1m id    \u001b[0m\u001b[1m Baseline \u001b[0m\u001b[1m Test     \u001b[0m\n",
       "\u001b[1m     \u001b[0m│\u001b[90m Int64 \u001b[0m\u001b[90m Float64  \u001b[0m\u001b[90m Float64  \u001b[0m\n",
       "─────┼───────────────────────────\n",
       "   1 │   131  0.422037  0.762963\n",
       "   2 │   132  0.435484  0.460274"
      ]
     },
     "execution_count": 71,
     "metadata": {},
     "output_type": "execute_result"
    }
   ],
   "source": [
    "# The data for the specific experiment is in the first 32 rows of the dataframe\n",
    "red_df = df[1:32, \n",
    "    [:id, :Baseline_Proportion_Gaze_to_Singer, \n",
    "        :Test_Proportion_Gaze_to_Singer]];\n",
    "red_df = rename!(red_df,[:id, :Baseline,:Test])\n",
    "# check if id are correct by looking at last 2 rows id's.\n",
    "last(red_df, 2)"
   ]
  },
  {
   "cell_type": "markdown",
   "id": "9253ed9b",
   "metadata": {},
   "source": [
    "### Pairwise t-test"
   ]
  },
  {
   "cell_type": "code",
   "execution_count": 72,
   "id": "3fd3e193",
   "metadata": {},
   "outputs": [
    {
     "data": {
      "text/plain": [
       "One sample t-test\n",
       "-----------------\n",
       "Population details:\n",
       "    parameter of interest:   Mean\n",
       "    value under h_0:         0\n",
       "    point estimate:          -0.0723946\n",
       "    95% confidence interval: (-0.1335, -0.01129)\n",
       "\n",
       "Test summary:\n",
       "    outcome with 95% confidence: reject h_0\n",
       "    two-sided p-value:           0.0218\n",
       "\n",
       "Details:\n",
       "    number of observations:   32\n",
       "    t-statistic:              -2.4164303131121225\n",
       "    degrees of freedom:       31\n",
       "    empirical standard error: 0.02995930592625408\n"
      ]
     },
     "execution_count": 72,
     "metadata": {},
     "output_type": "execute_result"
    }
   ],
   "source": [
    "# Uisng the OneSampleTTest function conduct pairwise t-test statistical test\n",
    "# add pair vlaues and set the the nul value to 0.\n",
    "OneSampleTTest(red_df[:, :Baseline], \n",
    "        red_df[:, :Test],  0)"
   ]
  },
  {
   "cell_type": "markdown",
   "id": "71338198",
   "metadata": {},
   "source": [
    "### Pairwise t-test is one sample t-test on pairwise difference scores"
   ]
  },
  {
   "cell_type": "code",
   "execution_count": 73,
   "id": "676eba47",
   "metadata": {},
   "outputs": [
    {
     "data": {
      "text/plain": [
       "One sample t-test\n",
       "-----------------\n",
       "Population details:\n",
       "    parameter of interest:   Mean\n",
       "    value under h_0:         0\n",
       "    point estimate:          -0.0723946\n",
       "    95% confidence interval: (-0.1335, -0.01129)\n",
       "\n",
       "Test summary:\n",
       "    outcome with 95% confidence: reject h_0\n",
       "    two-sided p-value:           0.0218\n",
       "\n",
       "Details:\n",
       "    number of observations:   32\n",
       "    t-statistic:              -2.4164303131121225\n",
       "    degrees of freedom:       31\n",
       "    empirical standard error: 0.02995930592625408\n"
      ]
     },
     "execution_count": 73,
     "metadata": {},
     "output_type": "execute_result"
    }
   ],
   "source": [
    "# Proof that a pairwise t-test is just a one sample t-test over\n",
    "# vector of difference (-) values of the paired values.\n",
    "OneSampleTTest((red_df[:, :Baseline] - red_df[:, :Test]),  0)"
   ]
  },
  {
   "cell_type": "markdown",
   "id": "c915d6ca",
   "metadata": {},
   "source": [
    "### pairwise t-test as a linear mixed model"
   ]
  },
  {
   "cell_type": "code",
   "execution_count": 93,
   "id": "4e926afc",
   "metadata": {},
   "outputs": [
    {
     "data": {
      "text/html": [
       "<div class=\"data-frame\"><p>2 rows × 3 columns</p><table class=\"data-frame\"><thead><tr><th></th><th>id</th><th>Condition</th><th>Gaze</th></tr><tr><th></th><th title=\"CategoricalValue{Int64, UInt32}\">Cat…</th><th title=\"String\">String</th><th title=\"Float64\">Float64</th></tr></thead><tbody><tr><th>1</th><td>101</td><td>Baseline</td><td>0.437126</td></tr><tr><th>2</th><td>102</td><td>Baseline</td><td>0.412533</td></tr></tbody></table></div>"
      ],
      "text/latex": [
       "\\begin{tabular}{r|ccc}\n",
       "\t& id & Condition & Gaze\\\\\n",
       "\t\\hline\n",
       "\t& Cat… & String & Float64\\\\\n",
       "\t\\hline\n",
       "\t1 & 101 & Baseline & 0.437126 \\\\\n",
       "\t2 & 102 & Baseline & 0.412533 \\\\\n",
       "\\end{tabular}\n"
      ],
      "text/plain": [
       "\u001b[1m2×3 DataFrame\u001b[0m\n",
       "\u001b[1m Row \u001b[0m│\u001b[1m id   \u001b[0m\u001b[1m Condition \u001b[0m\u001b[1m Gaze     \u001b[0m\n",
       "\u001b[1m     \u001b[0m│\u001b[90m Cat… \u001b[0m\u001b[90m String    \u001b[0m\u001b[90m Float64  \u001b[0m\n",
       "─────┼───────────────────────────\n",
       "   1 │ 101   Baseline   0.437126\n",
       "   2 │ 102   Baseline   0.412533"
      ]
     },
     "execution_count": 93,
     "metadata": {},
     "output_type": "execute_result"
    }
   ],
   "source": [
    "red_dfLong = stack(red_df);\n",
    "red_dfLong = rename(red_dfLong, [:id, :Condition ,:Gaze]);\n",
    "red_dfLong.id = categorical(red_dfLong.id)\n",
    "first(red_dfLong, 2)"
   ]
  },
  {
   "cell_type": "code",
   "execution_count": 94,
   "id": "140d200c",
   "metadata": {},
   "outputs": [
    {
     "name": "stderr",
     "output_type": "stream",
     "text": [
      "┌ Warning: ProgressMeter by default refresh meters with additional information in IJulia via `IJulia.clear_output`, which clears all outputs in the cell. \n",
      "│  - To prevent this behaviour, do `ProgressMeter.ijulia_behavior(:append)`. \n",
      "│  - To disable this warning message, do `ProgressMeter.ijulia_behavior(:clear)`.\n",
      "└ @ ProgressMeter /Users/harrisoncurtis/.julia/packages/ProgressMeter/sN2xr/src/ProgressMeter.jl:618\n",
      "\r",
      "\u001b[32mMinimizing 17 \t Time: 0:00:00 (13.63 ms/it)\u001b[39m\n"
     ]
    },
    {
     "data": {
      "text/latex": [
       "\\begin{tabular}\n",
       "{l | r | r | r | r | r}\n",
       " & Est. & SE & z & p & $\\sigma_\\text{id}$ \\\\\n",
       "\\hline\n",
       "(Intercept) & 0.5211 & 0.0309 & 16.84 & <1e-62 & 0.1293 \\\\\n",
       "Condition: Test & 0.0724 & 0.0295 & 2.46 & 0.0141 &   \\\\\n",
       "Residual & 0.1179 &  &  &  &  \\\\\n",
       "\\end{tabular}\n"
      ],
      "text/markdown": [
       "|                 |   Est. |     SE |     z |      p |   σ_id |\n",
       "|:--------------- | ------:| ------:| -----:| ------:| ------:|\n",
       "| (Intercept)     | 0.5211 | 0.0309 | 16.84 | <1e-62 | 0.1293 |\n",
       "| Condition: Test | 0.0724 | 0.0295 |  2.46 | 0.0141 |        |\n",
       "| Residual        | 0.1179 |        |       |        |        |\n"
      ],
      "text/plain": [
       "Linear mixed model fit by maximum likelihood\n",
       " Gaze ~ 1 + Condition + (1 | id)\n",
       "   logLik   -2 logLik     AIC       AICc        BIC    \n",
       "    26.3882   -52.7765   -44.7765   -44.0985   -36.1410\n",
       "\n",
       "Variance components:\n",
       "            Column   Variance Std.Dev. \n",
       "id       (Intercept)  0.016723 0.129316\n",
       "Residual              0.013912 0.117950\n",
       " Number of obs: 64; levels of grouping factors: 32\n",
       "\n",
       "  Fixed-effects parameters:\n",
       "───────────────────────────────────────────────────────\n",
       "                     Coef.  Std. Error      z  Pr(>|z|)\n",
       "───────────────────────────────────────────────────────\n",
       "(Intercept)      0.521097    0.0309409  16.84    <1e-62\n",
       "Condition: Test  0.0723946   0.0294875   2.46    0.0141\n",
       "───────────────────────────────────────────────────────"
      ]
     },
     "execution_count": 94,
     "metadata": {},
     "output_type": "execute_result"
    }
   ],
   "source": [
    "m1 = fit(MixedModel, @formula(Gaze ~ Condition + (1|id)), red_dfLong)"
   ]
  },
  {
   "cell_type": "code",
   "execution_count": null,
   "id": "3ba0d3f3",
   "metadata": {},
   "outputs": [],
   "source": []
  }
 ],
 "metadata": {
  "kernelspec": {
   "display_name": "Julia 1.7.3",
   "language": "julia",
   "name": "julia-1.7"
  },
  "language_info": {
   "file_extension": ".jl",
   "mimetype": "application/julia",
   "name": "julia",
   "version": "1.7.3"
  }
 },
 "nbformat": 4,
 "nbformat_minor": 5
}
