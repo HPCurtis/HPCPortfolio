{
 "cells": [
  {
   "cell_type": "code",
   "execution_count": 4,
   "id": "d7985e26",
   "metadata": {},
   "outputs": [],
   "source": [
    "# Load relevant Julia analysis packages.\n",
    "using CSV, DataFrames, HypothesisTests, Plots, Statistics"
   ]
  },
  {
   "cell_type": "code",
   "execution_count": 5,
   "id": "eba9e218",
   "metadata": {},
   "outputs": [
    {
     "data": {
      "text/html": [
       "<div class=\"data-frame\"><p>2 rows × 12 columns (omitted printing of 3 columns)</p><table class=\"data-frame\"><thead><tr><th></th><th>Column1</th><th>mpg</th><th>cyl</th><th>disp</th><th>hp</th><th>drat</th><th>wt</th><th>qsec</th><th>vs</th></tr><tr><th></th><th title=\"String31\">String31</th><th title=\"Float64\">Float64</th><th title=\"Int64\">Int64</th><th title=\"Float64\">Float64</th><th title=\"Int64\">Int64</th><th title=\"Float64\">Float64</th><th title=\"Float64\">Float64</th><th title=\"Float64\">Float64</th><th title=\"Int64\">Int64</th></tr></thead><tbody><tr><th>1</th><td>Mazda RX4</td><td>21.0</td><td>6</td><td>160.0</td><td>110</td><td>3.9</td><td>2.62</td><td>16.46</td><td>0</td></tr><tr><th>2</th><td>Mazda RX4 Wag</td><td>21.0</td><td>6</td><td>160.0</td><td>110</td><td>3.9</td><td>2.875</td><td>17.02</td><td>0</td></tr></tbody></table></div>"
      ],
      "text/latex": [
       "\\begin{tabular}{r|cccccccccc}\n",
       "\t& Column1 & mpg & cyl & disp & hp & drat & wt & qsec & vs & \\\\\n",
       "\t\\hline\n",
       "\t& String31 & Float64 & Int64 & Float64 & Int64 & Float64 & Float64 & Float64 & Int64 & \\\\\n",
       "\t\\hline\n",
       "\t1 & Mazda RX4 & 21.0 & 6 & 160.0 & 110 & 3.9 & 2.62 & 16.46 & 0 & $\\dots$ \\\\\n",
       "\t2 & Mazda RX4 Wag & 21.0 & 6 & 160.0 & 110 & 3.9 & 2.875 & 17.02 & 0 & $\\dots$ \\\\\n",
       "\\end{tabular}\n"
      ],
      "text/plain": [
       "\u001b[1m2×12 DataFrame\u001b[0m\n",
       "\u001b[1m Row \u001b[0m│\u001b[1m Column1       \u001b[0m\u001b[1m mpg     \u001b[0m\u001b[1m cyl   \u001b[0m\u001b[1m disp    \u001b[0m\u001b[1m hp    \u001b[0m\u001b[1m drat    \u001b[0m\u001b[1m wt      \u001b[0m\u001b[1m qsec  \u001b[0m ⋯\n",
       "\u001b[1m     \u001b[0m│\u001b[90m String31      \u001b[0m\u001b[90m Float64 \u001b[0m\u001b[90m Int64 \u001b[0m\u001b[90m Float64 \u001b[0m\u001b[90m Int64 \u001b[0m\u001b[90m Float64 \u001b[0m\u001b[90m Float64 \u001b[0m\u001b[90m Float6\u001b[0m ⋯\n",
       "─────┼──────────────────────────────────────────────────────────────────────────\n",
       "   1 │ Mazda RX4         21.0      6    160.0    110      3.9    2.62     16.4 ⋯\n",
       "   2 │ Mazda RX4 Wag     21.0      6    160.0    110      3.9    2.875    17.0\n",
       "\u001b[36m                                                               5 columns omitted\u001b[0m"
      ]
     },
     "execution_count": 5,
     "metadata": {},
     "output_type": "execute_result"
    }
   ],
   "source": [
    "# Specify URL to github repository where the data is stored.\n",
    "url = \"https://gist.githubusercontent.com/ZeccaLehn/4e06d2575eb9589dbe8c365d61cb056c/raw/898a40b035f7c951579041aecbfb2149331fa9f6/mtcars.csv\"\n",
    "\n",
    "# Generate dataframe object with the CSV function and read attribute.\n",
    "# Then output the first two rows of dataframe a visual check of \n",
    "# correct import of data.\n",
    "df = CSV.read(download(url), DataFrame);\n",
    "first(df, 2)"
   ]
  },
  {
   "cell_type": "code",
   "execution_count": 12,
   "id": "a8d7468d",
   "metadata": {},
   "outputs": [
    {
     "data": {
      "text/plain": [
       "-0.8676593765172279"
      ]
     },
     "execution_count": 12,
     "metadata": {},
     "output_type": "execute_result"
    }
   ],
   "source": [
    "red_df = df[:, [:mpg, :wt]];\n",
    "cor(red_df[:, \"mpg\"], red_df[:, \"wt\"])"
   ]
  },
  {
   "cell_type": "code",
   "execution_count": 26,
   "id": "30c6d65d",
   "metadata": {},
   "outputs": [
    {
     "data": {
      "image/svg+xml": [
       "<?xml version=\"1.0\" encoding=\"utf-8\"?>\n",
       "<svg xmlns=\"http://www.w3.org/2000/svg\" xmlns:xlink=\"http://www.w3.org/1999/xlink\" width=\"600\" height=\"400\" viewBox=\"0 0 2400 1600\">\n",
       "<defs>\n",
       "  <clipPath id=\"clip210\">\n",
       "    <rect x=\"0\" y=\"0\" width=\"2400\" height=\"1600\"/>\n",
       "  </clipPath>\n",
       "</defs>\n",
       "<path clip-path=\"url(#clip210)\" d=\"\n",
       "M0 1600 L2400 1600 L2400 0 L0 0  Z\n",
       "  \" fill=\"#ffffff\" fill-rule=\"evenodd\" fill-opacity=\"1\"/>\n",
       "<defs>\n",
       "  <clipPath id=\"clip211\">\n",
       "    <rect x=\"480\" y=\"0\" width=\"1681\" height=\"1600\"/>\n",
       "  </clipPath>\n",
       "</defs>\n",
       "<path clip-path=\"url(#clip210)\" d=\"\n",
       "M175.445 1423.18 L2352.76 1423.18 L2352.76 47.2441 L175.445 47.2441  Z\n",
       "  \" fill=\"#ffffff\" fill-rule=\"evenodd\" fill-opacity=\"1\"/>\n",
       "<defs>\n",
       "  <clipPath id=\"clip212\">\n",
       "    <rect x=\"175\" y=\"47\" width=\"2178\" height=\"1377\"/>\n",
       "  </clipPath>\n",
       "</defs>\n",
       "<polyline clip-path=\"url(#clip212)\" style=\"stroke:#000000; stroke-linecap:butt; stroke-linejoin:round; stroke-width:2; stroke-opacity:0.1; fill:none\" points=\"\n",
       "  202.104,1423.18 202.104,47.2441 \n",
       "  \"/>\n",
       "<polyline clip-path=\"url(#clip212)\" style=\"stroke:#000000; stroke-linecap:butt; stroke-linejoin:round; stroke-width:2; stroke-opacity:0.1; fill:none\" points=\"\n",
       "  639.14,1423.18 639.14,47.2441 \n",
       "  \"/>\n",
       "<polyline clip-path=\"url(#clip212)\" style=\"stroke:#000000; stroke-linecap:butt; stroke-linejoin:round; stroke-width:2; stroke-opacity:0.1; fill:none\" points=\"\n",
       "  1076.18,1423.18 1076.18,47.2441 \n",
       "  \"/>\n",
       "<polyline clip-path=\"url(#clip212)\" style=\"stroke:#000000; stroke-linecap:butt; stroke-linejoin:round; stroke-width:2; stroke-opacity:0.1; fill:none\" points=\"\n",
       "  1513.21,1423.18 1513.21,47.2441 \n",
       "  \"/>\n",
       "<polyline clip-path=\"url(#clip212)\" style=\"stroke:#000000; stroke-linecap:butt; stroke-linejoin:round; stroke-width:2; stroke-opacity:0.1; fill:none\" points=\"\n",
       "  1950.25,1423.18 1950.25,47.2441 \n",
       "  \"/>\n",
       "<polyline clip-path=\"url(#clip210)\" style=\"stroke:#000000; stroke-linecap:butt; stroke-linejoin:round; stroke-width:4; stroke-opacity:1; fill:none\" points=\"\n",
       "  175.445,1423.18 2352.76,1423.18 \n",
       "  \"/>\n",
       "<polyline clip-path=\"url(#clip210)\" style=\"stroke:#000000; stroke-linecap:butt; stroke-linejoin:round; stroke-width:4; stroke-opacity:1; fill:none\" points=\"\n",
       "  202.104,1423.18 202.104,1404.28 \n",
       "  \"/>\n",
       "<polyline clip-path=\"url(#clip210)\" style=\"stroke:#000000; stroke-linecap:butt; stroke-linejoin:round; stroke-width:4; stroke-opacity:1; fill:none\" points=\"\n",
       "  639.14,1423.18 639.14,1404.28 \n",
       "  \"/>\n",
       "<polyline clip-path=\"url(#clip210)\" style=\"stroke:#000000; stroke-linecap:butt; stroke-linejoin:round; stroke-width:4; stroke-opacity:1; fill:none\" points=\"\n",
       "  1076.18,1423.18 1076.18,1404.28 \n",
       "  \"/>\n",
       "<polyline clip-path=\"url(#clip210)\" style=\"stroke:#000000; stroke-linecap:butt; stroke-linejoin:round; stroke-width:4; stroke-opacity:1; fill:none\" points=\"\n",
       "  1513.21,1423.18 1513.21,1404.28 \n",
       "  \"/>\n",
       "<polyline clip-path=\"url(#clip210)\" style=\"stroke:#000000; stroke-linecap:butt; stroke-linejoin:round; stroke-width:4; stroke-opacity:1; fill:none\" points=\"\n",
       "  1950.25,1423.18 1950.25,1404.28 \n",
       "  \"/>\n",
       "<path clip-path=\"url(#clip210)\" d=\"M176.792 1481.64 L184.431 1481.64 L184.431 1455.28 L176.121 1456.95 L176.121 1452.69 L184.385 1451.02 L189.06 1451.02 L189.06 1481.64 L196.699 1481.64 L196.699 1485.58 L176.792 1485.58 L176.792 1481.64 Z\" fill=\"#000000\" fill-rule=\"evenodd\" fill-opacity=\"1\" /><path clip-path=\"url(#clip210)\" d=\"M216.144 1454.1 Q212.533 1454.1 210.704 1457.66 Q208.898 1461.2 208.898 1468.33 Q208.898 1475.44 210.704 1479.01 Q212.533 1482.55 216.144 1482.55 Q219.778 1482.55 221.583 1479.01 Q223.412 1475.44 223.412 1468.33 Q223.412 1461.2 221.583 1457.66 Q219.778 1454.1 216.144 1454.1 M216.144 1450.39 Q221.954 1450.39 225.009 1455 Q228.088 1459.58 228.088 1468.33 Q228.088 1477.06 225.009 1481.67 Q221.954 1486.25 216.144 1486.25 Q210.333 1486.25 207.255 1481.67 Q204.199 1477.06 204.199 1468.33 Q204.199 1459.58 207.255 1455 Q210.333 1450.39 216.144 1450.39 Z\" fill=\"#000000\" fill-rule=\"evenodd\" fill-opacity=\"1\" /><path clip-path=\"url(#clip210)\" d=\"M614.325 1481.64 L621.964 1481.64 L621.964 1455.28 L613.654 1456.95 L613.654 1452.69 L621.918 1451.02 L626.594 1451.02 L626.594 1481.64 L634.232 1481.64 L634.232 1485.58 L614.325 1485.58 L614.325 1481.64 Z\" fill=\"#000000\" fill-rule=\"evenodd\" fill-opacity=\"1\" /><path clip-path=\"url(#clip210)\" d=\"M643.723 1451.02 L662.08 1451.02 L662.08 1454.96 L648.006 1454.96 L648.006 1463.43 Q649.024 1463.08 650.043 1462.92 Q651.061 1462.73 652.08 1462.73 Q657.867 1462.73 661.246 1465.9 Q664.626 1469.08 664.626 1474.49 Q664.626 1480.07 661.154 1483.17 Q657.681 1486.25 651.362 1486.25 Q649.186 1486.25 646.918 1485.88 Q644.672 1485.51 642.265 1484.77 L642.265 1480.07 Q644.348 1481.2 646.57 1481.76 Q648.793 1482.32 651.269 1482.32 Q655.274 1482.32 657.612 1480.21 Q659.95 1478.1 659.95 1474.49 Q659.95 1470.88 657.612 1468.77 Q655.274 1466.67 651.269 1466.67 Q649.394 1466.67 647.519 1467.08 Q645.668 1467.5 643.723 1468.38 L643.723 1451.02 Z\" fill=\"#000000\" fill-rule=\"evenodd\" fill-opacity=\"1\" /><path clip-path=\"url(#clip210)\" d=\"M1054.95 1481.64 L1071.27 1481.64 L1071.27 1485.58 L1049.32 1485.58 L1049.32 1481.64 Q1051.99 1478.89 1056.57 1474.26 Q1061.18 1469.61 1062.36 1468.27 Q1064.6 1465.74 1065.48 1464.01 Q1066.38 1462.25 1066.38 1460.56 Q1066.38 1457.8 1064.44 1456.07 Q1062.52 1454.33 1059.42 1454.33 Q1057.22 1454.33 1054.76 1455.09 Q1052.33 1455.86 1049.56 1457.41 L1049.56 1452.69 Q1052.38 1451.55 1054.83 1450.97 Q1057.29 1450.39 1059.32 1450.39 Q1064.69 1450.39 1067.89 1453.08 Q1071.08 1455.77 1071.08 1460.26 Q1071.08 1462.39 1070.27 1464.31 Q1069.49 1466.2 1067.38 1468.8 Q1066.8 1469.47 1063.7 1472.69 Q1060.6 1475.88 1054.95 1481.64 Z\" fill=\"#000000\" fill-rule=\"evenodd\" fill-opacity=\"1\" /><path clip-path=\"url(#clip210)\" d=\"M1091.08 1454.1 Q1087.47 1454.1 1085.64 1457.66 Q1083.84 1461.2 1083.84 1468.33 Q1083.84 1475.44 1085.64 1479.01 Q1087.47 1482.55 1091.08 1482.55 Q1094.72 1482.55 1096.52 1479.01 Q1098.35 1475.44 1098.35 1468.33 Q1098.35 1461.2 1096.52 1457.66 Q1094.72 1454.1 1091.08 1454.1 M1091.08 1450.39 Q1096.89 1450.39 1099.95 1455 Q1103.03 1459.58 1103.03 1468.33 Q1103.03 1477.06 1099.95 1481.67 Q1096.89 1486.25 1091.08 1486.25 Q1085.27 1486.25 1082.19 1481.67 Q1079.14 1477.06 1079.14 1468.33 Q1079.14 1459.58 1082.19 1455 Q1085.27 1450.39 1091.08 1450.39 Z\" fill=\"#000000\" fill-rule=\"evenodd\" fill-opacity=\"1\" /><path clip-path=\"url(#clip210)\" d=\"M1492.48 1481.64 L1508.8 1481.64 L1508.8 1485.58 L1486.86 1485.58 L1486.86 1481.64 Q1489.52 1478.89 1494.1 1474.26 Q1498.71 1469.61 1499.89 1468.27 Q1502.13 1465.74 1503.01 1464.01 Q1503.92 1462.25 1503.92 1460.56 Q1503.92 1457.8 1501.97 1456.07 Q1500.05 1454.33 1496.95 1454.33 Q1494.75 1454.33 1492.3 1455.09 Q1489.87 1455.86 1487.09 1457.41 L1487.09 1452.69 Q1489.91 1451.55 1492.37 1450.97 Q1494.82 1450.39 1496.86 1450.39 Q1502.23 1450.39 1505.42 1453.08 Q1508.62 1455.77 1508.62 1460.26 Q1508.62 1462.39 1507.81 1464.31 Q1507.02 1466.2 1504.91 1468.8 Q1504.33 1469.47 1501.23 1472.69 Q1498.13 1475.88 1492.48 1481.64 Z\" fill=\"#000000\" fill-rule=\"evenodd\" fill-opacity=\"1\" /><path clip-path=\"url(#clip210)\" d=\"M1518.66 1451.02 L1537.02 1451.02 L1537.02 1454.96 L1522.94 1454.96 L1522.94 1463.43 Q1523.96 1463.08 1524.98 1462.92 Q1526 1462.73 1527.02 1462.73 Q1532.81 1462.73 1536.19 1465.9 Q1539.56 1469.08 1539.56 1474.49 Q1539.56 1480.07 1536.09 1483.17 Q1532.62 1486.25 1526.3 1486.25 Q1524.13 1486.25 1521.86 1485.88 Q1519.61 1485.51 1517.2 1484.77 L1517.2 1480.07 Q1519.29 1481.2 1521.51 1481.76 Q1523.73 1482.32 1526.21 1482.32 Q1530.21 1482.32 1532.55 1480.21 Q1534.89 1478.1 1534.89 1474.49 Q1534.89 1470.88 1532.55 1468.77 Q1530.21 1466.67 1526.21 1466.67 Q1524.33 1466.67 1522.46 1467.08 Q1520.61 1467.5 1518.66 1468.38 L1518.66 1451.02 Z\" fill=\"#000000\" fill-rule=\"evenodd\" fill-opacity=\"1\" /><path clip-path=\"url(#clip210)\" d=\"M1939.09 1466.95 Q1942.45 1467.66 1944.32 1469.93 Q1946.22 1472.2 1946.22 1475.53 Q1946.22 1480.65 1942.7 1483.45 Q1939.18 1486.25 1932.7 1486.25 Q1930.52 1486.25 1928.21 1485.81 Q1925.92 1485.39 1923.46 1484.54 L1923.46 1480.02 Q1925.41 1481.16 1927.72 1481.74 Q1930.04 1482.32 1932.56 1482.32 Q1936.96 1482.32 1939.25 1480.58 Q1941.57 1478.84 1941.57 1475.53 Q1941.57 1472.48 1939.41 1470.77 Q1937.28 1469.03 1933.46 1469.03 L1929.44 1469.03 L1929.44 1465.19 L1933.65 1465.19 Q1937.1 1465.19 1938.93 1463.82 Q1940.76 1462.43 1940.76 1459.84 Q1940.76 1457.18 1938.86 1455.77 Q1936.98 1454.33 1933.46 1454.33 Q1931.54 1454.33 1929.34 1454.75 Q1927.14 1455.16 1924.51 1456.04 L1924.51 1451.88 Q1927.17 1451.14 1929.48 1450.77 Q1931.82 1450.39 1933.88 1450.39 Q1939.2 1450.39 1942.31 1452.83 Q1945.41 1455.23 1945.41 1459.35 Q1945.41 1462.22 1943.76 1464.21 Q1942.12 1466.18 1939.09 1466.95 Z\" fill=\"#000000\" fill-rule=\"evenodd\" fill-opacity=\"1\" /><path clip-path=\"url(#clip210)\" d=\"M1965.08 1454.1 Q1961.47 1454.1 1959.64 1457.66 Q1957.84 1461.2 1957.84 1468.33 Q1957.84 1475.44 1959.64 1479.01 Q1961.47 1482.55 1965.08 1482.55 Q1968.72 1482.55 1970.52 1479.01 Q1972.35 1475.44 1972.35 1468.33 Q1972.35 1461.2 1970.52 1457.66 Q1968.72 1454.1 1965.08 1454.1 M1965.08 1450.39 Q1970.89 1450.39 1973.95 1455 Q1977.03 1459.58 1977.03 1468.33 Q1977.03 1477.06 1973.95 1481.67 Q1970.89 1486.25 1965.08 1486.25 Q1959.27 1486.25 1956.2 1481.67 Q1953.14 1477.06 1953.14 1468.33 Q1953.14 1459.58 1956.2 1455 Q1959.27 1450.39 1965.08 1450.39 Z\" fill=\"#000000\" fill-rule=\"evenodd\" fill-opacity=\"1\" /><path clip-path=\"url(#clip210)\" d=\"M1196.94 1520.52 L1206.52 1520.52 L1218.65 1552.86 L1230.84 1520.52 L1240.42 1520.52 L1240.42 1568.04 L1234.15 1568.04 L1234.15 1526.32 L1221.9 1558.91 L1215.43 1558.91 L1203.18 1526.32 L1203.18 1568.04 L1196.94 1568.04 L1196.94 1520.52 Z\" fill=\"#000000\" fill-rule=\"evenodd\" fill-opacity=\"1\" /><path clip-path=\"url(#clip210)\" d=\"M1259.61 1525.81 L1259.61 1543.66 L1267.7 1543.66 Q1272.19 1543.66 1274.64 1541.34 Q1277.09 1539.02 1277.09 1534.72 Q1277.09 1530.45 1274.64 1528.13 Q1272.19 1525.81 1267.7 1525.81 L1259.61 1525.81 M1253.18 1520.52 L1267.7 1520.52 Q1275.69 1520.52 1279.76 1524.15 Q1283.87 1527.75 1283.87 1534.72 Q1283.87 1541.75 1279.76 1545.35 Q1275.69 1548.95 1267.7 1548.95 L1259.61 1548.95 L1259.61 1568.04 L1253.18 1568.04 L1253.18 1520.52 Z\" fill=\"#000000\" fill-rule=\"evenodd\" fill-opacity=\"1\" /><path clip-path=\"url(#clip210)\" d=\"M1324.89 1561.26 L1324.89 1548.5 L1314.39 1548.5 L1314.39 1543.22 L1331.26 1543.22 L1331.26 1563.62 Q1327.53 1566.26 1323.05 1567.63 Q1318.56 1568.97 1313.47 1568.97 Q1302.33 1568.97 1296.02 1562.47 Q1289.75 1555.95 1289.75 1544.33 Q1289.75 1532.68 1296.02 1526.19 Q1302.33 1519.66 1313.47 1519.66 Q1318.11 1519.66 1322.28 1520.81 Q1326.48 1521.96 1330.02 1524.18 L1330.02 1531.03 Q1326.45 1528 1322.44 1526.48 Q1318.43 1524.95 1314.01 1524.95 Q1305.29 1524.95 1300.89 1529.82 Q1296.53 1534.69 1296.53 1544.33 Q1296.53 1553.94 1300.89 1558.81 Q1305.29 1563.68 1314.01 1563.68 Q1317.41 1563.68 1320.09 1563.11 Q1322.76 1562.51 1324.89 1561.26 Z\" fill=\"#000000\" fill-rule=\"evenodd\" fill-opacity=\"1\" /><polyline clip-path=\"url(#clip212)\" style=\"stroke:#000000; stroke-linecap:butt; stroke-linejoin:round; stroke-width:2; stroke-opacity:0.1; fill:none\" points=\"\n",
       "  175.445,1222.6 2352.76,1222.6 \n",
       "  \"/>\n",
       "<polyline clip-path=\"url(#clip212)\" style=\"stroke:#000000; stroke-linecap:butt; stroke-linejoin:round; stroke-width:2; stroke-opacity:0.1; fill:none\" points=\"\n",
       "  175.445,890.706 2352.76,890.706 \n",
       "  \"/>\n",
       "<polyline clip-path=\"url(#clip212)\" style=\"stroke:#000000; stroke-linecap:butt; stroke-linejoin:round; stroke-width:2; stroke-opacity:0.1; fill:none\" points=\"\n",
       "  175.445,558.808 2352.76,558.808 \n",
       "  \"/>\n",
       "<polyline clip-path=\"url(#clip212)\" style=\"stroke:#000000; stroke-linecap:butt; stroke-linejoin:round; stroke-width:2; stroke-opacity:0.1; fill:none\" points=\"\n",
       "  175.445,226.91 2352.76,226.91 \n",
       "  \"/>\n",
       "<polyline clip-path=\"url(#clip210)\" style=\"stroke:#000000; stroke-linecap:butt; stroke-linejoin:round; stroke-width:4; stroke-opacity:1; fill:none\" points=\"\n",
       "  175.445,1423.18 175.445,47.2441 \n",
       "  \"/>\n",
       "<polyline clip-path=\"url(#clip210)\" style=\"stroke:#000000; stroke-linecap:butt; stroke-linejoin:round; stroke-width:4; stroke-opacity:1; fill:none\" points=\"\n",
       "  175.445,1222.6 194.343,1222.6 \n",
       "  \"/>\n",
       "<polyline clip-path=\"url(#clip210)\" style=\"stroke:#000000; stroke-linecap:butt; stroke-linejoin:round; stroke-width:4; stroke-opacity:1; fill:none\" points=\"\n",
       "  175.445,890.706 194.343,890.706 \n",
       "  \"/>\n",
       "<polyline clip-path=\"url(#clip210)\" style=\"stroke:#000000; stroke-linecap:butt; stroke-linejoin:round; stroke-width:4; stroke-opacity:1; fill:none\" points=\"\n",
       "  175.445,558.808 194.343,558.808 \n",
       "  \"/>\n",
       "<polyline clip-path=\"url(#clip210)\" style=\"stroke:#000000; stroke-linecap:butt; stroke-linejoin:round; stroke-width:4; stroke-opacity:1; fill:none\" points=\"\n",
       "  175.445,226.91 194.343,226.91 \n",
       "  \"/>\n",
       "<path clip-path=\"url(#clip210)\" d=\"M123.126 1235.95 L139.445 1235.95 L139.445 1239.88 L117.501 1239.88 L117.501 1235.95 Q120.163 1233.19 124.746 1228.56 Q129.353 1223.91 130.533 1222.57 Q132.779 1220.05 133.658 1218.31 Q134.561 1216.55 134.561 1214.86 Q134.561 1212.11 132.617 1210.37 Q130.695 1208.63 127.593 1208.63 Q125.394 1208.63 122.941 1209.4 Q120.51 1210.16 117.732 1211.71 L117.732 1206.99 Q120.556 1205.86 123.01 1205.28 Q125.464 1204.7 127.501 1204.7 Q132.871 1204.7 136.066 1207.38 Q139.26 1210.07 139.26 1214.56 Q139.26 1216.69 138.45 1218.61 Q137.663 1220.51 135.556 1223.1 Q134.978 1223.77 131.876 1226.99 Q128.774 1230.18 123.126 1235.95 Z\" fill=\"#000000\" fill-rule=\"evenodd\" fill-opacity=\"1\" /><path clip-path=\"url(#clip210)\" d=\"M132.316 889.352 Q135.672 890.07 137.547 892.338 Q139.445 894.607 139.445 897.94 Q139.445 903.056 135.927 905.857 Q132.408 908.657 125.927 908.657 Q123.751 908.657 121.436 908.218 Q119.144 907.801 116.691 906.944 L116.691 902.431 Q118.635 903.565 120.95 904.144 Q123.265 904.722 125.788 904.722 Q130.186 904.722 132.478 902.986 Q134.792 901.25 134.792 897.94 Q134.792 894.884 132.64 893.171 Q130.51 891.435 126.691 891.435 L122.663 891.435 L122.663 887.593 L126.876 887.593 Q130.325 887.593 132.154 886.227 Q133.982 884.838 133.982 882.246 Q133.982 879.583 132.084 878.171 Q130.209 876.736 126.691 876.736 Q124.769 876.736 122.57 877.153 Q120.371 877.57 117.732 878.449 L117.732 874.283 Q120.394 873.542 122.709 873.171 Q125.047 872.801 127.107 872.801 Q132.431 872.801 135.533 875.232 Q138.635 877.639 138.635 881.759 Q138.635 884.63 136.992 886.62 Q135.348 888.588 132.316 889.352 Z\" fill=\"#000000\" fill-rule=\"evenodd\" fill-opacity=\"1\" /><path clip-path=\"url(#clip210)\" d=\"M129.862 545.602 L118.056 564.051 L129.862 564.051 L129.862 545.602 M128.635 541.528 L134.515 541.528 L134.515 564.051 L139.445 564.051 L139.445 567.94 L134.515 567.94 L134.515 576.088 L129.862 576.088 L129.862 567.94 L114.26 567.94 L114.26 563.426 L128.635 541.528 Z\" fill=\"#000000\" fill-rule=\"evenodd\" fill-opacity=\"1\" /><path clip-path=\"url(#clip210)\" d=\"M118.543 209.63 L136.899 209.63 L136.899 213.566 L122.825 213.566 L122.825 222.038 Q123.843 221.69 124.862 221.528 Q125.88 221.343 126.899 221.343 Q132.686 221.343 136.066 224.515 Q139.445 227.686 139.445 233.102 Q139.445 238.681 135.973 241.783 Q132.501 244.862 126.181 244.862 Q124.005 244.862 121.737 244.491 Q119.492 244.121 117.084 243.38 L117.084 238.681 Q119.168 239.815 121.39 240.371 Q123.612 240.927 126.089 240.927 Q130.093 240.927 132.431 238.82 Q134.769 236.714 134.769 233.102 Q134.769 229.491 132.431 227.385 Q130.093 225.278 126.089 225.278 Q124.214 225.278 122.339 225.695 Q120.487 226.112 118.543 226.991 L118.543 209.63 Z\" fill=\"#000000\" fill-rule=\"evenodd\" fill-opacity=\"1\" /><path clip-path=\"url(#clip210)\" d=\"M16.4842 846.898 L16.4842 840.405 L56.6518 830.411 L16.4842 820.449 L16.4842 813.224 L56.6518 803.23 L16.4842 793.267 L16.4842 786.742 L64.0042 798.678 L64.0042 806.763 L22.7544 816.788 L64.0042 826.91 L64.0042 834.994 L16.4842 846.898 Z\" fill=\"#000000\" fill-rule=\"evenodd\" fill-opacity=\"1\" /><path clip-path=\"url(#clip210)\" d=\"M44.7161 751.795 L47.5806 751.795 L47.5806 778.722 Q53.6281 778.34 56.8109 775.093 Q59.9619 771.815 59.9619 765.99 Q59.9619 762.616 59.1344 759.465 Q58.3069 756.282 56.6518 753.163 L62.1899 753.163 Q63.5267 756.314 64.227 759.624 Q64.9272 762.935 64.9272 766.34 Q64.9272 774.87 59.9619 779.867 Q54.9967 784.833 46.5303 784.833 Q37.7774 784.833 32.6531 780.122 Q27.4968 775.38 27.4968 767.359 Q27.4968 760.166 32.1438 755.996 Q36.7589 751.795 44.7161 751.795 M42.9973 757.651 Q38.1912 757.715 35.3266 760.357 Q32.4621 762.966 32.4621 767.295 Q32.4621 772.197 35.2312 775.157 Q38.0002 778.085 43.0292 778.531 L42.9973 757.651 Z\" fill=\"#000000\" fill-rule=\"evenodd\" fill-opacity=\"1\" /><path clip-path=\"url(#clip210)\" d=\"M28.3562 742.182 L28.3562 736.326 L64.0042 736.326 L64.0042 742.182 L28.3562 742.182 M14.479 742.182 L14.479 736.326 L21.895 736.326 L21.895 742.182 L14.479 742.182 Z\" fill=\"#000000\" fill-rule=\"evenodd\" fill-opacity=\"1\" /><path clip-path=\"url(#clip210)\" d=\"M45.7664 700.614 Q39.4007 700.614 35.8996 703.256 Q32.3984 705.866 32.3984 710.609 Q32.3984 715.319 35.8996 717.961 Q39.4007 720.571 45.7664 720.571 Q52.1003 720.571 55.6014 717.961 Q59.1026 715.319 59.1026 710.609 Q59.1026 705.866 55.6014 703.256 Q52.1003 700.614 45.7664 700.614 M59.58 694.758 Q68.683 694.758 73.1071 698.8 Q77.5631 702.842 77.5631 711.181 Q77.5631 714.269 77.0857 717.006 Q76.6401 719.743 75.6852 722.321 L69.9879 722.321 Q71.3884 719.743 72.0568 717.229 Q72.7252 714.714 72.7252 712.104 Q72.7252 706.343 69.7015 703.479 Q66.7096 700.614 60.6303 700.614 L57.7339 700.614 Q60.885 702.429 62.4446 705.261 Q64.0042 708.094 64.0042 712.041 Q64.0042 718.597 59.0071 722.608 Q54.01 726.618 45.7664 726.618 Q37.491 726.618 32.4939 722.608 Q27.4968 718.597 27.4968 712.041 Q27.4968 708.094 29.0564 705.261 Q30.616 702.429 33.7671 700.614 L28.3562 700.614 L28.3562 694.758 L59.58 694.758 Z\" fill=\"#000000\" fill-rule=\"evenodd\" fill-opacity=\"1\" /><path clip-path=\"url(#clip210)\" d=\"M42.4881 653.063 L64.0042 653.063 L64.0042 658.919 L42.679 658.919 Q37.6183 658.919 35.1038 660.892 Q32.5894 662.866 32.5894 666.812 Q32.5894 671.555 35.6131 674.292 Q38.6368 677.029 43.8567 677.029 L64.0042 677.029 L64.0042 682.918 L14.479 682.918 L14.479 677.029 L33.8944 677.029 Q30.6797 674.929 29.0883 672.096 Q27.4968 669.231 27.4968 665.507 Q27.4968 659.365 31.3163 656.214 Q35.1038 653.063 42.4881 653.063 Z\" fill=\"#000000\" fill-rule=\"evenodd\" fill-opacity=\"1\" /><path clip-path=\"url(#clip210)\" d=\"M18.2347 635.589 L28.3562 635.589 L28.3562 623.526 L32.9077 623.526 L32.9077 635.589 L52.2594 635.589 Q56.6199 635.589 57.8613 634.411 Q59.1026 633.202 59.1026 629.541 L59.1026 623.526 L64.0042 623.526 L64.0042 629.541 Q64.0042 636.321 61.4897 638.899 Q58.9434 641.477 52.2594 641.477 L32.9077 641.477 L32.9077 645.774 L28.3562 645.774 L28.3562 641.477 L18.2347 641.477 L18.2347 635.589 Z\" fill=\"#000000\" fill-rule=\"evenodd\" fill-opacity=\"1\" /><circle clip-path=\"url(#clip212)\" cx=\"1163.58\" cy=\"1016.83\" r=\"14\" fill=\"#009af9\" fill-rule=\"evenodd\" fill-opacity=\"1\" stroke=\"#000000\" stroke-opacity=\"1\" stroke-width=\"3.2\"/>\n",
       "<circle clip-path=\"url(#clip212)\" cx=\"1163.58\" cy=\"932.193\" r=\"14\" fill=\"#009af9\" fill-rule=\"evenodd\" fill-opacity=\"1\" stroke=\"#000000\" stroke-opacity=\"1\" stroke-width=\"3.2\"/>\n",
       "<circle clip-path=\"url(#clip212)\" cx=\"1320.92\" cy=\"1116.4\" r=\"14\" fill=\"#009af9\" fill-rule=\"evenodd\" fill-opacity=\"1\" stroke=\"#000000\" stroke-opacity=\"1\" stroke-width=\"3.2\"/>\n",
       "<circle clip-path=\"url(#clip212)\" cx=\"1198.55\" cy=\"819.348\" r=\"14\" fill=\"#009af9\" fill-rule=\"evenodd\" fill-opacity=\"1\" stroke=\"#000000\" stroke-opacity=\"1\" stroke-width=\"3.2\"/>\n",
       "<circle clip-path=\"url(#clip212)\" cx=\"962.546\" cy=\"744.671\" r=\"14\" fill=\"#009af9\" fill-rule=\"evenodd\" fill-opacity=\"1\" stroke=\"#000000\" stroke-opacity=\"1\" stroke-width=\"3.2\"/>\n",
       "<circle clip-path=\"url(#clip212)\" cx=\"910.102\" cy=\"738.033\" r=\"14\" fill=\"#009af9\" fill-rule=\"evenodd\" fill-opacity=\"1\" stroke=\"#000000\" stroke-opacity=\"1\" stroke-width=\"3.2\"/>\n",
       "<circle clip-path=\"url(#clip212)\" cx=\"577.955\" cy=\"701.524\" r=\"14\" fill=\"#009af9\" fill-rule=\"evenodd\" fill-opacity=\"1\" stroke=\"#000000\" stroke-opacity=\"1\" stroke-width=\"3.2\"/>\n",
       "<circle clip-path=\"url(#clip212)\" cx=\"1460.77\" cy=\"827.646\" r=\"14\" fill=\"#009af9\" fill-rule=\"evenodd\" fill-opacity=\"1\" stroke=\"#000000\" stroke-opacity=\"1\" stroke-width=\"3.2\"/>\n",
       "<circle clip-path=\"url(#clip212)\" cx=\"1320.92\" cy=\"840.921\" r=\"14\" fill=\"#009af9\" fill-rule=\"evenodd\" fill-opacity=\"1\" stroke=\"#000000\" stroke-opacity=\"1\" stroke-width=\"3.2\"/>\n",
       "<circle clip-path=\"url(#clip212)\" cx=\"1006.25\" cy=\"744.671\" r=\"14\" fill=\"#009af9\" fill-rule=\"evenodd\" fill-opacity=\"1\" stroke=\"#000000\" stroke-opacity=\"1\" stroke-width=\"3.2\"/>\n",
       "<circle clip-path=\"url(#clip212)\" cx=\"883.88\" cy=\"744.671\" r=\"14\" fill=\"#009af9\" fill-rule=\"evenodd\" fill-opacity=\"1\" stroke=\"#000000\" stroke-opacity=\"1\" stroke-width=\"3.2\"/>\n",
       "<circle clip-path=\"url(#clip212)\" cx=\"761.51\" cy=\"535.575\" r=\"14\" fill=\"#009af9\" fill-rule=\"evenodd\" fill-opacity=\"1\" stroke=\"#000000\" stroke-opacity=\"1\" stroke-width=\"3.2\"/>\n",
       "<circle clip-path=\"url(#clip212)\" cx=\"840.176\" cy=\"648.421\" r=\"14\" fill=\"#009af9\" fill-rule=\"evenodd\" fill-opacity=\"1\" stroke=\"#000000\" stroke-opacity=\"1\" stroke-width=\"3.2\"/>\n",
       "<circle clip-path=\"url(#clip212)\" cx=\"656.621\" cy=\"631.826\" r=\"14\" fill=\"#009af9\" fill-rule=\"evenodd\" fill-opacity=\"1\" stroke=\"#000000\" stroke-opacity=\"1\" stroke-width=\"3.2\"/>\n",
       "<circle clip-path=\"url(#clip212)\" cx=\"237.067\" cy=\"143.936\" r=\"14\" fill=\"#009af9\" fill-rule=\"evenodd\" fill-opacity=\"1\" stroke=\"#000000\" stroke-opacity=\"1\" stroke-width=\"3.2\"/>\n",
       "<circle clip-path=\"url(#clip212)\" cx=\"237.067\" cy=\"86.1857\" r=\"14\" fill=\"#009af9\" fill-rule=\"evenodd\" fill-opacity=\"1\" stroke=\"#000000\" stroke-opacity=\"1\" stroke-width=\"3.2\"/>\n",
       "<circle clip-path=\"url(#clip212)\" cx=\"612.918\" cy=\"112.406\" r=\"14\" fill=\"#009af9\" fill-rule=\"evenodd\" fill-opacity=\"1\" stroke=\"#000000\" stroke-opacity=\"1\" stroke-width=\"3.2\"/>\n",
       "<circle clip-path=\"url(#clip212)\" cx=\"2160.02\" cy=\"1156.22\" r=\"14\" fill=\"#009af9\" fill-rule=\"evenodd\" fill-opacity=\"1\" stroke=\"#000000\" stroke-opacity=\"1\" stroke-width=\"3.2\"/>\n",
       "<circle clip-path=\"url(#clip212)\" cx=\"1985.21\" cy=\"1350.38\" r=\"14\" fill=\"#009af9\" fill-rule=\"evenodd\" fill-opacity=\"1\" stroke=\"#000000\" stroke-opacity=\"1\" stroke-width=\"3.2\"/>\n",
       "<circle clip-path=\"url(#clip212)\" cx=\"2291.13\" cy=\"1277.37\" r=\"14\" fill=\"#009af9\" fill-rule=\"evenodd\" fill-opacity=\"1\" stroke=\"#000000\" stroke-opacity=\"1\" stroke-width=\"3.2\"/>\n",
       "<circle clip-path=\"url(#clip212)\" cx=\"1207.29\" cy=\"1068.27\" r=\"14\" fill=\"#009af9\" fill-rule=\"evenodd\" fill-opacity=\"1\" stroke=\"#000000\" stroke-opacity=\"1\" stroke-width=\"3.2\"/>\n",
       "<circle clip-path=\"url(#clip212)\" cx=\"682.843\" cy=\"718.119\" r=\"14\" fill=\"#009af9\" fill-rule=\"evenodd\" fill-opacity=\"1\" stroke=\"#000000\" stroke-opacity=\"1\" stroke-width=\"3.2\"/>\n",
       "<circle clip-path=\"url(#clip212)\" cx=\"656.621\" cy=\"746.331\" r=\"14\" fill=\"#009af9\" fill-rule=\"evenodd\" fill-opacity=\"1\" stroke=\"#000000\" stroke-opacity=\"1\" stroke-width=\"3.2\"/>\n",
       "<circle clip-path=\"url(#clip212)\" cx=\"490.548\" cy=\"611.912\" r=\"14\" fill=\"#009af9\" fill-rule=\"evenodd\" fill-opacity=\"1\" stroke=\"#000000\" stroke-opacity=\"1\" stroke-width=\"3.2\"/>\n",
       "<circle clip-path=\"url(#clip212)\" cx=\"1006.25\" cy=\"610.252\" r=\"14\" fill=\"#009af9\" fill-rule=\"evenodd\" fill-opacity=\"1\" stroke=\"#000000\" stroke-opacity=\"1\" stroke-width=\"3.2\"/>\n",
       "<circle clip-path=\"url(#clip212)\" cx=\"1714.25\" cy=\"1244.18\" r=\"14\" fill=\"#009af9\" fill-rule=\"evenodd\" fill-opacity=\"1\" stroke=\"#000000\" stroke-opacity=\"1\" stroke-width=\"3.2\"/>\n",
       "<circle clip-path=\"url(#clip212)\" cx=\"1600.62\" cy=\"1176.14\" r=\"14\" fill=\"#009af9\" fill-rule=\"evenodd\" fill-opacity=\"1\" stroke=\"#000000\" stroke-opacity=\"1\" stroke-width=\"3.2\"/>\n",
       "<circle clip-path=\"url(#clip212)\" cx=\"1985.21\" cy=\"1384.24\" r=\"14\" fill=\"#009af9\" fill-rule=\"evenodd\" fill-opacity=\"1\" stroke=\"#000000\" stroke-opacity=\"1\" stroke-width=\"3.2\"/>\n",
       "<circle clip-path=\"url(#clip212)\" cx=\"709.066\" cy=\"834.283\" r=\"14\" fill=\"#009af9\" fill-rule=\"evenodd\" fill-opacity=\"1\" stroke=\"#000000\" stroke-opacity=\"1\" stroke-width=\"3.2\"/>\n",
       "<circle clip-path=\"url(#clip212)\" cx=\"1049.95\" cy=\"967.043\" r=\"14\" fill=\"#009af9\" fill-rule=\"evenodd\" fill-opacity=\"1\" stroke=\"#000000\" stroke-opacity=\"1\" stroke-width=\"3.2\"/>\n",
       "<circle clip-path=\"url(#clip212)\" cx=\"639.14\" cy=\"701.524\" r=\"14\" fill=\"#009af9\" fill-rule=\"evenodd\" fill-opacity=\"1\" stroke=\"#000000\" stroke-opacity=\"1\" stroke-width=\"3.2\"/>\n",
       "<circle clip-path=\"url(#clip212)\" cx=\"1198.55\" cy=\"963.724\" r=\"14\" fill=\"#009af9\" fill-rule=\"evenodd\" fill-opacity=\"1\" stroke=\"#000000\" stroke-opacity=\"1\" stroke-width=\"3.2\"/>\n",
       "</svg>\n"
      ]
     },
     "execution_count": 26,
     "metadata": {},
     "output_type": "execute_result"
    }
   ],
   "source": [
    "# Produce scatterplot uxinb the plot package scatter package\n",
    "scatter(red_df[:, \"mpg\"], red_df[:, \"wt\"], xlabel = \"MPG\", ylabel = \"Weight\", label = false)"
   ]
  }
 ],
 "metadata": {
  "kernelspec": {
   "display_name": "Julia 1.7.3",
   "language": "julia",
   "name": "julia-1.7"
  },
  "language_info": {
   "file_extension": ".jl",
   "mimetype": "application/julia",
   "name": "julia",
   "version": "1.7.3"
  }
 },
 "nbformat": 4,
 "nbformat_minor": 5
}
