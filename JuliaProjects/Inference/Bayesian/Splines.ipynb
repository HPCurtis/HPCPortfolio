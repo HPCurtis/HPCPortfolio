{
 "cells": [
  {
   "cell_type": "code",
   "execution_count": 8,
   "id": "f24ed4e6",
   "metadata": {},
   "outputs": [],
   "source": [
    "using Turing, CSV, DataFrames, \n",
    "      HypothesisTests, Plots,\n",
    "      Random, DynamicHMC, BSplineKit"
   ]
  },
  {
   "cell_type": "code",
   "execution_count": 7,
   "id": "8fd99975",
   "metadata": {},
   "outputs": [
    {
     "name": "stderr",
     "output_type": "stream",
     "text": [
      "\u001b[32m\u001b[1m   Resolving\u001b[22m\u001b[39m package versions...\n",
      "\u001b[32m\u001b[1m  No Changes\u001b[22m\u001b[39m to `~/.julia/environments/v1.9/Project.toml`\n",
      "\u001b[32m\u001b[1m  No Changes\u001b[22m\u001b[39m to `~/.julia/environments/v1.9/Manifest.toml`\n"
     ]
    }
   ],
   "source": [
    "import Pkg; Pkg.add(\"BSplineKit\")"
   ]
  },
  {
   "cell_type": "code",
   "execution_count": 9,
   "id": "7fac1318",
   "metadata": {},
   "outputs": [
    {
     "data": {
      "text/plain": [
       "13-element Spline{Float64}:\n",
       " basis: 13-element BSplineBasis of order 4, domain [-1.0, 1.0]\n",
       " order: 4\n",
       " knots: [-1.0, -1.0, -1.0, -1.0, -0.8, -0.6, -0.4, -0.2, 0.0, 0.2, 0.4, 0.6, 0.8, 1.0, 1.0, 1.0, 1.0]\n",
       " coefficients: [0.572339, 0.0130269, 0.860338, 0.61153, 0.068289, 0.594173, 0.721206, 0.216723, 0.672714, 0.796911, 0.377672, 0.657254, 0.886406]"
      ]
     },
     "execution_count": 9,
     "metadata": {},
     "output_type": "execute_result"
    }
   ],
   "source": [
    "B = BSplineBasis(BSplineOrder(4), -1:0.2:1);\n",
    "\n",
    "coefs = rand(length(B));\n",
    "\n",
    "S = Spline(B, coefs)"
   ]
  }
 ],
 "metadata": {
  "kernelspec": {
   "display_name": "Julia 1.9.1",
   "language": "julia",
   "name": "julia-1.9"
  },
  "language_info": {
   "file_extension": ".jl",
   "mimetype": "application/julia",
   "name": "julia",
   "version": "1.9.1"
  }
 },
 "nbformat": 4,
 "nbformat_minor": 5
}
