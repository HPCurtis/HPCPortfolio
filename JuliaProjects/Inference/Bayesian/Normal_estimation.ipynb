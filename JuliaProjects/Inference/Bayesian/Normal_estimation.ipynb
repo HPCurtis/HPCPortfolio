{
 "cells": [
  {
   "cell_type": "code",
   "execution_count": 37,
   "id": "a4a42748",
   "metadata": {},
   "outputs": [
    {
     "name": "stderr",
     "output_type": "stream",
     "text": [
      "WARNING: using DynamicHMC.NUTS in module Main conflicts with an existing identifier.\n"
     ]
    }
   ],
   "source": [
    "using Turing, CSV, DataFrames, \n",
    "      HypothesisTests, Plots,\n",
    "      Random, DynamicHMC"
   ]
  },
  {
   "cell_type": "code",
   "execution_count": 36,
   "id": "cd16f94e",
   "metadata": {},
   "outputs": [
    {
     "name": "stderr",
     "output_type": "stream",
     "text": [
      "\u001b[32m\u001b[1m    Updating\u001b[22m\u001b[39m registry at `~/.julia/registries/General.toml`\n",
      "\u001b[32m\u001b[1m   Resolving\u001b[22m\u001b[39m package versions...\n",
      "\u001b[32m\u001b[1m   Installed\u001b[22m\u001b[39m SimpleUnPack ───────── v1.1.0\n",
      "\u001b[32m\u001b[1m   Installed\u001b[22m\u001b[39m NamedDims ──────────── v1.2.1\n",
      "\u001b[32m\u001b[1m   Installed\u001b[22m\u001b[39m TupleTools ─────────── v1.3.0\n",
      "\u001b[32m\u001b[1m   Installed\u001b[22m\u001b[39m GPUArrays ──────────── v8.4.1\n",
      "\u001b[32m\u001b[1m   Installed\u001b[22m\u001b[39m DynamicHMC ─────────── v3.4.6\n",
      "\u001b[32m\u001b[1m   Installed\u001b[22m\u001b[39m TensorCast ─────────── v0.4.4\n",
      "\u001b[32m\u001b[1m   Installed\u001b[22m\u001b[39m LLVM ───────────────── v4.17.1\n",
      "\u001b[32m\u001b[1m   Installed\u001b[22m\u001b[39m LazyStack ──────────── v0.0.8\n",
      "\u001b[32m\u001b[1m   Installed\u001b[22m\u001b[39m LLVMExtra_jll ──────── v0.0.18+0\n",
      "\u001b[32m\u001b[1m   Installed\u001b[22m\u001b[39m LogDensityProblems ─── v2.1.1\n",
      "\u001b[32m\u001b[1m   Installed\u001b[22m\u001b[39m Strided ────────────── v1.2.3\n",
      "\u001b[32m\u001b[1m   Installed\u001b[22m\u001b[39m CovarianceEstimation ─ v0.2.9\n",
      "\u001b[32m\u001b[1m   Installed\u001b[22m\u001b[39m TransmuteDims ──────── v0.1.13\n",
      "\u001b[32m\u001b[1m    Updating\u001b[22m\u001b[39m `~/.julia/environments/v1.7/Project.toml`\n",
      " \u001b[90m [bbc10e6e] \u001b[39m\u001b[92m+ DynamicHMC v3.4.6\u001b[39m\n",
      "\u001b[32m\u001b[1m    Updating\u001b[22m\u001b[39m `~/.julia/environments/v1.7/Manifest.toml`\n",
      " \u001b[90m [587fd27a] \u001b[39m\u001b[92m+ CovarianceEstimation v0.2.9\u001b[39m\n",
      " \u001b[90m [bbc10e6e] \u001b[39m\u001b[92m+ DynamicHMC v3.4.6\u001b[39m\n",
      " \u001b[90m [0c68f7d7] \u001b[39m\u001b[92m+ GPUArrays v8.4.1\u001b[39m\n",
      " \u001b[90m [929cbde3] \u001b[39m\u001b[92m+ LLVM v4.17.1\u001b[39m\n",
      " \u001b[90m [1fad7336] \u001b[39m\u001b[92m+ LazyStack v0.0.8\u001b[39m\n",
      " \u001b[90m [6fdf6af0] \u001b[39m\u001b[92m+ LogDensityProblems v2.1.1\u001b[39m\n",
      " \u001b[90m [356022a1] \u001b[39m\u001b[92m+ NamedDims v1.2.1\u001b[39m\n",
      " \u001b[90m [ce78b400] \u001b[39m\u001b[92m+ SimpleUnPack v1.1.0\u001b[39m\n",
      " \u001b[90m [5e0ebb24] \u001b[39m\u001b[92m+ Strided v1.2.3\u001b[39m\n",
      " \u001b[90m [02d47bb6] \u001b[39m\u001b[92m+ TensorCast v0.4.4\u001b[39m\n",
      " \u001b[90m [24ddb15e] \u001b[39m\u001b[92m+ TransmuteDims v0.1.13\u001b[39m\n",
      " \u001b[90m [9d95972d] \u001b[39m\u001b[92m+ TupleTools v1.3.0\u001b[39m\n",
      " \u001b[90m [dad2f222] \u001b[39m\u001b[92m+ LLVMExtra_jll v0.0.18+0\u001b[39m\n",
      "\u001b[32m\u001b[1mPrecompiling\u001b[22m\u001b[39m project...\n",
      "\u001b[32m  ✓ \u001b[39m\u001b[90mSimpleUnPack\u001b[39m\n",
      "\u001b[32m  ✓ \u001b[39m\u001b[90mTupleTools\u001b[39m\n",
      "\u001b[32m  ✓ \u001b[39m\u001b[90mLogDensityProblems\u001b[39m\n",
      "\u001b[32m  ✓ \u001b[39m\u001b[90mCovarianceEstimation\u001b[39m\n",
      "\u001b[32m  ✓ \u001b[39m\u001b[90mStrided\u001b[39m\n",
      "\u001b[32m  ✓ \u001b[39m\u001b[90mLLVMExtra_jll\u001b[39m\n",
      "\u001b[32m  ✓ \u001b[39m\u001b[90mNamedDims\u001b[39m\n",
      "\u001b[32m  ✓ \u001b[39m\u001b[90mLazyStack\u001b[39m\n",
      "\u001b[32m  ✓ \u001b[39m\u001b[90mLLVM\u001b[39m\n",
      "\u001b[32m  ✓ \u001b[39m\u001b[90mGPUArrays\u001b[39m\n",
      "\u001b[32m  ✓ \u001b[39m\u001b[90mTransmuteDims\u001b[39m\n",
      "\u001b[32m  ✓ \u001b[39m\u001b[90mTensorCast\u001b[39m\n",
      "\u001b[32m  ✓ \u001b[39mDynamicHMC\n",
      "  13 dependencies successfully precompiled in 16 seconds (277 already precompiled)\n"
     ]
    }
   ],
   "source": [
    "import Pkg; Pkg.add(\"DynamicHMC\")"
   ]
  },
  {
   "cell_type": "code",
   "execution_count": 4,
   "id": "3188e421",
   "metadata": {},
   "outputs": [],
   "source": [
    "# Read in data for onesample t-test\n",
    "url = \"https://raw.githubusercontent.com/HPCurtis/HPCPortfolio/main/Data/Mehr%20Song%20and%20Spelke%202016%20Experiment%201.csv\"\n",
    "df = CSV.read(download(url), DataFrame);"
   ]
  },
  {
   "cell_type": "code",
   "execution_count": 5,
   "id": "24c28f19",
   "metadata": {},
   "outputs": [
    {
     "data": {
      "text/html": [
       "<div class=\"data-frame\"><p>2 rows × 153 columns (omitted printing of 144 columns)</p><table class=\"data-frame\"><thead><tr><th></th><th>id</th><th>study_code</th><th>exp1</th><th>exp2</th><th>exp3</th><th>exp4</th><th>exp5</th><th>dob</th><th>dot1</th></tr><tr><th></th><th title=\"Int64\">Int64</th><th title=\"String7\">String7</th><th title=\"Int64\">Int64</th><th title=\"Int64\">Int64</th><th title=\"Int64\">Int64</th><th title=\"String1\">String1</th><th title=\"String1\">String1</th><th title=\"String15\">String15</th><th title=\"String15\">String15</th></tr></thead><tbody><tr><th>1</th><td>131</td><td>&quot;LUL&quot;</td><td>1</td><td>0</td><td>0</td><td> </td><td> </td><td>17-Oct-12</td><td>06-Apr-13</td></tr><tr><th>2</th><td>132</td><td>&quot;LUL&quot;</td><td>1</td><td>0</td><td>0</td><td> </td><td> </td><td>01-Dec-12</td><td>08-May-13</td></tr></tbody></table></div>"
      ],
      "text/latex": [
       "\\begin{tabular}{r|cccccccccc}\n",
       "\t& id & study\\_code & exp1 & exp2 & exp3 & exp4 & exp5 & dob & dot1 & \\\\\n",
       "\t\\hline\n",
       "\t& Int64 & String7 & Int64 & Int64 & Int64 & String1 & String1 & String15 & String15 & \\\\\n",
       "\t\\hline\n",
       "\t1 & 131 & \"LUL\" & 1 & 0 & 0 &   &   & 17-Oct-12 & 06-Apr-13 & $\\dots$ \\\\\n",
       "\t2 & 132 & \"LUL\" & 1 & 0 & 0 &   &   & 01-Dec-12 & 08-May-13 & $\\dots$ \\\\\n",
       "\\end{tabular}\n"
      ],
      "text/plain": [
       "\u001b[1m2×153 DataFrame\u001b[0m\n",
       "\u001b[1m Row \u001b[0m│\u001b[1m id    \u001b[0m\u001b[1m study_code \u001b[0m\u001b[1m exp1  \u001b[0m\u001b[1m exp2  \u001b[0m\u001b[1m exp3  \u001b[0m\u001b[1m exp4    \u001b[0m\u001b[1m exp5    \u001b[0m\u001b[1m dob       \u001b[0m\u001b[1m do\u001b[0m ⋯\n",
       "\u001b[1m     \u001b[0m│\u001b[90m Int64 \u001b[0m\u001b[90m String7    \u001b[0m\u001b[90m Int64 \u001b[0m\u001b[90m Int64 \u001b[0m\u001b[90m Int64 \u001b[0m\u001b[90m String1 \u001b[0m\u001b[90m String1 \u001b[0m\u001b[90m String15  \u001b[0m\u001b[90m St\u001b[0m ⋯\n",
       "─────┼──────────────────────────────────────────────────────────────────────────\n",
       "   1 │   131  \"LUL\"           1      0      0                    17-Oct-12  06 ⋯\n",
       "   2 │   132  \"LUL\"           1      0      0                    01-Dec-12  08\n",
       "\u001b[36m                                                             145 columns omitted\u001b[0m"
      ]
     },
     "execution_count": 5,
     "metadata": {},
     "output_type": "execute_result"
    }
   ],
   "source": [
    "# The data for the specific experiment is in the first 32 rows of the dataframe\n",
    "red_df = df[1:32, :];\n",
    "# check if id are correct by looking at last 2 rows id's.\n",
    "last(red_df, 2)"
   ]
  },
  {
   "cell_type": "code",
   "execution_count": 6,
   "id": "c599657a",
   "metadata": {},
   "outputs": [
    {
     "data": {
      "image/svg+xml": [
       "<?xml version=\"1.0\" encoding=\"utf-8\"?>\n",
       "<svg xmlns=\"http://www.w3.org/2000/svg\" xmlns:xlink=\"http://www.w3.org/1999/xlink\" width=\"600\" height=\"400\" viewBox=\"0 0 2400 1600\">\n",
       "<defs>\n",
       "  <clipPath id=\"clip640\">\n",
       "    <rect x=\"0\" y=\"0\" width=\"2400\" height=\"1600\"/>\n",
       "  </clipPath>\n",
       "</defs>\n",
       "<path clip-path=\"url(#clip640)\" d=\"\n",
       "M0 1600 L2400 1600 L2400 0 L0 0  Z\n",
       "  \" fill=\"#ffffff\" fill-rule=\"evenodd\" fill-opacity=\"1\"/>\n",
       "<defs>\n",
       "  <clipPath id=\"clip641\">\n",
       "    <rect x=\"480\" y=\"0\" width=\"1681\" height=\"1600\"/>\n",
       "  </clipPath>\n",
       "</defs>\n",
       "<path clip-path=\"url(#clip640)\" d=\"\n",
       "M138.959 1486.45 L2352.76 1486.45 L2352.76 47.2441 L138.959 47.2441  Z\n",
       "  \" fill=\"#ffffff\" fill-rule=\"evenodd\" fill-opacity=\"1\"/>\n",
       "<defs>\n",
       "  <clipPath id=\"clip642\">\n",
       "    <rect x=\"138\" y=\"47\" width=\"2215\" height=\"1440\"/>\n",
       "  </clipPath>\n",
       "</defs>\n",
       "<polyline clip-path=\"url(#clip642)\" style=\"stroke:#000000; stroke-linecap:butt; stroke-linejoin:round; stroke-width:2; stroke-opacity:0.1; fill:none\" points=\"\n",
       "  384.937,1486.45 384.937,47.2441 \n",
       "  \"/>\n",
       "<polyline clip-path=\"url(#clip642)\" style=\"stroke:#000000; stroke-linecap:butt; stroke-linejoin:round; stroke-width:2; stroke-opacity:0.1; fill:none\" points=\"\n",
       "  876.892,1486.45 876.892,47.2441 \n",
       "  \"/>\n",
       "<polyline clip-path=\"url(#clip642)\" style=\"stroke:#000000; stroke-linecap:butt; stroke-linejoin:round; stroke-width:2; stroke-opacity:0.1; fill:none\" points=\"\n",
       "  1368.85,1486.45 1368.85,47.2441 \n",
       "  \"/>\n",
       "<polyline clip-path=\"url(#clip642)\" style=\"stroke:#000000; stroke-linecap:butt; stroke-linejoin:round; stroke-width:2; stroke-opacity:0.1; fill:none\" points=\"\n",
       "  1860.8,1486.45 1860.8,47.2441 \n",
       "  \"/>\n",
       "<polyline clip-path=\"url(#clip642)\" style=\"stroke:#000000; stroke-linecap:butt; stroke-linejoin:round; stroke-width:2; stroke-opacity:0.1; fill:none\" points=\"\n",
       "  2352.76,1486.45 2352.76,47.2441 \n",
       "  \"/>\n",
       "<polyline clip-path=\"url(#clip640)\" style=\"stroke:#000000; stroke-linecap:butt; stroke-linejoin:round; stroke-width:4; stroke-opacity:1; fill:none\" points=\"\n",
       "  138.959,1486.45 2352.76,1486.45 \n",
       "  \"/>\n",
       "<polyline clip-path=\"url(#clip640)\" style=\"stroke:#000000; stroke-linecap:butt; stroke-linejoin:round; stroke-width:4; stroke-opacity:1; fill:none\" points=\"\n",
       "  384.937,1486.45 384.937,1467.55 \n",
       "  \"/>\n",
       "<polyline clip-path=\"url(#clip640)\" style=\"stroke:#000000; stroke-linecap:butt; stroke-linejoin:round; stroke-width:4; stroke-opacity:1; fill:none\" points=\"\n",
       "  876.892,1486.45 876.892,1467.55 \n",
       "  \"/>\n",
       "<polyline clip-path=\"url(#clip640)\" style=\"stroke:#000000; stroke-linecap:butt; stroke-linejoin:round; stroke-width:4; stroke-opacity:1; fill:none\" points=\"\n",
       "  1368.85,1486.45 1368.85,1467.55 \n",
       "  \"/>\n",
       "<polyline clip-path=\"url(#clip640)\" style=\"stroke:#000000; stroke-linecap:butt; stroke-linejoin:round; stroke-width:4; stroke-opacity:1; fill:none\" points=\"\n",
       "  1860.8,1486.45 1860.8,1467.55 \n",
       "  \"/>\n",
       "<polyline clip-path=\"url(#clip640)\" style=\"stroke:#000000; stroke-linecap:butt; stroke-linejoin:round; stroke-width:4; stroke-opacity:1; fill:none\" points=\"\n",
       "  2352.76,1486.45 2352.76,1467.55 \n",
       "  \"/>\n",
       "<path clip-path=\"url(#clip640)\" d=\"M363.12 1517.37 Q359.509 1517.37 357.68 1520.93 Q355.874 1524.47 355.874 1531.6 Q355.874 1538.71 357.68 1542.27 Q359.509 1545.82 363.12 1545.82 Q366.754 1545.82 368.56 1542.27 Q370.388 1538.71 370.388 1531.6 Q370.388 1524.47 368.56 1520.93 Q366.754 1517.37 363.12 1517.37 M363.12 1513.66 Q368.93 1513.66 371.986 1518.27 Q375.064 1522.85 375.064 1531.6 Q375.064 1540.33 371.986 1544.94 Q368.93 1549.52 363.12 1549.52 Q357.31 1549.52 354.231 1544.94 Q351.175 1540.33 351.175 1531.6 Q351.175 1522.85 354.231 1518.27 Q357.31 1513.66 363.12 1513.66 Z\" fill=\"#000000\" fill-rule=\"evenodd\" fill-opacity=\"1\" /><path clip-path=\"url(#clip640)\" d=\"M383.282 1542.97 L388.166 1542.97 L388.166 1548.85 L383.282 1548.85 L383.282 1542.97 Z\" fill=\"#000000\" fill-rule=\"evenodd\" fill-opacity=\"1\" /><path clip-path=\"url(#clip640)\" d=\"M402.379 1544.91 L418.698 1544.91 L418.698 1548.85 L396.754 1548.85 L396.754 1544.91 Q399.416 1542.16 403.999 1537.53 Q408.606 1532.88 409.786 1531.53 Q412.032 1529.01 412.911 1527.27 Q413.814 1525.51 413.814 1523.82 Q413.814 1521.07 411.87 1519.33 Q409.948 1517.6 406.846 1517.6 Q404.647 1517.6 402.194 1518.36 Q399.763 1519.13 396.985 1520.68 L396.985 1515.95 Q399.809 1514.82 402.263 1514.24 Q404.717 1513.66 406.754 1513.66 Q412.124 1513.66 415.319 1516.35 Q418.513 1519.03 418.513 1523.52 Q418.513 1525.65 417.703 1527.57 Q416.916 1529.47 414.809 1532.07 Q414.231 1532.74 411.129 1535.95 Q408.027 1539.15 402.379 1544.91 Z\" fill=\"#000000\" fill-rule=\"evenodd\" fill-opacity=\"1\" /><path clip-path=\"url(#clip640)\" d=\"M854.033 1517.37 Q850.422 1517.37 848.593 1520.93 Q846.788 1524.47 846.788 1531.6 Q846.788 1538.71 848.593 1542.27 Q850.422 1545.82 854.033 1545.82 Q857.667 1545.82 859.473 1542.27 Q861.301 1538.71 861.301 1531.6 Q861.301 1524.47 859.473 1520.93 Q857.667 1517.37 854.033 1517.37 M854.033 1513.66 Q859.843 1513.66 862.899 1518.27 Q865.977 1522.85 865.977 1531.6 Q865.977 1540.33 862.899 1544.94 Q859.843 1549.52 854.033 1549.52 Q848.223 1549.52 845.144 1544.94 Q842.089 1540.33 842.089 1531.6 Q842.089 1522.85 845.144 1518.27 Q848.223 1513.66 854.033 1513.66 Z\" fill=\"#000000\" fill-rule=\"evenodd\" fill-opacity=\"1\" /><path clip-path=\"url(#clip640)\" d=\"M874.195 1542.97 L879.079 1542.97 L879.079 1548.85 L874.195 1548.85 L874.195 1542.97 Z\" fill=\"#000000\" fill-rule=\"evenodd\" fill-opacity=\"1\" /><path clip-path=\"url(#clip640)\" d=\"M902.111 1518.36 L890.306 1536.81 L902.111 1536.81 L902.111 1518.36 M900.885 1514.29 L906.764 1514.29 L906.764 1536.81 L911.695 1536.81 L911.695 1540.7 L906.764 1540.7 L906.764 1548.85 L902.111 1548.85 L902.111 1540.7 L886.51 1540.7 L886.51 1536.19 L900.885 1514.29 Z\" fill=\"#000000\" fill-rule=\"evenodd\" fill-opacity=\"1\" /><path clip-path=\"url(#clip640)\" d=\"M1346.15 1517.37 Q1342.54 1517.37 1340.71 1520.93 Q1338.9 1524.47 1338.9 1531.6 Q1338.9 1538.71 1340.71 1542.27 Q1342.54 1545.82 1346.15 1545.82 Q1349.78 1545.82 1351.59 1542.27 Q1353.42 1538.71 1353.42 1531.6 Q1353.42 1524.47 1351.59 1520.93 Q1349.78 1517.37 1346.15 1517.37 M1346.15 1513.66 Q1351.96 1513.66 1355.02 1518.27 Q1358.09 1522.85 1358.09 1531.6 Q1358.09 1540.33 1355.02 1544.94 Q1351.96 1549.52 1346.15 1549.52 Q1340.34 1549.52 1337.26 1544.94 Q1334.21 1540.33 1334.21 1531.6 Q1334.21 1522.85 1337.26 1518.27 Q1340.34 1513.66 1346.15 1513.66 Z\" fill=\"#000000\" fill-rule=\"evenodd\" fill-opacity=\"1\" /><path clip-path=\"url(#clip640)\" d=\"M1366.31 1542.97 L1371.2 1542.97 L1371.2 1548.85 L1366.31 1548.85 L1366.31 1542.97 Z\" fill=\"#000000\" fill-rule=\"evenodd\" fill-opacity=\"1\" /><path clip-path=\"url(#clip640)\" d=\"M1391.96 1529.7 Q1388.81 1529.7 1386.96 1531.86 Q1385.13 1534.01 1385.13 1537.76 Q1385.13 1541.49 1386.96 1543.66 Q1388.81 1545.82 1391.96 1545.82 Q1395.11 1545.82 1396.94 1543.66 Q1398.79 1541.49 1398.79 1537.76 Q1398.79 1534.01 1396.94 1531.86 Q1395.11 1529.7 1391.96 1529.7 M1401.24 1515.05 L1401.24 1519.31 Q1399.48 1518.48 1397.68 1518.04 Q1395.89 1517.6 1394.14 1517.6 Q1389.51 1517.6 1387.05 1520.72 Q1384.62 1523.85 1384.27 1530.17 Q1385.64 1528.15 1387.7 1527.09 Q1389.76 1526 1392.24 1526 Q1397.45 1526 1400.45 1529.17 Q1403.49 1532.32 1403.49 1537.76 Q1403.49 1543.08 1400.34 1546.3 Q1397.19 1549.52 1391.96 1549.52 Q1385.96 1549.52 1382.79 1544.94 Q1379.62 1540.33 1379.62 1531.6 Q1379.62 1523.41 1383.51 1518.55 Q1387.4 1513.66 1393.95 1513.66 Q1395.71 1513.66 1397.49 1514.01 Q1399.3 1514.36 1401.24 1515.05 Z\" fill=\"#000000\" fill-rule=\"evenodd\" fill-opacity=\"1\" /><path clip-path=\"url(#clip640)\" d=\"M1838.23 1517.37 Q1834.62 1517.37 1832.79 1520.93 Q1830.99 1524.47 1830.99 1531.6 Q1830.99 1538.71 1832.79 1542.27 Q1834.62 1545.82 1838.23 1545.82 Q1841.87 1545.82 1843.67 1542.27 Q1845.5 1538.71 1845.5 1531.6 Q1845.5 1524.47 1843.67 1520.93 Q1841.87 1517.37 1838.23 1517.37 M1838.23 1513.66 Q1844.04 1513.66 1847.1 1518.27 Q1850.18 1522.85 1850.18 1531.6 Q1850.18 1540.33 1847.1 1544.94 Q1844.04 1549.52 1838.23 1549.52 Q1832.42 1549.52 1829.34 1544.94 Q1826.29 1540.33 1826.29 1531.6 Q1826.29 1522.85 1829.34 1518.27 Q1832.42 1513.66 1838.23 1513.66 Z\" fill=\"#000000\" fill-rule=\"evenodd\" fill-opacity=\"1\" /><path clip-path=\"url(#clip640)\" d=\"M1858.39 1542.97 L1863.28 1542.97 L1863.28 1548.85 L1858.39 1548.85 L1858.39 1542.97 Z\" fill=\"#000000\" fill-rule=\"evenodd\" fill-opacity=\"1\" /><path clip-path=\"url(#clip640)\" d=\"M1883.46 1532.44 Q1880.13 1532.44 1878.21 1534.22 Q1876.31 1536 1876.31 1539.13 Q1876.31 1542.25 1878.21 1544.03 Q1880.13 1545.82 1883.46 1545.82 Q1886.8 1545.82 1888.72 1544.03 Q1890.64 1542.23 1890.64 1539.13 Q1890.64 1536 1888.72 1534.22 Q1886.82 1532.44 1883.46 1532.44 M1878.79 1530.45 Q1875.78 1529.7 1874.09 1527.64 Q1872.42 1525.58 1872.42 1522.62 Q1872.42 1518.48 1875.36 1516.07 Q1878.32 1513.66 1883.46 1513.66 Q1888.63 1513.66 1891.56 1516.07 Q1894.5 1518.48 1894.5 1522.62 Q1894.5 1525.58 1892.81 1527.64 Q1891.15 1529.7 1888.16 1530.45 Q1891.54 1531.23 1893.42 1533.52 Q1895.31 1535.82 1895.31 1539.13 Q1895.31 1544.15 1892.24 1546.83 Q1889.18 1549.52 1883.46 1549.52 Q1877.75 1549.52 1874.67 1546.83 Q1871.61 1544.15 1871.61 1539.13 Q1871.61 1535.82 1873.51 1533.52 Q1875.41 1531.23 1878.79 1530.45 M1877.07 1523.06 Q1877.07 1525.75 1878.74 1527.25 Q1880.43 1528.76 1883.46 1528.76 Q1886.47 1528.76 1888.16 1527.25 Q1889.88 1525.75 1889.88 1523.06 Q1889.88 1520.38 1888.16 1518.87 Q1886.47 1517.37 1883.46 1517.37 Q1880.43 1517.37 1878.74 1518.87 Q1877.07 1520.38 1877.07 1523.06 Z\" fill=\"#000000\" fill-rule=\"evenodd\" fill-opacity=\"1\" /><path clip-path=\"url(#clip640)\" d=\"M2319.91 1544.91 L2327.55 1544.91 L2327.55 1518.55 L2319.24 1520.21 L2319.24 1515.95 L2327.5 1514.29 L2332.18 1514.29 L2332.18 1544.91 L2339.82 1544.91 L2339.82 1548.85 L2319.91 1548.85 L2319.91 1544.91 Z\" fill=\"#000000\" fill-rule=\"evenodd\" fill-opacity=\"1\" /><path clip-path=\"url(#clip640)\" d=\"M2349.26 1542.97 L2354.14 1542.97 L2354.14 1548.85 L2349.26 1548.85 L2349.26 1542.97 Z\" fill=\"#000000\" fill-rule=\"evenodd\" fill-opacity=\"1\" /><path clip-path=\"url(#clip640)\" d=\"M2374.33 1517.37 Q2370.72 1517.37 2368.89 1520.93 Q2367.08 1524.47 2367.08 1531.6 Q2367.08 1538.71 2368.89 1542.27 Q2370.72 1545.82 2374.33 1545.82 Q2377.96 1545.82 2379.77 1542.27 Q2381.6 1538.71 2381.6 1531.6 Q2381.6 1524.47 2379.77 1520.93 Q2377.96 1517.37 2374.33 1517.37 M2374.33 1513.66 Q2380.14 1513.66 2383.2 1518.27 Q2386.27 1522.85 2386.27 1531.6 Q2386.27 1540.33 2383.2 1544.94 Q2380.14 1549.52 2374.33 1549.52 Q2368.52 1549.52 2365.44 1544.94 Q2362.39 1540.33 2362.39 1531.6 Q2362.39 1522.85 2365.44 1518.27 Q2368.52 1513.66 2374.33 1513.66 Z\" fill=\"#000000\" fill-rule=\"evenodd\" fill-opacity=\"1\" /><polyline clip-path=\"url(#clip642)\" style=\"stroke:#000000; stroke-linecap:butt; stroke-linejoin:round; stroke-width:2; stroke-opacity:0.1; fill:none\" points=\"\n",
       "  138.959,1486.45 2352.76,1486.45 \n",
       "  \"/>\n",
       "<polyline clip-path=\"url(#clip642)\" style=\"stroke:#000000; stroke-linecap:butt; stroke-linejoin:round; stroke-width:2; stroke-opacity:0.1; fill:none\" points=\"\n",
       "  138.959,1006.71 2352.76,1006.71 \n",
       "  \"/>\n",
       "<polyline clip-path=\"url(#clip642)\" style=\"stroke:#000000; stroke-linecap:butt; stroke-linejoin:round; stroke-width:2; stroke-opacity:0.1; fill:none\" points=\"\n",
       "  138.959,526.979 2352.76,526.979 \n",
       "  \"/>\n",
       "<polyline clip-path=\"url(#clip642)\" style=\"stroke:#000000; stroke-linecap:butt; stroke-linejoin:round; stroke-width:2; stroke-opacity:0.1; fill:none\" points=\"\n",
       "  138.959,47.2441 2352.76,47.2441 \n",
       "  \"/>\n",
       "<polyline clip-path=\"url(#clip640)\" style=\"stroke:#000000; stroke-linecap:butt; stroke-linejoin:round; stroke-width:4; stroke-opacity:1; fill:none\" points=\"\n",
       "  138.959,1486.45 138.959,47.2441 \n",
       "  \"/>\n",
       "<polyline clip-path=\"url(#clip640)\" style=\"stroke:#000000; stroke-linecap:butt; stroke-linejoin:round; stroke-width:4; stroke-opacity:1; fill:none\" points=\"\n",
       "  138.959,1486.45 157.857,1486.45 \n",
       "  \"/>\n",
       "<polyline clip-path=\"url(#clip640)\" style=\"stroke:#000000; stroke-linecap:butt; stroke-linejoin:round; stroke-width:4; stroke-opacity:1; fill:none\" points=\"\n",
       "  138.959,1006.71 157.857,1006.71 \n",
       "  \"/>\n",
       "<polyline clip-path=\"url(#clip640)\" style=\"stroke:#000000; stroke-linecap:butt; stroke-linejoin:round; stroke-width:4; stroke-opacity:1; fill:none\" points=\"\n",
       "  138.959,526.979 157.857,526.979 \n",
       "  \"/>\n",
       "<polyline clip-path=\"url(#clip640)\" style=\"stroke:#000000; stroke-linecap:butt; stroke-linejoin:round; stroke-width:4; stroke-opacity:1; fill:none\" points=\"\n",
       "  138.959,47.2441 157.857,47.2441 \n",
       "  \"/>\n",
       "<path clip-path=\"url(#clip640)\" d=\"M91.0151 1472.25 Q87.404 1472.25 85.5753 1475.81 Q83.7697 1479.35 83.7697 1486.48 Q83.7697 1493.59 85.5753 1497.15 Q87.404 1500.7 91.0151 1500.7 Q94.6493 1500.7 96.4548 1497.15 Q98.2835 1493.59 98.2835 1486.48 Q98.2835 1479.35 96.4548 1475.81 Q94.6493 1472.25 91.0151 1472.25 M91.0151 1468.54 Q96.8252 1468.54 99.8808 1473.15 Q102.959 1477.73 102.959 1486.48 Q102.959 1495.21 99.8808 1499.82 Q96.8252 1504.4 91.0151 1504.4 Q85.2049 1504.4 82.1262 1499.82 Q79.0707 1495.21 79.0707 1486.48 Q79.0707 1477.73 82.1262 1473.15 Q85.2049 1468.54 91.0151 1468.54 Z\" fill=\"#000000\" fill-rule=\"evenodd\" fill-opacity=\"1\" /><path clip-path=\"url(#clip640)\" d=\"M82.0568 989.433 L100.413 989.433 L100.413 993.368 L86.3392 993.368 L86.3392 1001.84 Q87.3577 1001.49 88.3762 1001.33 Q89.3947 1001.15 90.4132 1001.15 Q96.2002 1001.15 99.5798 1004.32 Q102.959 1007.49 102.959 1012.91 Q102.959 1018.48 99.4872 1021.59 Q96.015 1024.66 89.6956 1024.66 Q87.5197 1024.66 85.2512 1024.29 Q83.0058 1023.92 80.5984 1023.18 L80.5984 1018.48 Q82.6818 1019.62 84.904 1020.17 Q87.1262 1020.73 89.603 1020.73 Q93.6076 1020.73 95.9456 1018.62 Q98.2835 1016.52 98.2835 1012.91 Q98.2835 1009.29 95.9456 1007.19 Q93.6076 1005.08 89.603 1005.08 Q87.728 1005.08 85.8531 1005.5 Q84.0012 1005.91 82.0568 1006.79 L82.0568 989.433 Z\" fill=\"#000000\" fill-rule=\"evenodd\" fill-opacity=\"1\" /><path clip-path=\"url(#clip640)\" d=\"M51.6634 540.324 L59.3023 540.324 L59.3023 513.958 L50.9921 515.625 L50.9921 511.365 L59.256 509.699 L63.9319 509.699 L63.9319 540.324 L71.5707 540.324 L71.5707 544.259 L51.6634 544.259 L51.6634 540.324 Z\" fill=\"#000000\" fill-rule=\"evenodd\" fill-opacity=\"1\" /><path clip-path=\"url(#clip640)\" d=\"M91.0151 512.777 Q87.404 512.777 85.5753 516.342 Q83.7697 519.884 83.7697 527.013 Q83.7697 534.12 85.5753 537.685 Q87.404 541.226 91.0151 541.226 Q94.6493 541.226 96.4548 537.685 Q98.2835 534.12 98.2835 527.013 Q98.2835 519.884 96.4548 516.342 Q94.6493 512.777 91.0151 512.777 M91.0151 509.074 Q96.8252 509.074 99.8808 513.68 Q102.959 518.263 102.959 527.013 Q102.959 535.74 99.8808 540.347 Q96.8252 544.93 91.0151 544.93 Q85.2049 544.93 82.1262 540.347 Q79.0707 535.74 79.0707 527.013 Q79.0707 518.263 82.1262 513.68 Q85.2049 509.074 91.0151 509.074 Z\" fill=\"#000000\" fill-rule=\"evenodd\" fill-opacity=\"1\" /><path clip-path=\"url(#clip640)\" d=\"M52.6588 60.5889 L60.2976 60.5889 L60.2976 34.2233 L51.9875 35.89 L51.9875 31.6308 L60.2513 29.9641 L64.9272 29.9641 L64.9272 60.5889 L72.5661 60.5889 L72.5661 64.5241 L52.6588 64.5241 L52.6588 60.5889 Z\" fill=\"#000000\" fill-rule=\"evenodd\" fill-opacity=\"1\" /><path clip-path=\"url(#clip640)\" d=\"M82.0568 29.9641 L100.413 29.9641 L100.413 33.8993 L86.3392 33.8993 L86.3392 42.3714 Q87.3577 42.0242 88.3762 41.8622 Q89.3947 41.677 90.4132 41.677 Q96.2002 41.677 99.5798 44.8483 Q102.959 48.0196 102.959 53.4362 Q102.959 59.0149 99.4872 62.1167 Q96.015 65.1954 89.6956 65.1954 Q87.5197 65.1954 85.2512 64.825 Q83.0058 64.4547 80.5984 63.7139 L80.5984 59.0149 Q82.6818 60.1491 84.904 60.7047 Q87.1262 61.2602 89.603 61.2602 Q93.6076 61.2602 95.9456 59.1538 Q98.2835 57.0473 98.2835 53.4362 Q98.2835 49.8251 95.9456 47.7186 Q93.6076 45.6122 89.603 45.6122 Q87.728 45.6122 85.8531 46.0288 Q84.0012 46.4455 82.0568 47.3251 L82.0568 29.9641 Z\" fill=\"#000000\" fill-rule=\"evenodd\" fill-opacity=\"1\" /><path clip-path=\"url(#clip642)\" d=\"\n",
       "M384.937 718.873 L384.937 1486.45 L876.892 1486.45 L876.892 718.873 L384.937 718.873 L384.937 718.873  Z\n",
       "  \" fill=\"#009af9\" fill-rule=\"evenodd\" fill-opacity=\"1\"/>\n",
       "<polyline clip-path=\"url(#clip642)\" style=\"stroke:#000000; stroke-linecap:butt; stroke-linejoin:round; stroke-width:4; stroke-opacity:1; fill:none\" points=\"\n",
       "  384.937,718.873 384.937,1486.45 876.892,1486.45 876.892,718.873 384.937,718.873 \n",
       "  \"/>\n",
       "<path clip-path=\"url(#clip642)\" d=\"\n",
       "M876.892 143.191 L876.892 1486.45 L1368.85 1486.45 L1368.85 143.191 L876.892 143.191 L876.892 143.191  Z\n",
       "  \" fill=\"#009af9\" fill-rule=\"evenodd\" fill-opacity=\"1\"/>\n",
       "<polyline clip-path=\"url(#clip642)\" style=\"stroke:#000000; stroke-linecap:butt; stroke-linejoin:round; stroke-width:4; stroke-opacity:1; fill:none\" points=\"\n",
       "  876.892,143.191 876.892,1486.45 1368.85,1486.45 1368.85,143.191 876.892,143.191 \n",
       "  \"/>\n",
       "<path clip-path=\"url(#clip642)\" d=\"\n",
       "M1368.85 718.873 L1368.85 1486.45 L1860.8 1486.45 L1860.8 718.873 L1368.85 718.873 L1368.85 718.873  Z\n",
       "  \" fill=\"#009af9\" fill-rule=\"evenodd\" fill-opacity=\"1\"/>\n",
       "<polyline clip-path=\"url(#clip642)\" style=\"stroke:#000000; stroke-linecap:butt; stroke-linejoin:round; stroke-width:4; stroke-opacity:1; fill:none\" points=\"\n",
       "  1368.85,718.873 1368.85,1486.45 1860.8,1486.45 1860.8,718.873 1368.85,718.873 \n",
       "  \"/>\n",
       "<path clip-path=\"url(#clip642)\" d=\"\n",
       "M1860.8 1294.55 L1860.8 1486.45 L2352.76 1486.45 L2352.76 1294.55 L1860.8 1294.55 L1860.8 1294.55  Z\n",
       "  \" fill=\"#009af9\" fill-rule=\"evenodd\" fill-opacity=\"1\"/>\n",
       "<polyline clip-path=\"url(#clip642)\" style=\"stroke:#000000; stroke-linecap:butt; stroke-linejoin:round; stroke-width:4; stroke-opacity:1; fill:none\" points=\"\n",
       "  1860.8,1294.55 1860.8,1486.45 2352.76,1486.45 2352.76,1294.55 1860.8,1294.55 \n",
       "  \"/>\n",
       "<circle clip-path=\"url(#clip642)\" style=\"fill:#009af9; stroke:none; fill-opacity:0\" cx=\"630.914\" cy=\"718.873\" r=\"2\"/>\n",
       "<circle clip-path=\"url(#clip642)\" style=\"fill:#009af9; stroke:none; fill-opacity:0\" cx=\"1122.87\" cy=\"143.191\" r=\"2\"/>\n",
       "<circle clip-path=\"url(#clip642)\" style=\"fill:#009af9; stroke:none; fill-opacity:0\" cx=\"1614.82\" cy=\"718.873\" r=\"2\"/>\n",
       "<circle clip-path=\"url(#clip642)\" style=\"fill:#009af9; stroke:none; fill-opacity:0\" cx=\"2106.78\" cy=\"1294.55\" r=\"2\"/>\n",
       "</svg>\n"
      ]
     },
     "execution_count": 6,
     "metadata": {},
     "output_type": "execute_result"
    }
   ],
   "source": [
    "histogram(red_df[:,:Baseline_Proportion_Gaze_to_Singer],\n",
    "          label = false, xlim = [0.1, 1], ylim = [0, 15])"
   ]
  },
  {
   "cell_type": "code",
   "execution_count": 32,
   "id": "fe058f0d",
   "metadata": {},
   "outputs": [
    {
     "data": {
      "text/plain": [
       "normal1 (generic function with 2 methods)"
      ]
     },
     "execution_count": 32,
     "metadata": {},
     "output_type": "execute_result"
    }
   ],
   "source": [
    "@model function normal1(y)\n",
    "    \n",
    "    # Priors\n",
    "    mu ~ Normal(0, 10)\n",
    "    sigma ~ truncated(Normal(0, 10); lower=0)\n",
    "    \n",
    "    # likelihood\n",
    "    return y ~ Normal(mu, sigma)\n",
    "    \n",
    "end\n"
   ]
  },
  {
   "cell_type": "code",
   "execution_count": 34,
   "id": "33240d81",
   "metadata": {},
   "outputs": [
    {
     "data": {
      "text/plain": [
       "Chains MCMC chain (1000×11×1 Array{Float64, 3}):\n",
       "\n",
       "Iterations        = 1:1:1000\n",
       "Number of chains  = 1\n",
       "Samples per chain = 1000\n",
       "Wall duration     = 2.36 seconds\n",
       "Compute duration  = 2.36 seconds\n",
       "parameters        = mu, sigma\n",
       "internals         = lp, n_steps, is_accept, acceptance_rate, log_density, hamiltonian_energy, hamiltonian_energy_error, step_size, nom_step_size\n",
       "\n",
       "Summary Statistics\n",
       " \u001b[1m parameters \u001b[0m \u001b[1m    mean \u001b[0m \u001b[1m     std \u001b[0m \u001b[1m naive_se \u001b[0m \u001b[1m    mcse \u001b[0m \u001b[1m      ess \u001b[0m \u001b[1m    rhat \u001b[0m \u001b[1m e\u001b[0m ⋯\n",
       " \u001b[90m     Symbol \u001b[0m \u001b[90m Float64 \u001b[0m \u001b[90m Float64 \u001b[0m \u001b[90m  Float64 \u001b[0m \u001b[90m Float64 \u001b[0m \u001b[90m  Float64 \u001b[0m \u001b[90m Float64 \u001b[0m \u001b[90m  \u001b[0m ⋯\n",
       "\n",
       "          mu    0.5176    0.0661     0.0021    0.0049   181.7329    1.0015     ⋯\n",
       "       sigma    0.2002    0.2047     0.0065    0.0165   170.1326    1.0046     ⋯\n",
       "\u001b[36m                                                                1 column omitted\u001b[0m\n",
       "\n",
       "Quantiles\n",
       " \u001b[1m parameters \u001b[0m \u001b[1m    2.5% \u001b[0m \u001b[1m   25.0% \u001b[0m \u001b[1m   50.0% \u001b[0m \u001b[1m   75.0% \u001b[0m \u001b[1m   97.5% \u001b[0m\n",
       " \u001b[90m     Symbol \u001b[0m \u001b[90m Float64 \u001b[0m \u001b[90m Float64 \u001b[0m \u001b[90m Float64 \u001b[0m \u001b[90m Float64 \u001b[0m \u001b[90m Float64 \u001b[0m\n",
       "\n",
       "          mu    0.4623    0.5001    0.5211    0.5443    0.5787\n",
       "       sigma    0.1454    0.1673    0.1815    0.1986    0.2474\n"
      ]
     },
     "execution_count": 34,
     "metadata": {},
     "output_type": "execute_result"
    }
   ],
   "source": [
    "# Settings of the Hamiltonian Monte Carlo (HMC) sampler.\n",
    "iterations = 1000\n",
    "ϵ = 0.05\n",
    "τ = 10\n",
    "\n",
    "# Start sampling.\n",
    "chain = sample(normal1(red_df[:,:Baseline_Proportion_Gaze_to_Singer]),\n",
    "    HMC(ϵ, τ), iterations)\n"
   ]
  },
  {
   "cell_type": "markdown",
   "id": "95b7758f",
   "metadata": {},
   "source": [
    "# References"
   ]
  }
 ],
 "metadata": {
  "kernelspec": {
   "display_name": "Julia 1.7.3",
   "language": "julia",
   "name": "julia-1.7"
  },
  "language_info": {
   "file_extension": ".jl",
   "mimetype": "application/julia",
   "name": "julia",
   "version": "1.7.3"
  }
 },
 "nbformat": 4,
 "nbformat_minor": 5
}
