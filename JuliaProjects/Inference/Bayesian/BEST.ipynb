{
 "cells": [
  {
   "cell_type": "code",
   "execution_count": 1,
   "id": "2960bb65",
   "metadata": {},
   "outputs": [],
   "source": [
    "using Turing, CSV, DataFrames, \n",
    "      HypothesisTests, Plots,\n",
    "      Random, DynamicHMC"
   ]
  },
  {
   "cell_type": "code",
   "execution_count": null,
   "id": "10dffc13",
   "metadata": {},
   "outputs": [],
   "source": []
  }
 ],
 "metadata": {
  "kernelspec": {
   "display_name": "Julia 1.7.3",
   "language": "julia",
   "name": "julia-1.7"
  },
  "language_info": {
   "file_extension": ".jl",
   "mimetype": "application/julia",
   "name": "julia",
   "version": "1.7.3"
  }
 },
 "nbformat": 4,
 "nbformat_minor": 5
}
