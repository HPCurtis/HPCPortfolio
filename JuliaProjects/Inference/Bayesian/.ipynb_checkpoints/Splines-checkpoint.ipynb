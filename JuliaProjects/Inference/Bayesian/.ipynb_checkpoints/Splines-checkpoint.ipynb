{
 "cells": [
  {
   "cell_type": "code",
   "execution_count": 2,
   "id": "d93c40ae",
   "metadata": {},
   "outputs": [
    {
     "ename": "LoadError",
     "evalue": "ArgumentError: Package BSplineKit not found in current path.\n- Run `import Pkg; Pkg.add(\"BSplineKit\")` to install the BSplineKit package.",
     "output_type": "error",
     "traceback": [
      "ArgumentError: Package BSplineKit not found in current path.\n- Run `import Pkg; Pkg.add(\"BSplineKit\")` to install the BSplineKit package.",
      "",
      "Stacktrace:",
      " [1] macro expansion",
      "   @ ./loading.jl:1630 [inlined]",
      " [2] macro expansion",
      "   @ ./lock.jl:267 [inlined]",
      " [3] require(into::Module, mod::Symbol)",
      "   @ Base ./loading.jl:1611"
     ]
    }
   ],
   "source": [
    "using Turing, CSV, DataFrames, \n",
    "      HypothesisTests, Plots,\n",
    "      Random, DynamicHMC, BSplineKit"
   ]
  },
  {
   "cell_type": "code",
   "execution_count": 4,
   "id": "1cb43a50",
   "metadata": {},
   "outputs": [
    {
     "name": "stderr",
     "output_type": "stream",
     "text": [
      "\u001b[32m\u001b[1m   Resolving\u001b[22m\u001b[39m package versions...\n",
      "\u001b[32m\u001b[1m    Updating\u001b[22m\u001b[39m `~/.julia/environments/v1.9/Project.toml`\n",
      "  \u001b[90m[093aae92] \u001b[39m\u001b[92m+ BSplineKit v0.16.2\u001b[39m\n",
      "\u001b[32m\u001b[1m  No Changes\u001b[22m\u001b[39m to `~/.julia/environments/v1.9/Manifest.toml`\n"
     ]
    }
   ],
   "source": [
    "import Pkg; Pkg.add(\"BSplineKit\")"
   ]
  },
  {
   "cell_type": "code",
   "execution_count": null,
   "id": "9713fef7",
   "metadata": {},
   "outputs": [],
   "source": []
  }
 ],
 "metadata": {
  "kernelspec": {
   "display_name": "Julia 1.9.1",
   "language": "julia",
   "name": "julia-1.9"
  },
  "language_info": {
   "file_extension": ".jl",
   "mimetype": "application/julia",
   "name": "julia",
   "version": "1.9.1"
  }
 },
 "nbformat": 4,
 "nbformat_minor": 5
}
