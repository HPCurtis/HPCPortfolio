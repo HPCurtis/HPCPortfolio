{
 "cells": [
  {
   "cell_type": "code",
   "execution_count": 1,
   "id": "3453472c",
   "metadata": {},
   "outputs": [],
   "source": [
    "# Load relevant Julia analysis packages.\n",
    "using CSV, DataFrames, HypothesisTests, \n",
    "Plots, Statistics, CategoricalArrays,\n",
    "GLM"
   ]
  },
  {
   "cell_type": "code",
   "execution_count": 2,
   "id": "3b4ac426",
   "metadata": {},
   "outputs": [
    {
     "data": {
      "text/html": [
       "<div class=\"data-frame\"><p>2 rows × 191 columns (omitted printing of 186 columns)</p><table class=\"data-frame\"><thead><tr><th></th><th>excluded</th><th>RavensProgressiveMatrix_sum</th><th>Inherence_Bias</th><th>Should_Score</th><th>Good_Score</th></tr><tr><th></th><th title=\"Int64\">Int64</th><th title=\"Int64\">Int64</th><th title=\"Float64\">Float64</th><th title=\"Float64\">Float64</th><th title=\"Float64\">Float64</th></tr></thead><tbody><tr><th>1</th><td>0</td><td>5</td><td>7.66667</td><td>6.33333</td><td>6.66667</td></tr><tr><th>2</th><td>1</td><td>5</td><td>7.33333</td><td>6.66667</td><td>8.0</td></tr></tbody></table></div>"
      ],
      "text/latex": [
       "\\begin{tabular}{r|cccccc}\n",
       "\t& excluded & RavensProgressiveMatrix\\_sum & Inherence\\_Bias & Should\\_Score & Good\\_Score & \\\\\n",
       "\t\\hline\n",
       "\t& Int64 & Int64 & Float64 & Float64 & Float64 & \\\\\n",
       "\t\\hline\n",
       "\t1 & 0 & 5 & 7.66667 & 6.33333 & 6.66667 & $\\dots$ \\\\\n",
       "\t2 & 1 & 5 & 7.33333 & 6.66667 & 8.0 & $\\dots$ \\\\\n",
       "\\end{tabular}\n"
      ],
      "text/plain": [
       "\u001b[1m2×191 DataFrame\u001b[0m\n",
       "\u001b[1m Row \u001b[0m│\u001b[1m excluded \u001b[0m\u001b[1m RavensProgressiveMatrix_sum \u001b[0m\u001b[1m Inherence_Bias \u001b[0m\u001b[1m Should_Score \u001b[0m\u001b[1m Go\u001b[0m ⋯\n",
       "\u001b[1m     \u001b[0m│\u001b[90m Int64    \u001b[0m\u001b[90m Int64                       \u001b[0m\u001b[90m Float64        \u001b[0m\u001b[90m Float64      \u001b[0m\u001b[90m Fl\u001b[0m ⋯\n",
       "─────┼──────────────────────────────────────────────────────────────────────────\n",
       "   1 │        0                            5         7.66667       6.33333     ⋯\n",
       "   2 │        1                            5         7.33333       6.66667\n",
       "\u001b[36m                                                             187 columns omitted\u001b[0m"
      ]
     },
     "execution_count": 2,
     "metadata": {},
     "output_type": "execute_result"
    }
   ],
   "source": [
    "url = \"https://raw.githubusercontent.com/HPCurtis/HPCPortfolio/main/Data/Tworek%20and%20Cimpian%202016%20Study%201.csv\"\n",
    "df = df = CSV.read(download(url), DataFrame)\n",
    "first(df, 2)"
   ]
  },
  {
   "cell_type": "code",
   "execution_count": null,
   "id": "9a08ca91",
   "metadata": {},
   "outputs": [],
   "source": []
  }
 ],
 "metadata": {
  "kernelspec": {
   "display_name": "Julia 1.7.3",
   "language": "julia",
   "name": "julia-1.7"
  },
  "language_info": {
   "file_extension": ".jl",
   "mimetype": "application/julia",
   "name": "julia",
   "version": "1.7.3"
  }
 },
 "nbformat": 4,
 "nbformat_minor": 5
}
