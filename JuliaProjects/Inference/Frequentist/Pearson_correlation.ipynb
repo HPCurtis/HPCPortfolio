{
 "cells": [
  {
   "cell_type": "code",
   "execution_count": 64,
   "id": "d0719d8b",
   "metadata": {},
   "outputs": [],
   "source": [
    "# Load relevant Julia analysis packages.\n",
    "using CSV, DataFrames, HypothesisTests, Plots, Statistics"
   ]
  },
  {
   "cell_type": "code",
   "execution_count": 5,
   "id": "72bc86ea",
   "metadata": {},
   "outputs": [
    {
     "data": {
      "text/html": [
       "<div class=\"data-frame\"><p>2 rows × 12 columns (omitted printing of 3 columns)</p><table class=\"data-frame\"><thead><tr><th></th><th>Column1</th><th>mpg</th><th>cyl</th><th>disp</th><th>hp</th><th>drat</th><th>wt</th><th>qsec</th><th>vs</th></tr><tr><th></th><th title=\"String31\">String31</th><th title=\"Float64\">Float64</th><th title=\"Int64\">Int64</th><th title=\"Float64\">Float64</th><th title=\"Int64\">Int64</th><th title=\"Float64\">Float64</th><th title=\"Float64\">Float64</th><th title=\"Float64\">Float64</th><th title=\"Int64\">Int64</th></tr></thead><tbody><tr><th>1</th><td>Mazda RX4</td><td>21.0</td><td>6</td><td>160.0</td><td>110</td><td>3.9</td><td>2.62</td><td>16.46</td><td>0</td></tr><tr><th>2</th><td>Mazda RX4 Wag</td><td>21.0</td><td>6</td><td>160.0</td><td>110</td><td>3.9</td><td>2.875</td><td>17.02</td><td>0</td></tr></tbody></table></div>"
      ],
      "text/latex": [
       "\\begin{tabular}{r|cccccccccc}\n",
       "\t& Column1 & mpg & cyl & disp & hp & drat & wt & qsec & vs & \\\\\n",
       "\t\\hline\n",
       "\t& String31 & Float64 & Int64 & Float64 & Int64 & Float64 & Float64 & Float64 & Int64 & \\\\\n",
       "\t\\hline\n",
       "\t1 & Mazda RX4 & 21.0 & 6 & 160.0 & 110 & 3.9 & 2.62 & 16.46 & 0 & $\\dots$ \\\\\n",
       "\t2 & Mazda RX4 Wag & 21.0 & 6 & 160.0 & 110 & 3.9 & 2.875 & 17.02 & 0 & $\\dots$ \\\\\n",
       "\\end{tabular}\n"
      ],
      "text/plain": [
       "\u001b[1m2×12 DataFrame\u001b[0m\n",
       "\u001b[1m Row \u001b[0m│\u001b[1m Column1       \u001b[0m\u001b[1m mpg     \u001b[0m\u001b[1m cyl   \u001b[0m\u001b[1m disp    \u001b[0m\u001b[1m hp    \u001b[0m\u001b[1m drat    \u001b[0m\u001b[1m wt      \u001b[0m\u001b[1m qsec  \u001b[0m ⋯\n",
       "\u001b[1m     \u001b[0m│\u001b[90m String31      \u001b[0m\u001b[90m Float64 \u001b[0m\u001b[90m Int64 \u001b[0m\u001b[90m Float64 \u001b[0m\u001b[90m Int64 \u001b[0m\u001b[90m Float64 \u001b[0m\u001b[90m Float64 \u001b[0m\u001b[90m Float6\u001b[0m ⋯\n",
       "─────┼──────────────────────────────────────────────────────────────────────────\n",
       "   1 │ Mazda RX4         21.0      6    160.0    110      3.9    2.62     16.4 ⋯\n",
       "   2 │ Mazda RX4 Wag     21.0      6    160.0    110      3.9    2.875    17.0\n",
       "\u001b[36m                                                               5 columns omitted\u001b[0m"
      ]
     },
     "execution_count": 5,
     "metadata": {},
     "output_type": "execute_result"
    }
   ],
   "source": [
    "# Specify URL to github repository where the data is stored.\n",
    "url = \"https://gist.githubusercontent.com/ZeccaLehn/4e06d2575eb9589dbe8c365d61cb056c/raw/898a40b035f7c951579041aecbfb2149331fa9f6/mtcars.csv\"\n",
    "\n",
    "# Generate dataframe object with the CSV function and read attribute.\n",
    "# Then output the first two rows of dataframe a visual check of \n",
    "# correct import of data.\n",
    "df = CSV.read(download(url), DataFrame);\n",
    "first(df, 2)"
   ]
  },
  {
   "cell_type": "code",
   "execution_count": 48,
   "id": "80dc6c84",
   "metadata": {},
   "outputs": [
    {
     "data": {
      "text/plain": [
       "Test for nonzero correlation\n",
       "----------------------------\n",
       "Population details:\n",
       "    parameter of interest:   Correlation\n",
       "    value under h_0:         0.0\n",
       "    point estimate:          -0.867659\n",
       "    95% confidence interval: (-0.9338, -0.7441)\n",
       "\n",
       "Test summary:\n",
       "    outcome with 95% confidence: reject h_0\n",
       "    two-sided p-value:           <1e-09\n",
       "\n",
       "Details:\n",
       "    number of observations:          32\n",
       "    number of conditional variables: 0\n",
       "    t-statistic:                     -9.55904\n",
       "    degrees of freedom:              30\n"
      ]
     },
     "execution_count": 48,
     "metadata": {},
     "output_type": "execute_result"
    }
   ],
   "source": [
    "# Extract key data frame elements of miles per gallon and weight.\n",
    "red_df = df[:, [:mpg, :wt]];\n",
    "\n",
    "# Calculate correlation between car weight and car mile per gallon\n",
    "CorrelationTest(red_df[:, \"mpg\"], red_df[:, \"wt\"])"
   ]
  },
  {
   "cell_type": "markdown",
   "id": "696eda87",
   "metadata": {},
   "source": [
    "## Plot data "
   ]
  },
  {
   "cell_type": "code",
   "execution_count": 46,
   "id": "e185466e",
   "metadata": {},
   "outputs": [
    {
     "data": {
      "image/svg+xml": [
       "<?xml version=\"1.0\" encoding=\"utf-8\"?>\n",
       "<svg xmlns=\"http://www.w3.org/2000/svg\" xmlns:xlink=\"http://www.w3.org/1999/xlink\" width=\"600\" height=\"400\" viewBox=\"0 0 2400 1600\">\n",
       "<defs>\n",
       "  <clipPath id=\"clip650\">\n",
       "    <rect x=\"0\" y=\"0\" width=\"2400\" height=\"1600\"/>\n",
       "  </clipPath>\n",
       "</defs>\n",
       "<path clip-path=\"url(#clip650)\" d=\"\n",
       "M0 1600 L2400 1600 L2400 0 L0 0  Z\n",
       "  \" fill=\"#ffffff\" fill-rule=\"evenodd\" fill-opacity=\"1\"/>\n",
       "<defs>\n",
       "  <clipPath id=\"clip651\">\n",
       "    <rect x=\"480\" y=\"0\" width=\"1681\" height=\"1600\"/>\n",
       "  </clipPath>\n",
       "</defs>\n",
       "<path clip-path=\"url(#clip650)\" d=\"\n",
       "M175.445 1423.18 L2352.76 1423.18 L2352.76 47.2441 L175.445 47.2441  Z\n",
       "  \" fill=\"#ffffff\" fill-rule=\"evenodd\" fill-opacity=\"1\"/>\n",
       "<defs>\n",
       "  <clipPath id=\"clip652\">\n",
       "    <rect x=\"175\" y=\"47\" width=\"2178\" height=\"1377\"/>\n",
       "  </clipPath>\n",
       "</defs>\n",
       "<polyline clip-path=\"url(#clip652)\" style=\"stroke:#000000; stroke-linecap:butt; stroke-linejoin:round; stroke-width:2; stroke-opacity:0.1; fill:none\" points=\"\n",
       "  175.445,1423.18 175.445,47.2441 \n",
       "  \"/>\n",
       "<polyline clip-path=\"url(#clip652)\" style=\"stroke:#000000; stroke-linecap:butt; stroke-linejoin:round; stroke-width:2; stroke-opacity:0.1; fill:none\" points=\"\n",
       "  719.773,1423.18 719.773,47.2441 \n",
       "  \"/>\n",
       "<polyline clip-path=\"url(#clip652)\" style=\"stroke:#000000; stroke-linecap:butt; stroke-linejoin:round; stroke-width:2; stroke-opacity:0.1; fill:none\" points=\"\n",
       "  1264.1,1423.18 1264.1,47.2441 \n",
       "  \"/>\n",
       "<polyline clip-path=\"url(#clip652)\" style=\"stroke:#000000; stroke-linecap:butt; stroke-linejoin:round; stroke-width:2; stroke-opacity:0.1; fill:none\" points=\"\n",
       "  1808.43,1423.18 1808.43,47.2441 \n",
       "  \"/>\n",
       "<polyline clip-path=\"url(#clip652)\" style=\"stroke:#000000; stroke-linecap:butt; stroke-linejoin:round; stroke-width:2; stroke-opacity:0.1; fill:none\" points=\"\n",
       "  2352.76,1423.18 2352.76,47.2441 \n",
       "  \"/>\n",
       "<polyline clip-path=\"url(#clip650)\" style=\"stroke:#000000; stroke-linecap:butt; stroke-linejoin:round; stroke-width:4; stroke-opacity:1; fill:none\" points=\"\n",
       "  175.445,1423.18 2352.76,1423.18 \n",
       "  \"/>\n",
       "<polyline clip-path=\"url(#clip650)\" style=\"stroke:#000000; stroke-linecap:butt; stroke-linejoin:round; stroke-width:4; stroke-opacity:1; fill:none\" points=\"\n",
       "  175.445,1423.18 175.445,1404.28 \n",
       "  \"/>\n",
       "<polyline clip-path=\"url(#clip650)\" style=\"stroke:#000000; stroke-linecap:butt; stroke-linejoin:round; stroke-width:4; stroke-opacity:1; fill:none\" points=\"\n",
       "  719.773,1423.18 719.773,1404.28 \n",
       "  \"/>\n",
       "<polyline clip-path=\"url(#clip650)\" style=\"stroke:#000000; stroke-linecap:butt; stroke-linejoin:round; stroke-width:4; stroke-opacity:1; fill:none\" points=\"\n",
       "  1264.1,1423.18 1264.1,1404.28 \n",
       "  \"/>\n",
       "<polyline clip-path=\"url(#clip650)\" style=\"stroke:#000000; stroke-linecap:butt; stroke-linejoin:round; stroke-width:4; stroke-opacity:1; fill:none\" points=\"\n",
       "  1808.43,1423.18 1808.43,1404.28 \n",
       "  \"/>\n",
       "<polyline clip-path=\"url(#clip650)\" style=\"stroke:#000000; stroke-linecap:butt; stroke-linejoin:round; stroke-width:4; stroke-opacity:1; fill:none\" points=\"\n",
       "  2352.76,1423.18 2352.76,1404.28 \n",
       "  \"/>\n",
       "<path clip-path=\"url(#clip650)\" d=\"M150.133 1481.64 L157.772 1481.64 L157.772 1455.28 L149.462 1456.95 L149.462 1452.69 L157.725 1451.02 L162.401 1451.02 L162.401 1481.64 L170.04 1481.64 L170.04 1485.58 L150.133 1485.58 L150.133 1481.64 Z\" fill=\"#000000\" fill-rule=\"evenodd\" fill-opacity=\"1\" /><path clip-path=\"url(#clip650)\" d=\"M189.484 1454.1 Q185.873 1454.1 184.045 1457.66 Q182.239 1461.2 182.239 1468.33 Q182.239 1475.44 184.045 1479.01 Q185.873 1482.55 189.484 1482.55 Q193.119 1482.55 194.924 1479.01 Q196.753 1475.44 196.753 1468.33 Q196.753 1461.2 194.924 1457.66 Q193.119 1454.1 189.484 1454.1 M189.484 1450.39 Q195.295 1450.39 198.35 1455 Q201.429 1459.58 201.429 1468.33 Q201.429 1477.06 198.35 1481.67 Q195.295 1486.25 189.484 1486.25 Q183.674 1486.25 180.596 1481.67 Q177.54 1477.06 177.54 1468.33 Q177.54 1459.58 180.596 1455 Q183.674 1450.39 189.484 1450.39 Z\" fill=\"#000000\" fill-rule=\"evenodd\" fill-opacity=\"1\" /><path clip-path=\"url(#clip650)\" d=\"M694.958 1481.64 L702.597 1481.64 L702.597 1455.28 L694.287 1456.95 L694.287 1452.69 L702.551 1451.02 L707.227 1451.02 L707.227 1481.64 L714.866 1481.64 L714.866 1485.58 L694.958 1485.58 L694.958 1481.64 Z\" fill=\"#000000\" fill-rule=\"evenodd\" fill-opacity=\"1\" /><path clip-path=\"url(#clip650)\" d=\"M724.356 1451.02 L742.713 1451.02 L742.713 1454.96 L728.639 1454.96 L728.639 1463.43 Q729.657 1463.08 730.676 1462.92 Q731.694 1462.73 732.713 1462.73 Q738.5 1462.73 741.879 1465.9 Q745.259 1469.08 745.259 1474.49 Q745.259 1480.07 741.787 1483.17 Q738.314 1486.25 731.995 1486.25 Q729.819 1486.25 727.551 1485.88 Q725.305 1485.51 722.898 1484.77 L722.898 1480.07 Q724.981 1481.2 727.203 1481.76 Q729.426 1482.32 731.902 1482.32 Q735.907 1482.32 738.245 1480.21 Q740.583 1478.1 740.583 1474.49 Q740.583 1470.88 738.245 1468.77 Q735.907 1466.67 731.902 1466.67 Q730.027 1466.67 728.152 1467.08 Q726.301 1467.5 724.356 1468.38 L724.356 1451.02 Z\" fill=\"#000000\" fill-rule=\"evenodd\" fill-opacity=\"1\" /><path clip-path=\"url(#clip650)\" d=\"M1242.87 1481.64 L1259.19 1481.64 L1259.19 1485.58 L1237.25 1485.58 L1237.25 1481.64 Q1239.91 1478.89 1244.49 1474.26 Q1249.1 1469.61 1250.28 1468.27 Q1252.53 1465.74 1253.41 1464.01 Q1254.31 1462.25 1254.31 1460.56 Q1254.31 1457.8 1252.36 1456.07 Q1250.44 1454.33 1247.34 1454.33 Q1245.14 1454.33 1242.69 1455.09 Q1240.26 1455.86 1237.48 1457.41 L1237.48 1452.69 Q1240.3 1451.55 1242.76 1450.97 Q1245.21 1450.39 1247.25 1450.39 Q1252.62 1450.39 1255.81 1453.08 Q1259.01 1455.77 1259.01 1460.26 Q1259.01 1462.39 1258.2 1464.31 Q1257.41 1466.2 1255.3 1468.8 Q1254.73 1469.47 1251.62 1472.69 Q1248.52 1475.88 1242.87 1481.64 Z\" fill=\"#000000\" fill-rule=\"evenodd\" fill-opacity=\"1\" /><path clip-path=\"url(#clip650)\" d=\"M1279.01 1454.1 Q1275.4 1454.1 1273.57 1457.66 Q1271.76 1461.2 1271.76 1468.33 Q1271.76 1475.44 1273.57 1479.01 Q1275.4 1482.55 1279.01 1482.55 Q1282.64 1482.55 1284.45 1479.01 Q1286.28 1475.44 1286.28 1468.33 Q1286.28 1461.2 1284.45 1457.66 Q1282.64 1454.1 1279.01 1454.1 M1279.01 1450.39 Q1284.82 1450.39 1287.87 1455 Q1290.95 1459.58 1290.95 1468.33 Q1290.95 1477.06 1287.87 1481.67 Q1284.82 1486.25 1279.01 1486.25 Q1273.2 1486.25 1270.12 1481.67 Q1267.06 1477.06 1267.06 1468.33 Q1267.06 1459.58 1270.12 1455 Q1273.2 1450.39 1279.01 1450.39 Z\" fill=\"#000000\" fill-rule=\"evenodd\" fill-opacity=\"1\" /><path clip-path=\"url(#clip650)\" d=\"M1787.7 1481.64 L1804.02 1481.64 L1804.02 1485.58 L1782.07 1485.58 L1782.07 1481.64 Q1784.74 1478.89 1789.32 1474.26 Q1793.93 1469.61 1795.11 1468.27 Q1797.35 1465.74 1798.23 1464.01 Q1799.13 1462.25 1799.13 1460.56 Q1799.13 1457.8 1797.19 1456.07 Q1795.27 1454.33 1792.17 1454.33 Q1789.97 1454.33 1787.51 1455.09 Q1785.08 1455.86 1782.31 1457.41 L1782.31 1452.69 Q1785.13 1451.55 1787.58 1450.97 Q1790.04 1450.39 1792.07 1450.39 Q1797.44 1450.39 1800.64 1453.08 Q1803.83 1455.77 1803.83 1460.26 Q1803.83 1462.39 1803.02 1464.31 Q1802.24 1466.2 1800.13 1468.8 Q1799.55 1469.47 1796.45 1472.69 Q1793.35 1475.88 1787.7 1481.64 Z\" fill=\"#000000\" fill-rule=\"evenodd\" fill-opacity=\"1\" /><path clip-path=\"url(#clip650)\" d=\"M1813.88 1451.02 L1832.24 1451.02 L1832.24 1454.96 L1818.16 1454.96 L1818.16 1463.43 Q1819.18 1463.08 1820.2 1462.92 Q1821.22 1462.73 1822.24 1462.73 Q1828.02 1462.73 1831.4 1465.9 Q1834.78 1469.08 1834.78 1474.49 Q1834.78 1480.07 1831.31 1483.17 Q1827.84 1486.25 1821.52 1486.25 Q1819.34 1486.25 1817.07 1485.88 Q1814.83 1485.51 1812.42 1484.77 L1812.42 1480.07 Q1814.5 1481.2 1816.73 1481.76 Q1818.95 1482.32 1821.43 1482.32 Q1825.43 1482.32 1827.77 1480.21 Q1830.11 1478.1 1830.11 1474.49 Q1830.11 1470.88 1827.77 1468.77 Q1825.43 1466.67 1821.43 1466.67 Q1819.55 1466.67 1817.68 1467.08 Q1815.82 1467.5 1813.88 1468.38 L1813.88 1451.02 Z\" fill=\"#000000\" fill-rule=\"evenodd\" fill-opacity=\"1\" /><path clip-path=\"url(#clip650)\" d=\"M2341.6 1466.95 Q2344.96 1467.66 2346.83 1469.93 Q2348.73 1472.2 2348.73 1475.53 Q2348.73 1480.65 2345.21 1483.45 Q2341.69 1486.25 2335.21 1486.25 Q2333.03 1486.25 2330.72 1485.81 Q2328.43 1485.39 2325.97 1484.54 L2325.97 1480.02 Q2327.92 1481.16 2330.23 1481.74 Q2332.55 1482.32 2335.07 1482.32 Q2339.47 1482.32 2341.76 1480.58 Q2344.08 1478.84 2344.08 1475.53 Q2344.08 1472.48 2341.92 1470.77 Q2339.79 1469.03 2335.97 1469.03 L2331.95 1469.03 L2331.95 1465.19 L2336.16 1465.19 Q2339.61 1465.19 2341.44 1463.82 Q2343.27 1462.43 2343.27 1459.84 Q2343.27 1457.18 2341.37 1455.77 Q2339.49 1454.33 2335.97 1454.33 Q2334.05 1454.33 2331.85 1454.75 Q2329.65 1455.16 2327.02 1456.04 L2327.02 1451.88 Q2329.68 1451.14 2331.99 1450.77 Q2334.33 1450.39 2336.39 1450.39 Q2341.71 1450.39 2344.82 1452.83 Q2347.92 1455.23 2347.92 1459.35 Q2347.92 1462.22 2346.27 1464.21 Q2344.63 1466.18 2341.6 1466.95 Z\" fill=\"#000000\" fill-rule=\"evenodd\" fill-opacity=\"1\" /><path clip-path=\"url(#clip650)\" d=\"M2367.59 1454.1 Q2363.98 1454.1 2362.15 1457.66 Q2360.35 1461.2 2360.35 1468.33 Q2360.35 1475.44 2362.15 1479.01 Q2363.98 1482.55 2367.59 1482.55 Q2371.23 1482.55 2373.03 1479.01 Q2374.86 1475.44 2374.86 1468.33 Q2374.86 1461.2 2373.03 1457.66 Q2371.23 1454.1 2367.59 1454.1 M2367.59 1450.39 Q2373.4 1450.39 2376.46 1455 Q2379.54 1459.58 2379.54 1468.33 Q2379.54 1477.06 2376.46 1481.67 Q2373.4 1486.25 2367.59 1486.25 Q2361.78 1486.25 2358.7 1481.67 Q2355.65 1477.06 2355.65 1468.33 Q2355.65 1459.58 2358.7 1455 Q2361.78 1450.39 2367.59 1450.39 Z\" fill=\"#000000\" fill-rule=\"evenodd\" fill-opacity=\"1\" /><path clip-path=\"url(#clip650)\" d=\"M1167.41 1524.18 L1167.41 1530.96 Q1164.16 1527.94 1160.47 1526.44 Q1156.81 1524.95 1152.67 1524.95 Q1144.52 1524.95 1140.19 1529.95 Q1135.86 1534.91 1135.86 1544.33 Q1135.86 1553.72 1140.19 1558.72 Q1144.52 1563.68 1152.67 1563.68 Q1156.81 1563.68 1160.47 1562.19 Q1164.16 1560.69 1167.41 1557.67 L1167.41 1564.38 Q1164.03 1566.68 1160.24 1567.82 Q1156.49 1568.97 1152.29 1568.97 Q1141.5 1568.97 1135.29 1562.38 Q1129.08 1555.76 1129.08 1544.33 Q1129.08 1532.87 1135.29 1526.28 Q1141.5 1519.66 1152.29 1519.66 Q1156.55 1519.66 1160.31 1520.81 Q1164.1 1521.92 1167.41 1524.18 Z\" fill=\"#000000\" fill-rule=\"evenodd\" fill-opacity=\"1\" /><path clip-path=\"url(#clip650)\" d=\"M1193.28 1550.12 Q1186.18 1550.12 1183.45 1551.75 Q1180.71 1553.37 1180.71 1557.29 Q1180.71 1560.4 1182.75 1562.25 Q1184.82 1564.07 1188.35 1564.07 Q1193.22 1564.07 1196.15 1560.63 Q1199.11 1557.16 1199.11 1551.43 L1199.11 1550.12 L1193.28 1550.12 M1204.96 1547.71 L1204.96 1568.04 L1199.11 1568.04 L1199.11 1562.63 Q1197.1 1565.88 1194.11 1567.44 Q1191.12 1568.97 1186.79 1568.97 Q1181.31 1568.97 1178.07 1565.91 Q1174.85 1562.82 1174.85 1557.67 Q1174.85 1551.65 1178.86 1548.6 Q1182.91 1545.54 1190.89 1545.54 L1199.11 1545.54 L1199.11 1544.97 Q1199.11 1540.93 1196.43 1538.73 Q1193.79 1536.5 1188.99 1536.5 Q1185.93 1536.5 1183.03 1537.23 Q1180.14 1537.97 1177.46 1539.43 L1177.46 1534.02 Q1180.68 1532.78 1183.7 1532.17 Q1186.73 1531.54 1189.59 1531.54 Q1197.32 1531.54 1201.14 1535.55 Q1204.96 1539.56 1204.96 1547.71 Z\" fill=\"#000000\" fill-rule=\"evenodd\" fill-opacity=\"1\" /><path clip-path=\"url(#clip650)\" d=\"M1237.68 1537.87 Q1236.7 1537.3 1235.52 1537.04 Q1234.37 1536.76 1232.97 1536.76 Q1228.01 1536.76 1225.33 1540 Q1222.69 1543.22 1222.69 1549.27 L1222.69 1568.04 L1216.8 1568.04 L1216.8 1532.4 L1222.69 1532.4 L1222.69 1537.93 Q1224.54 1534.69 1227.5 1533.13 Q1230.46 1531.54 1234.69 1531.54 Q1235.3 1531.54 1236.03 1531.63 Q1236.76 1531.7 1237.65 1531.85 L1237.68 1537.87 Z\" fill=\"#000000\" fill-rule=\"evenodd\" fill-opacity=\"1\" /><path clip-path=\"url(#clip650)\" d=\"M1264.8 1520.52 L1274.38 1520.52 L1286.51 1552.86 L1298.7 1520.52 L1308.28 1520.52 L1308.28 1568.04 L1302.01 1568.04 L1302.01 1526.32 L1289.75 1558.91 L1283.29 1558.91 L1271.04 1526.32 L1271.04 1568.04 L1264.8 1568.04 L1264.8 1520.52 Z\" fill=\"#000000\" fill-rule=\"evenodd\" fill-opacity=\"1\" /><path clip-path=\"url(#clip650)\" d=\"M1327.47 1525.81 L1327.47 1543.66 L1335.56 1543.66 Q1340.04 1543.66 1342.49 1541.34 Q1344.95 1539.02 1344.95 1534.72 Q1344.95 1530.45 1342.49 1528.13 Q1340.04 1525.81 1335.56 1525.81 L1327.47 1525.81 M1321.04 1520.52 L1335.56 1520.52 Q1343.54 1520.52 1347.62 1524.15 Q1351.72 1527.75 1351.72 1534.72 Q1351.72 1541.75 1347.62 1545.35 Q1343.54 1548.95 1335.56 1548.95 L1327.47 1548.95 L1327.47 1568.04 L1321.04 1568.04 L1321.04 1520.52 Z\" fill=\"#000000\" fill-rule=\"evenodd\" fill-opacity=\"1\" /><path clip-path=\"url(#clip650)\" d=\"M1392.75 1561.26 L1392.75 1548.5 L1382.25 1548.5 L1382.25 1543.22 L1399.12 1543.22 L1399.12 1563.62 Q1395.39 1566.26 1390.91 1567.63 Q1386.42 1568.97 1381.33 1568.97 Q1370.19 1568.97 1363.88 1562.47 Q1357.61 1555.95 1357.61 1544.33 Q1357.61 1532.68 1363.88 1526.19 Q1370.19 1519.66 1381.33 1519.66 Q1385.97 1519.66 1390.14 1520.81 Q1394.34 1521.96 1397.88 1524.18 L1397.88 1531.03 Q1394.31 1528 1390.3 1526.48 Q1386.29 1524.95 1381.87 1524.95 Q1373.15 1524.95 1368.75 1529.82 Q1364.39 1534.69 1364.39 1544.33 Q1364.39 1553.94 1368.75 1558.81 Q1373.15 1563.68 1381.87 1563.68 Q1385.27 1563.68 1387.95 1563.11 Q1390.62 1562.51 1392.75 1561.26 Z\" fill=\"#000000\" fill-rule=\"evenodd\" fill-opacity=\"1\" /><polyline clip-path=\"url(#clip652)\" style=\"stroke:#000000; stroke-linecap:butt; stroke-linejoin:round; stroke-width:2; stroke-opacity:0.1; fill:none\" points=\"\n",
       "  175.445,1423.18 2352.76,1423.18 \n",
       "  \"/>\n",
       "<polyline clip-path=\"url(#clip652)\" style=\"stroke:#000000; stroke-linecap:butt; stroke-linejoin:round; stroke-width:2; stroke-opacity:0.1; fill:none\" points=\"\n",
       "  175.445,1147.99 2352.76,1147.99 \n",
       "  \"/>\n",
       "<polyline clip-path=\"url(#clip652)\" style=\"stroke:#000000; stroke-linecap:butt; stroke-linejoin:round; stroke-width:2; stroke-opacity:0.1; fill:none\" points=\"\n",
       "  175.445,872.806 2352.76,872.806 \n",
       "  \"/>\n",
       "<polyline clip-path=\"url(#clip652)\" style=\"stroke:#000000; stroke-linecap:butt; stroke-linejoin:round; stroke-width:2; stroke-opacity:0.1; fill:none\" points=\"\n",
       "  175.445,597.618 2352.76,597.618 \n",
       "  \"/>\n",
       "<polyline clip-path=\"url(#clip652)\" style=\"stroke:#000000; stroke-linecap:butt; stroke-linejoin:round; stroke-width:2; stroke-opacity:0.1; fill:none\" points=\"\n",
       "  175.445,322.431 2352.76,322.431 \n",
       "  \"/>\n",
       "<polyline clip-path=\"url(#clip652)\" style=\"stroke:#000000; stroke-linecap:butt; stroke-linejoin:round; stroke-width:2; stroke-opacity:0.1; fill:none\" points=\"\n",
       "  175.445,47.2441 2352.76,47.2441 \n",
       "  \"/>\n",
       "<polyline clip-path=\"url(#clip650)\" style=\"stroke:#000000; stroke-linecap:butt; stroke-linejoin:round; stroke-width:4; stroke-opacity:1; fill:none\" points=\"\n",
       "  175.445,1423.18 175.445,47.2441 \n",
       "  \"/>\n",
       "<polyline clip-path=\"url(#clip650)\" style=\"stroke:#000000; stroke-linecap:butt; stroke-linejoin:round; stroke-width:4; stroke-opacity:1; fill:none\" points=\"\n",
       "  175.445,1423.18 194.343,1423.18 \n",
       "  \"/>\n",
       "<polyline clip-path=\"url(#clip650)\" style=\"stroke:#000000; stroke-linecap:butt; stroke-linejoin:round; stroke-width:4; stroke-opacity:1; fill:none\" points=\"\n",
       "  175.445,1147.99 194.343,1147.99 \n",
       "  \"/>\n",
       "<polyline clip-path=\"url(#clip650)\" style=\"stroke:#000000; stroke-linecap:butt; stroke-linejoin:round; stroke-width:4; stroke-opacity:1; fill:none\" points=\"\n",
       "  175.445,872.806 194.343,872.806 \n",
       "  \"/>\n",
       "<polyline clip-path=\"url(#clip650)\" style=\"stroke:#000000; stroke-linecap:butt; stroke-linejoin:round; stroke-width:4; stroke-opacity:1; fill:none\" points=\"\n",
       "  175.445,597.618 194.343,597.618 \n",
       "  \"/>\n",
       "<polyline clip-path=\"url(#clip650)\" style=\"stroke:#000000; stroke-linecap:butt; stroke-linejoin:round; stroke-width:4; stroke-opacity:1; fill:none\" points=\"\n",
       "  175.445,322.431 194.343,322.431 \n",
       "  \"/>\n",
       "<polyline clip-path=\"url(#clip650)\" style=\"stroke:#000000; stroke-linecap:butt; stroke-linejoin:round; stroke-width:4; stroke-opacity:1; fill:none\" points=\"\n",
       "  175.445,47.2441 194.343,47.2441 \n",
       "  \"/>\n",
       "<path clip-path=\"url(#clip650)\" d=\"M119.538 1436.52 L127.177 1436.52 L127.177 1410.16 L118.867 1411.83 L118.867 1407.57 L127.13 1405.9 L131.806 1405.9 L131.806 1436.52 L139.445 1436.52 L139.445 1440.46 L119.538 1440.46 L119.538 1436.52 Z\" fill=\"#000000\" fill-rule=\"evenodd\" fill-opacity=\"1\" /><path clip-path=\"url(#clip650)\" d=\"M123.126 1161.34 L139.445 1161.34 L139.445 1165.27 L117.501 1165.27 L117.501 1161.34 Q120.163 1158.58 124.746 1153.95 Q129.353 1149.3 130.533 1147.96 Q132.779 1145.43 133.658 1143.7 Q134.561 1141.94 134.561 1140.25 Q134.561 1137.5 132.617 1135.76 Q130.695 1134.02 127.593 1134.02 Q125.394 1134.02 122.941 1134.79 Q120.51 1135.55 117.732 1137.1 L117.732 1132.38 Q120.556 1131.25 123.01 1130.67 Q125.464 1130.09 127.501 1130.09 Q132.871 1130.09 136.066 1132.77 Q139.26 1135.46 139.26 1139.95 Q139.26 1142.08 138.45 1144 Q137.663 1145.9 135.556 1148.49 Q134.978 1149.16 131.876 1152.38 Q128.774 1155.57 123.126 1161.34 Z\" fill=\"#000000\" fill-rule=\"evenodd\" fill-opacity=\"1\" /><path clip-path=\"url(#clip650)\" d=\"M132.316 871.451 Q135.672 872.169 137.547 874.437 Q139.445 876.706 139.445 880.039 Q139.445 885.155 135.927 887.956 Q132.408 890.757 125.927 890.757 Q123.751 890.757 121.436 890.317 Q119.144 889.9 116.691 889.044 L116.691 884.53 Q118.635 885.664 120.95 886.243 Q123.265 886.822 125.788 886.822 Q130.186 886.822 132.478 885.086 Q134.792 883.349 134.792 880.039 Q134.792 876.984 132.64 875.271 Q130.51 873.535 126.691 873.535 L122.663 873.535 L122.663 869.692 L126.876 869.692 Q130.325 869.692 132.154 868.326 Q133.982 866.938 133.982 864.345 Q133.982 861.683 132.084 860.271 Q130.209 858.836 126.691 858.836 Q124.769 858.836 122.57 859.252 Q120.371 859.669 117.732 860.549 L117.732 856.382 Q120.394 855.641 122.709 855.271 Q125.047 854.901 127.107 854.901 Q132.431 854.901 135.533 857.331 Q138.635 859.738 138.635 863.859 Q138.635 866.729 136.992 868.72 Q135.348 870.687 132.316 871.451 Z\" fill=\"#000000\" fill-rule=\"evenodd\" fill-opacity=\"1\" /><path clip-path=\"url(#clip650)\" d=\"M129.862 584.412 L118.056 602.861 L129.862 602.861 L129.862 584.412 M128.635 580.338 L134.515 580.338 L134.515 602.861 L139.445 602.861 L139.445 606.75 L134.515 606.75 L134.515 614.898 L129.862 614.898 L129.862 606.75 L114.26 606.75 L114.26 602.236 L128.635 580.338 Z\" fill=\"#000000\" fill-rule=\"evenodd\" fill-opacity=\"1\" /><path clip-path=\"url(#clip650)\" d=\"M118.543 305.151 L136.899 305.151 L136.899 309.086 L122.825 309.086 L122.825 317.559 Q123.843 317.211 124.862 317.049 Q125.88 316.864 126.899 316.864 Q132.686 316.864 136.066 320.035 Q139.445 323.207 139.445 328.623 Q139.445 334.202 135.973 337.304 Q132.501 340.383 126.181 340.383 Q124.005 340.383 121.737 340.012 Q119.492 339.642 117.084 338.901 L117.084 334.202 Q119.168 335.336 121.39 335.892 Q123.612 336.447 126.089 336.447 Q130.093 336.447 132.431 334.341 Q134.769 332.234 134.769 328.623 Q134.769 325.012 132.431 322.906 Q130.093 320.799 126.089 320.799 Q124.214 320.799 122.339 321.216 Q120.487 321.633 118.543 322.512 L118.543 305.151 Z\" fill=\"#000000\" fill-rule=\"evenodd\" fill-opacity=\"1\" /><path clip-path=\"url(#clip650)\" d=\"M127.917 45.3807 Q124.769 45.3807 122.918 47.5334 Q121.089 49.6862 121.089 53.4362 Q121.089 57.163 122.918 59.3389 Q124.769 61.4917 127.917 61.4917 Q131.066 61.4917 132.894 59.3389 Q134.746 57.163 134.746 53.4362 Q134.746 49.6862 132.894 47.5334 Q131.066 45.3807 127.917 45.3807 M137.2 30.728 L137.2 34.9872 Q135.441 34.1539 133.635 33.7141 Q131.853 33.2743 130.093 33.2743 Q125.464 33.2743 123.01 36.3992 Q120.58 39.5242 120.232 45.8436 Q121.598 43.8298 123.658 42.765 Q125.718 41.677 128.195 41.677 Q133.404 41.677 136.413 44.8483 Q139.445 47.9964 139.445 53.4362 Q139.445 58.7602 136.297 61.9778 Q133.149 65.1954 127.917 65.1954 Q121.922 65.1954 118.751 60.6121 Q115.58 56.0056 115.58 47.2788 Q115.58 39.0844 119.468 34.2233 Q123.357 29.3391 129.908 29.3391 Q131.667 29.3391 133.45 29.6863 Q135.255 30.0335 137.2 30.728 Z\" fill=\"#000000\" fill-rule=\"evenodd\" fill-opacity=\"1\" /><path clip-path=\"url(#clip650)\" d=\"M20.1444 874.319 L26.9239 874.319 Q23.9002 877.565 22.4043 881.257 Q20.9083 884.917 20.9083 889.055 Q20.9083 897.203 25.9054 901.532 Q30.8707 905.861 40.2919 905.861 Q49.6813 905.861 54.6784 901.532 Q59.6436 897.203 59.6436 889.055 Q59.6436 884.917 58.1477 881.257 Q56.6518 877.565 53.6281 874.319 L60.3439 874.319 Q62.6355 877.692 63.7814 881.48 Q64.9272 885.236 64.9272 889.437 Q64.9272 900.227 58.3387 906.434 Q51.7183 912.64 40.2919 912.64 Q28.8336 912.64 22.2451 906.434 Q15.6248 900.227 15.6248 889.437 Q15.6248 885.172 16.7706 881.416 Q17.8846 877.629 20.1444 874.319 Z\" fill=\"#000000\" fill-rule=\"evenodd\" fill-opacity=\"1\" /><path clip-path=\"url(#clip650)\" d=\"M46.0847 848.442 Q46.0847 855.54 47.7079 858.277 Q49.3312 861.014 53.2461 861.014 Q56.3653 861.014 58.2114 858.977 Q60.0256 856.908 60.0256 853.375 Q60.0256 848.506 56.5881 845.577 Q53.1188 842.617 47.3897 842.617 L46.0847 842.617 L46.0847 848.442 M43.6657 836.761 L64.0042 836.761 L64.0042 842.617 L58.5933 842.617 Q61.8398 844.623 63.3994 847.614 Q64.9272 850.606 64.9272 854.935 Q64.9272 860.41 61.8716 863.656 Q58.7843 866.871 53.6281 866.871 Q47.6125 866.871 44.5569 862.86 Q41.5014 858.818 41.5014 850.829 L41.5014 842.617 L40.9285 842.617 Q36.8862 842.617 34.6901 845.291 Q32.4621 847.933 32.4621 852.739 Q32.4621 855.794 33.1941 858.691 Q33.9262 861.587 35.3903 864.261 L29.9795 864.261 Q28.7381 861.046 28.1334 858.022 Q27.4968 854.999 27.4968 852.134 Q27.4968 844.4 31.5072 840.58 Q35.5176 836.761 43.6657 836.761 Z\" fill=\"#000000\" fill-rule=\"evenodd\" fill-opacity=\"1\" /><path clip-path=\"url(#clip650)\" d=\"M33.8307 804.041 Q33.2578 805.028 33.0032 806.206 Q32.7167 807.351 32.7167 808.752 Q32.7167 813.717 35.9632 816.391 Q39.1779 819.032 45.2253 819.032 L64.0042 819.032 L64.0042 824.921 L28.3562 824.921 L28.3562 819.032 L33.8944 819.032 Q30.6479 817.186 29.0883 814.226 Q27.4968 811.266 27.4968 807.033 Q27.4968 806.428 27.5923 805.696 Q27.656 804.964 27.8151 804.073 L33.8307 804.041 Z\" fill=\"#000000\" fill-rule=\"evenodd\" fill-opacity=\"1\" /><path clip-path=\"url(#clip650)\" d=\"M16.4842 781.156 L16.4842 774.663 L56.6518 764.669 L16.4842 754.707 L16.4842 747.482 L56.6518 737.488 L16.4842 727.525 L16.4842 721.001 L64.0042 732.936 L64.0042 741.021 L22.7544 751.047 L64.0042 761.168 L64.0042 769.253 L16.4842 781.156 Z\" fill=\"#000000\" fill-rule=\"evenodd\" fill-opacity=\"1\" /><path clip-path=\"url(#clip650)\" d=\"M44.7161 686.053 L47.5806 686.053 L47.5806 712.98 Q53.6281 712.598 56.8109 709.351 Q59.9619 706.073 59.9619 700.248 Q59.9619 696.875 59.1344 693.723 Q58.3069 690.541 56.6518 687.421 L62.1899 687.421 Q63.5267 690.572 64.227 693.883 Q64.9272 697.193 64.9272 700.598 Q64.9272 709.128 59.9619 714.126 Q54.9967 719.091 46.5303 719.091 Q37.7774 719.091 32.6531 714.38 Q27.4968 709.638 27.4968 701.617 Q27.4968 694.424 32.1438 690.254 Q36.7589 686.053 44.7161 686.053 M42.9973 691.909 Q38.1912 691.973 35.3266 694.615 Q32.4621 697.225 32.4621 701.553 Q32.4621 706.455 35.2312 709.415 Q38.0002 712.343 43.0292 712.789 L42.9973 691.909 Z\" fill=\"#000000\" fill-rule=\"evenodd\" fill-opacity=\"1\" /><path clip-path=\"url(#clip650)\" d=\"M28.3562 676.441 L28.3562 670.584 L64.0042 670.584 L64.0042 676.441 L28.3562 676.441 M14.479 676.441 L14.479 670.584 L21.895 670.584 L21.895 676.441 L14.479 676.441 Z\" fill=\"#000000\" fill-rule=\"evenodd\" fill-opacity=\"1\" /><path clip-path=\"url(#clip650)\" d=\"M45.7664 634.873 Q39.4007 634.873 35.8996 637.514 Q32.3984 640.124 32.3984 644.867 Q32.3984 649.577 35.8996 652.219 Q39.4007 654.829 45.7664 654.829 Q52.1003 654.829 55.6014 652.219 Q59.1026 649.577 59.1026 644.867 Q59.1026 640.124 55.6014 637.514 Q52.1003 634.873 45.7664 634.873 M59.58 629.016 Q68.683 629.016 73.1071 633.058 Q77.5631 637.101 77.5631 645.44 Q77.5631 648.527 77.0857 651.264 Q76.6401 654.001 75.6852 656.58 L69.9879 656.58 Q71.3884 654.001 72.0568 651.487 Q72.7252 648.973 72.7252 646.363 Q72.7252 640.602 69.7015 637.737 Q66.7096 634.873 60.6303 634.873 L57.7339 634.873 Q60.885 636.687 62.4446 639.519 Q64.0042 642.352 64.0042 646.299 Q64.0042 652.856 59.0071 656.866 Q54.01 660.876 45.7664 660.876 Q37.491 660.876 32.4939 656.866 Q27.4968 652.856 27.4968 646.299 Q27.4968 642.352 29.0564 639.519 Q30.616 636.687 33.7671 634.873 L28.3562 634.873 L28.3562 629.016 L59.58 629.016 Z\" fill=\"#000000\" fill-rule=\"evenodd\" fill-opacity=\"1\" /><path clip-path=\"url(#clip650)\" d=\"M42.4881 587.321 L64.0042 587.321 L64.0042 593.177 L42.679 593.177 Q37.6183 593.177 35.1038 595.151 Q32.5894 597.124 32.5894 601.071 Q32.5894 605.813 35.6131 608.55 Q38.6368 611.288 43.8567 611.288 L64.0042 611.288 L64.0042 617.176 L14.479 617.176 L14.479 611.288 L33.8944 611.288 Q30.6797 609.187 29.0883 606.354 Q27.4968 603.49 27.4968 599.766 Q27.4968 593.623 31.3163 590.472 Q35.1038 587.321 42.4881 587.321 Z\" fill=\"#000000\" fill-rule=\"evenodd\" fill-opacity=\"1\" /><path clip-path=\"url(#clip650)\" d=\"M18.2347 569.847 L28.3562 569.847 L28.3562 557.784 L32.9077 557.784 L32.9077 569.847 L52.2594 569.847 Q56.6199 569.847 57.8613 568.669 Q59.1026 567.46 59.1026 563.799 L59.1026 557.784 L64.0042 557.784 L64.0042 563.799 Q64.0042 570.579 61.4897 573.157 Q58.9434 575.735 52.2594 575.735 L32.9077 575.735 L32.9077 580.032 L28.3562 580.032 L28.3562 575.735 L18.2347 575.735 L18.2347 569.847 Z\" fill=\"#000000\" fill-rule=\"evenodd\" fill-opacity=\"1\" /><circle clip-path=\"url(#clip652)\" cx=\"1372.97\" cy=\"977.377\" r=\"14\" fill=\"#000000\" fill-rule=\"evenodd\" fill-opacity=\"1\" stroke=\"none\"/>\n",
       "<circle clip-path=\"url(#clip652)\" cx=\"1372.97\" cy=\"907.204\" r=\"14\" fill=\"#000000\" fill-rule=\"evenodd\" fill-opacity=\"1\" stroke=\"none\"/>\n",
       "<circle clip-path=\"url(#clip652)\" cx=\"1568.92\" cy=\"1059.93\" r=\"14\" fill=\"#000000\" fill-rule=\"evenodd\" fill-opacity=\"1\" stroke=\"none\"/>\n",
       "<circle clip-path=\"url(#clip652)\" cx=\"1416.51\" cy=\"813.64\" r=\"14\" fill=\"#000000\" fill-rule=\"evenodd\" fill-opacity=\"1\" stroke=\"none\"/>\n",
       "<circle clip-path=\"url(#clip652)\" cx=\"1122.58\" cy=\"751.723\" r=\"14\" fill=\"#000000\" fill-rule=\"evenodd\" fill-opacity=\"1\" stroke=\"none\"/>\n",
       "<circle clip-path=\"url(#clip652)\" cx=\"1057.26\" cy=\"746.219\" r=\"14\" fill=\"#000000\" fill-rule=\"evenodd\" fill-opacity=\"1\" stroke=\"none\"/>\n",
       "<circle clip-path=\"url(#clip652)\" cx=\"643.567\" cy=\"715.949\" r=\"14\" fill=\"#000000\" fill-rule=\"evenodd\" fill-opacity=\"1\" stroke=\"none\"/>\n",
       "<circle clip-path=\"url(#clip652)\" cx=\"1743.11\" cy=\"820.52\" r=\"14\" fill=\"#000000\" fill-rule=\"evenodd\" fill-opacity=\"1\" stroke=\"none\"/>\n",
       "<circle clip-path=\"url(#clip652)\" cx=\"1568.92\" cy=\"831.527\" r=\"14\" fill=\"#000000\" fill-rule=\"evenodd\" fill-opacity=\"1\" stroke=\"none\"/>\n",
       "<circle clip-path=\"url(#clip652)\" cx=\"1177.01\" cy=\"751.723\" r=\"14\" fill=\"#000000\" fill-rule=\"evenodd\" fill-opacity=\"1\" stroke=\"none\"/>\n",
       "<circle clip-path=\"url(#clip652)\" cx=\"1024.6\" cy=\"751.723\" r=\"14\" fill=\"#000000\" fill-rule=\"evenodd\" fill-opacity=\"1\" stroke=\"none\"/>\n",
       "<circle clip-path=\"url(#clip652)\" cx=\"872.185\" cy=\"578.355\" r=\"14\" fill=\"#000000\" fill-rule=\"evenodd\" fill-opacity=\"1\" stroke=\"none\"/>\n",
       "<circle clip-path=\"url(#clip652)\" cx=\"970.164\" cy=\"671.919\" r=\"14\" fill=\"#000000\" fill-rule=\"evenodd\" fill-opacity=\"1\" stroke=\"none\"/>\n",
       "<circle clip-path=\"url(#clip652)\" cx=\"741.546\" cy=\"658.16\" r=\"14\" fill=\"#000000\" fill-rule=\"evenodd\" fill-opacity=\"1\" stroke=\"none\"/>\n",
       "<circle clip-path=\"url(#clip652)\" cx=\"218.991\" cy=\"253.634\" r=\"14\" fill=\"#000000\" fill-rule=\"evenodd\" fill-opacity=\"1\" stroke=\"none\"/>\n",
       "<circle clip-path=\"url(#clip652)\" cx=\"218.991\" cy=\"205.752\" r=\"14\" fill=\"#000000\" fill-rule=\"evenodd\" fill-opacity=\"1\" stroke=\"none\"/>\n",
       "<circle clip-path=\"url(#clip652)\" cx=\"687.113\" cy=\"227.492\" r=\"14\" fill=\"#000000\" fill-rule=\"evenodd\" fill-opacity=\"1\" stroke=\"none\"/>\n",
       "<circle clip-path=\"url(#clip652)\" cx=\"1427.4\" cy=\"1020.03\" r=\"14\" fill=\"#000000\" fill-rule=\"evenodd\" fill-opacity=\"1\" stroke=\"none\"/>\n",
       "<circle clip-path=\"url(#clip652)\" cx=\"774.206\" cy=\"729.708\" r=\"14\" fill=\"#000000\" fill-rule=\"evenodd\" fill-opacity=\"1\" stroke=\"none\"/>\n",
       "<circle clip-path=\"url(#clip652)\" cx=\"741.546\" cy=\"753.099\" r=\"14\" fill=\"#000000\" fill-rule=\"evenodd\" fill-opacity=\"1\" stroke=\"none\"/>\n",
       "<circle clip-path=\"url(#clip652)\" cx=\"534.701\" cy=\"641.648\" r=\"14\" fill=\"#000000\" fill-rule=\"evenodd\" fill-opacity=\"1\" stroke=\"none\"/>\n",
       "<circle clip-path=\"url(#clip652)\" cx=\"1177.01\" cy=\"640.272\" r=\"14\" fill=\"#000000\" fill-rule=\"evenodd\" fill-opacity=\"1\" stroke=\"none\"/>\n",
       "<circle clip-path=\"url(#clip652)\" cx=\"2058.82\" cy=\"1165.88\" r=\"14\" fill=\"#000000\" fill-rule=\"evenodd\" fill-opacity=\"1\" stroke=\"none\"/>\n",
       "<circle clip-path=\"url(#clip652)\" cx=\"1917.29\" cy=\"1109.47\" r=\"14\" fill=\"#000000\" fill-rule=\"evenodd\" fill-opacity=\"1\" stroke=\"none\"/>\n",
       "<circle clip-path=\"url(#clip652)\" cx=\"806.865\" cy=\"826.024\" r=\"14\" fill=\"#000000\" fill-rule=\"evenodd\" fill-opacity=\"1\" stroke=\"none\"/>\n",
       "<circle clip-path=\"url(#clip652)\" cx=\"1231.44\" cy=\"936.099\" r=\"14\" fill=\"#000000\" fill-rule=\"evenodd\" fill-opacity=\"1\" stroke=\"none\"/>\n",
       "<circle clip-path=\"url(#clip652)\" cx=\"719.773\" cy=\"715.949\" r=\"14\" fill=\"#000000\" fill-rule=\"evenodd\" fill-opacity=\"1\" stroke=\"none\"/>\n",
       "<circle clip-path=\"url(#clip652)\" cx=\"1416.51\" cy=\"933.347\" r=\"14\" fill=\"#000000\" fill-rule=\"evenodd\" fill-opacity=\"1\" stroke=\"none\"/>\n",
       "</svg>\n"
      ]
     },
     "execution_count": 46,
     "metadata": {},
     "output_type": "execute_result"
    }
   ],
   "source": [
    "# Produce scatterplot using the plot package scatter package\n",
    "scatter(red_df[:, \"mpg\"], red_df[:, \"wt\"],\n",
    "    xlabel = \"Car MPG\", ylabel = \"Car Weight\",\n",
    "    ylims = [1,6], xlim = [10,30],\n",
    "    label = false, c = :black)"
   ]
  },
  {
   "cell_type": "markdown",
   "id": "7017be65",
   "metadata": {},
   "source": [
    "# References"
   ]
  }
 ],
 "metadata": {
  "kernelspec": {
   "display_name": "Julia 1.7.3",
   "language": "julia",
   "name": "julia-1.7"
  },
  "language_info": {
   "file_extension": ".jl",
   "mimetype": "application/julia",
   "name": "julia",
   "version": "1.7.3"
  }
 },
 "nbformat": 4,
 "nbformat_minor": 5
}
