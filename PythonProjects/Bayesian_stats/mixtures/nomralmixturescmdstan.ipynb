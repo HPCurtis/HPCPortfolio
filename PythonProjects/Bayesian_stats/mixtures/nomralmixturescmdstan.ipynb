{
 "cells": [
  {
   "cell_type": "code",
   "execution_count": 9,
   "metadata": {},
   "outputs": [],
   "source": [
    "import numpy as np\n",
    "import pandas as pd\n",
    "from cmdstanpy import CmdStanModel, write_stan_json\n",
    "import arviz as az\n",
    "import matplotlib.pyplot as plt\n",
    "\n",
    "az.style.use(\"arviz-grayscale\")"
   ]
  },
  {
   "cell_type": "code",
   "execution_count": 14,
   "metadata": {},
   "outputs": [
    {
     "data": {
      "text/plain": [
       "[]"
      ]
     },
     "execution_count": 14,
     "metadata": {},
     "output_type": "execute_result"
    },
    {
     "data": {
      "image/png": "[encoded data removed]",
      "text/plain": [
       "<Figure size 1000x300 with 1 Axes>"
      ]
     },
     "metadata": {},
     "output_type": "display_data"
    }
   ],
   "source": [
    "cs = pd.read_csv(\"https://raw.githubusercontent.com/aloctavodia/BAP3/main/code/data/chemical_shifts_theo_exp.csv\")\n",
    "cs_exp = cs['exp']\n",
    "_, ax = plt.subplots(figsize=(10, 3))\n",
    "ax.hist(cs_exp, density=True, bins=30, alpha=0.3)\n",
    "ax.set_yticks([])"
   ]
  },
  {
   "cell_type": "code",
   "execution_count": 22,
   "metadata": {},
   "outputs": [
    {
     "name": "stderr",
     "output_type": "stream",
     "text": [
      "14:35:44 - cmdstanpy - INFO - compiling stan file /home/harrison/Desktop/gitHubRepos/HPCStatsPortfolio/PythonProjects/Bayesian_stats/mixtures/normalmixture.stan to exe file /home/harrison/Desktop/gitHubRepos/HPCStatsPortfolio/PythonProjects/Bayesian_stats/mixtures/normalmixture\n"
     ]
    },
    {
     "name": "stderr",
     "output_type": "stream",
     "text": [
      "14:36:10 - cmdstanpy - INFO - compiled model executable: /home/harrison/Desktop/gitHubRepos/HPCStatsPortfolio/PythonProjects/Bayesian_stats/mixtures/normalmixture\n"
     ]
    }
   ],
   "source": [
    "model = CmdStanModel(stan_file=\"normalmixture.stan\", cpp_options={'STAN_THREADS': 'TRUE'},\n",
    "                     force_compile = True)"
   ]
  },
  {
   "cell_type": "code",
   "execution_count": 16,
   "metadata": {},
   "outputs": [],
   "source": [
    "data = {'N': len(cs_exp),\n",
    "        'K': 2,\n",
    "        'y': cs_exp.values}\n",
    "\n",
    "write_stan_json(\"/home/harrison/Desktop/gitHubRepos/HPCStatsPortfolio/PythonProjects/Bayesian_stats/mixtures/data.json\", data = data)"
   ]
  },
  {
   "cell_type": "code",
   "execution_count": 33,
   "metadata": {},
   "outputs": [
    {
     "data": {
      "text/plain": [
       "array({'mu': [55.51028716216216, 57.51028716216216]}, dtype=object)"
      ]
     },
     "execution_count": 33,
     "metadata": {},
     "output_type": "execute_result"
    }
   ],
   "source": [
    "#   init values for initialisation\n",
    "def stan_init():\n",
    "    init_dict = {}\n",
    "    init_dict[\"mu\"] = [cs_exp.mean() - 1, cs_exp.mean() + 1] \n",
    "    return np.array(init_dict)\n",
    "stan_init()"
   ]
  },
  {
   "cell_type": "code",
   "execution_count": 35,
   "metadata": {},
   "outputs": [
    {
     "name": "stderr",
     "output_type": "stream",
     "text": [
      "15:03:14 - cmdstanpy - INFO - CmdStan start processing\n",
      "chain 1 |\u001b[33m          \u001b[0m| 00:00 Status\n",
      "\u001b[A\n",
      "\n",
      "\u001b[A\u001b[A\n",
      "chain 1 |\u001b[33m██▎       \u001b[0m| 00:20 Iteration:  300 / 2000 [ 15%]  (Warmup)\n",
      "chain 1 |\u001b[33m███▋      \u001b[0m| 00:27 Iteration:  600 / 2000 [ 30%]  (Warmup)\n",
      "chain 1 |\u001b[33m████▌     \u001b[0m| 00:31 Iteration:  800 / 2000 [ 40%]  (Warmup)\n",
      "\u001b[A\n",
      "\n",
      "chain 1 |\u001b[33m█████     \u001b[0m| 00:34 Iteration:  900 / 2000 [ 45%]  (Warmup)\n",
      "chain 1 |\u001b[34m█████▉    \u001b[0m| 00:36 Iteration: 1001 / 2000 [ 50%]  (Sampling)\n",
      "\n",
      "\u001b[A\u001b[A\n",
      "chain 1 |\u001b[34m██████▎   \u001b[0m| 00:39 Iteration: 1100 / 2000 [ 55%]  (Sampling)\n",
      "\u001b[A\n",
      "\n",
      "chain 1 |\u001b[34m██████▊   \u001b[0m| 00:42 Iteration: 1200 / 2000 [ 60%]  (Sampling)\n",
      "\u001b[A\n",
      "\n",
      "chain 1 |\u001b[34m███████▎  \u001b[0m| 00:45 Iteration: 1300 / 2000 [ 65%]  (Sampling)\n",
      "chain 1 |\u001b[34m███████▋  \u001b[0m| 00:48 Iteration: 1400 / 2000 [ 70%]  (Sampling)\n",
      "\u001b[A\n",
      "\n",
      "chain 1 |\u001b[34m████████▏ \u001b[0m| 00:51 Iteration: 1500 / 2000 [ 75%]  (Sampling)\n",
      "\n",
      "\u001b[A\u001b[A\n",
      "chain 1 |\u001b[34m████████▋ \u001b[0m| 00:54 Iteration: 1600 / 2000 [ 80%]  (Sampling)\n",
      "\n",
      "\u001b[A\u001b[A\n",
      "chain 1 |\u001b[34m█████████ \u001b[0m| 00:57 Iteration: 1700 / 2000 [ 85%]  (Sampling)\n",
      "\n",
      "\u001b[A\u001b[A\n",
      "chain 1 |\u001b[34m█████████▌\u001b[0m| 01:00 Iteration: 1800 / 2000 [ 90%]  (Sampling)\n",
      "\n",
      "\u001b[A\u001b[A\n",
      "chain 1 |\u001b[34m██████████\u001b[0m| 01:03 Iteration: 1900 / 2000 [ 95%]  (Sampling)\n",
      "\n",
      "\u001b[A\u001b[A\n",
      "\u001b[A\n",
      "\n",
      "\u001b[A\u001b[A\n",
      "\u001b[A\n",
      "\n",
      "\u001b[A\u001b[A\n",
      "\u001b[A\n",
      "\n",
      "\u001b[A\u001b[A\n",
      "\u001b[A\n",
      "\n",
      "\u001b[A\u001b[A\n",
      "\u001b[A\n",
      "\n",
      "\u001b[A\u001b[A\n",
      "\u001b[A\n",
      "\n",
      "\u001b[A\u001b[A\n",
      "\n",
      "\u001b[A\u001b[A\n",
      "\n",
      "\u001b[A\u001b[A\n",
      "\n",
      "\u001b[A\u001b[A\n",
      "\n",
      "chain 1 |\u001b[34m██████████\u001b[0m| 01:34 Sampling completed                       \n",
      "chain 2 |\u001b[34m██████████\u001b[0m| 01:34 Sampling completed                       \n",
      "chain 3 |\u001b[34m██████████\u001b[0m| 01:34 Sampling completed                       \n",
      "chain 4 |\u001b[34m██████████\u001b[0m| 01:34 Sampling completed                       "
     ]
    },
    {
     "name": "stdout",
     "output_type": "stream",
     "text": [
      "                                                                                                                                                                                                                                                                                                                                "
     ]
    },
    {
     "name": "stderr",
     "output_type": "stream",
     "text": [
      "\n",
      "15:04:49 - cmdstanpy - INFO - CmdStan done processing.\n",
      "15:04:49 - cmdstanpy - WARNING - Non-fatal error during sampling:\n",
      "Exception: normal_lpdf: Location parameter is inf, but must be finite! (in 'normalmixture.stan', line 20, column 6 to column 49)\n",
      "\tException: normal_lpdf: Location parameter is inf, but must be finite! (in 'normalmixture.stan', line 20, column 6 to column 49)\n",
      "\tException: normal_lpdf: Location parameter is inf, but must be finite! (in 'normalmixture.stan', line 20, column 6 to column 49)\n",
      "\tException: normal_lpdf: Location parameter is inf, but must be finite! (in 'normalmixture.stan', line 20, column 6 to column 49)\n",
      "\tException: normal_lpdf: Location parameter is inf, but must be finite! (in 'normalmixture.stan', line 20, column 6 to column 49)\n",
      "\tException: normal_lpdf: Location parameter is inf, but must be finite! (in 'normalmixture.stan', line 20, column 6 to column 49)\n",
      "\tException: normal_lpdf: Location parameter is inf, but must be finite! (in 'normalmixture.stan', line 20, column 6 to column 49)\n",
      "\tException: normal_lpdf: Location parameter is inf, but must be finite! (in 'normalmixture.stan', line 20, column 6 to column 49)\n",
      "\tException: normal_lpdf: Location parameter is inf, but must be finite! (in 'normalmixture.stan', line 20, column 6 to column 49)\n",
      "\tException: normal_lpdf: Location parameter is inf, but must be finite! (in 'normalmixture.stan', line 20, column 6 to column 49)\n",
      "\tException: normal_lpdf: Location parameter is inf, but must be finite! (in 'normalmixture.stan', line 20, column 6 to column 49)\n",
      "\tException: normal_lpdf: Location parameter is inf, but must be finite! (in 'normalmixture.stan', line 20, column 6 to column 49)\n",
      "\tException: normal_lpdf: Location parameter is inf, but must be finite! (in 'normalmixture.stan', line 20, column 6 to column 49)\n",
      "\tException: normal_lpdf: Location parameter is inf, but must be finite! (in 'normalmixture.stan', line 20, column 6 to column 49)\n",
      "\tException: normal_lpdf: Location parameter is inf, but must be finite! (in 'normalmixture.stan', line 20, column 6 to column 49)\n",
      "\tException: normal_lpdf: Location parameter is inf, but must be finite! (in 'normalmixture.stan', line 20, column 6 to column 49)\n",
      "\tException: normal_lpdf: Location parameter is inf, but must be finite! (in 'normalmixture.stan', line 20, column 6 to column 49)\n",
      "\tException: normal_lpdf: Location parameter is inf, but must be finite! (in 'normalmixture.stan', line 20, column 6 to column 49)\n",
      "\tException: normal_lpdf: Location parameter is inf, but must be finite! (in 'normalmixture.stan', line 20, column 6 to column 49)\n",
      "\tException: normal_lpdf: Location parameter is inf, but must be finite! (in 'normalmixture.stan', line 20, column 6 to column 49)\n",
      "\tException: normal_lpdf: Location parameter is inf, but must be finite! (in 'normalmixture.stan', line 20, column 6 to column 49)\n",
      "\tException: normal_lpdf: Location parameter is inf, but must be finite! (in 'normalmixture.stan', line 20, column 6 to column 49)\n",
      "\tException: normal_lpdf: Location parameter is inf, but must be finite! (in 'normalmixture.stan', line 20, column 6 to column 49)\n",
      "\tException: normal_lpdf: Location parameter is inf, but must be finite! (in 'normalmixture.stan', line 20, column 6 to column 49)\n",
      "\tException: normal_lpdf: Location parameter is inf, but must be finite! (in 'normalmixture.stan', line 20, column 6 to column 49)\n",
      "\tException: normal_lpdf: Location parameter is inf, but must be finite! (in 'normalmixture.stan', line 20, column 6 to column 49)\n",
      "\tException: normal_lpdf: Location parameter is inf, but must be finite! (in 'normalmixture.stan', line 20, column 6 to column 49)\n",
      "\tException: normal_lpdf: Location parameter is inf, but must be finite! (in 'normalmixture.stan', line 20, column 6 to column 49)\n",
      "Consider re-running with show_console=True if the above output is unclear!\n"
     ]
    },
    {
     "name": "stdout",
     "output_type": "stream",
     "text": [
      "\n"
     ]
    }
   ],
   "source": [
    "fit = model.sample(\"data.json\", chains = 4 , iter_sampling=1000, parallel_chains = 4)"
   ]
  },
  {
   "cell_type": "code",
   "execution_count": 36,
   "metadata": {},
   "outputs": [
    {
     "name": "stderr",
     "output_type": "stream",
     "text": [
      "/home/harrison/anaconda3/envs/cmdstanpyenv/lib/python3.12/site-packages/arviz/plots/backends/matplotlib/forestplot.py:545: UserWarning: The `squeeze` kwarg to GroupBy is being removed.Pass .groupby(..., squeeze=False) to disable squeezing, which is the new default, and to silence this warning.\n",
      "  for _, sub_data in grouped_datum:\n",
      "/home/harrison/anaconda3/envs/cmdstanpyenv/lib/python3.12/site-packages/arviz/plots/backends/matplotlib/forestplot.py:545: UserWarning: The `squeeze` kwarg to GroupBy is being removed.Pass .groupby(..., squeeze=False) to disable squeezing, which is the new default, and to silence this warning.\n",
      "  for _, sub_data in grouped_datum:\n"
     ]
    },
    {
     "data": {
      "image/png": "[encoded data removed]",
      "text/plain": [
       "<Figure size 600x480 with 1 Axes>"
      ]
     },
     "metadata": {},
     "output_type": "display_data"
    }
   ],
   "source": [
    "az.plot_forest(fit, var_names=['mu']);"
   ]
  }
 ],
 "metadata": {
  "kernelspec": {
   "display_name": "cmdstanpyenv",
   "language": "python",
   "name": "python3"
  },
  "language_info": {
   "codemirror_mode": {
    "name": "ipython",
    "version": 3
   },
   "file_extension": ".py",
   "mimetype": "text/x-python",
   "name": "python",
   "nbconvert_exporter": "python",
   "pygments_lexer": "ipython3",
   "version": "3.12.1"
  }
 },
 "nbformat": 4,
 "nbformat_minor": 2
}
