{
 "cells": [
  {
   "cell_type": "code",
   "execution_count": 7,
   "metadata": {},
   "outputs": [],
   "source": [
    "import numpy as np\n",
    "import pandas as pd\n",
    "from cmdstanpy import CmdStanModel, write_stan_json\n",
    "import arviz as az\n",
    "import matplotlib.pyplot as plt\n",
    "import preliz as pz\n",
    "az.style.use(\"arviz-grayscale\")"
   ]
  },
  {
   "cell_type": "code",
   "execution_count": 8,
   "metadata": {},
   "outputs": [],
   "source": [
    "def get_ig_params(x_vals, l_b=None, u_b=None, mass=0.95, plot=False):\n",
    "    \"\"\"\n",
    "    Returns a weakly informative prior for the length-scale parameter of the GP kernel.\n",
    "    \"\"\"\n",
    "\n",
    "    differences = np.abs(np.subtract.outer(x_vals, x_vals))\n",
    "    if l_b is None:\n",
    "        l_b = np.min(differences[differences != 0]) * 2\n",
    "    if u_b is None:\n",
    "        u_b = np.max(differences) / 1.5\n",
    "\n",
    "    dist = pz.InverseGamma()\n",
    "    pz.maxent(dist, l_b, u_b, mass, plot=plot)\n",
    "\n",
    "    return dict(zip(dist.param_names, dist.params))"
   ]
  },
  {
   "cell_type": "code",
   "execution_count": 9,
   "metadata": {},
   "outputs": [],
   "source": [
    "bikes = pd.read_csv(\"https://raw.githubusercontent.com/aloctavodia/BAP3/main/code/data/bikes.csv\")\n",
    "y = bikes[\"rented\"].values\n",
    "X = bikes[\"hour\"].values"
   ]
  },
  {
   "cell_type": "code",
   "execution_count": 10,
   "metadata": {},
   "outputs": [
    {
     "name": "stderr",
     "output_type": "stream",
     "text": [
      "/home/harrison/anaconda3/envs/cmdstanpyenv/lib/python3.12/site-packages/scipy/stats/_distn_infrastructure.py:2069: RuntimeWarning: divide by zero encountered in divide\n",
      "  x = np.asarray((x - loc)/scale, dtype=dtyp)\n"
     ]
    }
   ],
   "source": [
    "ivg_prior = get_ig_params(X)"
   ]
  },
  {
   "cell_type": "code",
   "execution_count": 11,
   "metadata": {},
   "outputs": [
    {
     "name": "stderr",
     "output_type": "stream",
     "text": [
      "18:05:05 - cmdstanpy - INFO - compiling stan file /home/harrison/Desktop/gitHubRepos/HPCStatsPortfolio/PythonProjects/Bayesian_stats/gaussianprocesses/HSGP.stan to exe file /home/harrison/Desktop/gitHubRepos/HPCStatsPortfolio/PythonProjects/Bayesian_stats/gaussianprocesses/HSGP\n",
      "18:05:32 - cmdstanpy - INFO - compiled model executable: /home/harrison/Desktop/gitHubRepos/HPCStatsPortfolio/PythonProjects/Bayesian_stats/gaussianprocesses/HSGP\n"
     ]
    }
   ],
   "source": [
    "model = CmdStanModel(stan_file=\"HSGP.stan\", cpp_options={'STAN_THREADS': 'TRUE'},\n",
    "                     force_compile = True)"
   ]
  },
  {
   "cell_type": "code",
   "execution_count": 12,
   "metadata": {},
   "outputs": [],
   "source": [
    "data = {'N': len(y),\n",
    "        'x': X,\n",
    "        'y': y,\n",
    "        \"c_f\": 1.5,\n",
    "        \"M_f\": 10,\n",
    "        'alpha_prior': ivg_prior[\"alpha\"],\n",
    "        'beta_prior': ivg_prior[\"beta\"]}\n",
    "write_stan_json(\"/home/harrison/Desktop/gitHubRepos/HPCStatsPortfolio/PythonProjects/Bayesian_stats/gaussianprocesses/data.json\", data = data)"
   ]
  },
  {
   "cell_type": "code",
   "execution_count": 13,
   "metadata": {},
   "outputs": [
    {
     "name": "stderr",
     "output_type": "stream",
     "text": [
      "18:05:32 - cmdstanpy - INFO - CmdStan start processing\n",
      "chain 1 |\u001b[33m          \u001b[0m| 00:00 Status\n",
      "\u001b[A\n",
      "\n",
      "\u001b[A\u001b[A\n",
      "\n",
      "\u001b[A\u001b[A\n",
      "chain 1 |\u001b[33m▉         \u001b[0m| 00:00 Iteration:    1 / 2000 [  0%]  (Warmup)\n",
      "\n",
      "\u001b[A\u001b[A\n",
      "chain 1 |\u001b[33m█▎        \u001b[0m| 00:01 Iteration:  100 / 2000 [  5%]  (Warmup)\n",
      "\n",
      "\u001b[A\u001b[A\n",
      "chain 1 |\u001b[33m█▊        \u001b[0m| 00:01 Iteration:  200 / 2000 [ 10%]  (Warmup)\n",
      "\n",
      "\u001b[A\u001b[A\n",
      "chain 1 |\u001b[33m██▎       \u001b[0m| 00:01 Iteration:  300 / 2000 [ 15%]  (Warmup)\n",
      "\n",
      "\u001b[A\u001b[A\n",
      "chain 1 |\u001b[33m██▋       \u001b[0m| 00:02 Iteration:  400 / 2000 [ 20%]  (Warmup)\n",
      "\n",
      "\u001b[A\u001b[A\n",
      "chain 1 |\u001b[33m███▏      \u001b[0m| 00:02 Iteration:  500 / 2000 [ 25%]  (Warmup)\n",
      "\n",
      "\u001b[A\u001b[A\n",
      "chain 1 |\u001b[33m███▋      \u001b[0m| 00:02 Iteration:  600 / 2000 [ 30%]  (Warmup)\n",
      "\n",
      "\u001b[A\u001b[A\n",
      "chain 1 |\u001b[33m████      \u001b[0m| 00:02 Iteration:  700 / 2000 [ 35%]  (Warmup)\n",
      "\n",
      "\u001b[A\u001b[A\n",
      "chain 1 |\u001b[33m█████     \u001b[0m| 00:03 Iteration:  900 / 2000 [ 45%]  (Warmup)\n",
      "\n",
      "\u001b[A\u001b[A\n",
      "chain 1 |\u001b[34m█████▉    \u001b[0m| 00:03 Iteration: 1001 / 2000 [ 50%]  (Sampling)\n",
      "\n",
      "\u001b[A\u001b[A\n",
      "chain 1 |\u001b[34m██████▎   \u001b[0m| 00:03 Iteration: 1100 / 2000 [ 55%]  (Sampling)\n",
      "\n",
      "\u001b[A\u001b[A\n",
      "chain 1 |\u001b[34m██████▊   \u001b[0m| 00:03 Iteration: 1200 / 2000 [ 60%]  (Sampling)\n",
      "\n",
      "\u001b[A\u001b[A\n",
      "chain 1 |\u001b[34m███████▎  \u001b[0m| 00:04 Iteration: 1300 / 2000 [ 65%]  (Sampling)\n",
      "\u001b[A\n",
      "\n",
      "chain 1 |\u001b[34m███████▋  \u001b[0m| 00:04 Iteration: 1400 / 2000 [ 70%]  (Sampling)\n",
      "\u001b[A\n",
      "\n",
      "chain 1 |\u001b[34m████████▏ \u001b[0m| 00:04 Iteration: 1500 / 2000 [ 75%]  (Sampling)\n",
      "chain 1 |\u001b[34m████████▋ \u001b[0m| 00:04 Iteration: 1600 / 2000 [ 80%]  (Sampling)\n",
      "\n",
      "\u001b[A\u001b[A\n",
      "chain 1 |\u001b[34m█████████ \u001b[0m| 00:05 Iteration: 1700 / 2000 [ 85%]  (Sampling)\n",
      "\u001b[A\n",
      "\n",
      "\u001b[A\u001b[A\n",
      "chain 1 |\u001b[34m█████████▌\u001b[0m| 00:05 Iteration: 1800 / 2000 [ 90%]  (Sampling)\n",
      "\n",
      "\u001b[A\u001b[A\n",
      "chain 1 |\u001b[34m██████████\u001b[0m| 00:05 Iteration: 1900 / 2000 [ 95%]  (Sampling)\n",
      "\n",
      "\u001b[A\u001b[A\n",
      "\n",
      "chain 1 |\u001b[34m██████████\u001b[0m| 00:06 Sampling completed                       \n",
      "chain 2 |\u001b[34m██████████\u001b[0m| 00:06 Sampling completed                       \n",
      "chain 3 |\u001b[34m██████████\u001b[0m| 00:06 Sampling completed                       \n",
      "chain 4 |\u001b[34m██████████\u001b[0m| 00:06 Sampling completed                       "
     ]
    },
    {
     "name": "stdout",
     "output_type": "stream",
     "text": [
      "                                                                                                                                                                                                                                                                                                                                "
     ]
    },
    {
     "name": "stderr",
     "output_type": "stream",
     "text": [
      "\n",
      "18:05:38 - cmdstanpy - INFO - CmdStan done processing.\n",
      "18:05:38 - cmdstanpy - WARNING - Non-fatal error during sampling:\n",
      "Exception: neg_binomial_2_lpmf: Precision parameter is 0, but must be positive finite! (in 'HSGP.stan', line 47, column 0 to column 62)\n",
      "\tException: neg_binomial_2_lpmf: Precision parameter is 0, but must be positive finite! (in 'HSGP.stan', line 47, column 0 to column 62)\n",
      "\tException: neg_binomial_2_lpmf: Precision parameter is 0, but must be positive finite! (in 'HSGP.stan', line 47, column 0 to column 62)\n",
      "\tException: neg_binomial_2_lpmf: Location parameter[1] is -nan, but must be positive finite! (in 'HSGP.stan', line 47, column 0 to column 62)\n",
      "\tException: neg_binomial_2_lpmf: Precision parameter is 0, but must be positive finite! (in 'HSGP.stan', line 47, column 0 to column 62)\n",
      "\tException: neg_binomial_2_lpmf: Precision parameter is 0, but must be positive finite! (in 'HSGP.stan', line 47, column 0 to column 62)\n",
      "\tException: neg_binomial_2_lpmf: Precision parameter is 0, but must be positive finite! (in 'HSGP.stan', line 47, column 0 to column 62)\n",
      "\tException: neg_binomial_2_lpmf: Precision parameter is 0, but must be positive finite! (in 'HSGP.stan', line 47, column 0 to column 62)Informational Message: The current Metropolis proposal is about to be rejected because of the following issue:\n",
      "\tException: neg_binomial_2_lpmf: Location parameter[1] is -nan, but must be positive finite! (in 'HSGP.stan', line 47, column 0 to column 62)\n",
      "\tException: neg_binomial_2_lpmf: Precision parameter is 0, but must be positive finite! (in 'HSGP.stan', line 47, column 0 to column 62)\n",
      "\tException: neg_binomial_2_lpmf: Precision parameter is 0, but must be positive finite! (in 'HSGP.stan', line 47, column 0 to column 62)\n",
      "\tException: neg_binomial_2_lpmf: Precision parameter is 0, but must be positive finite! (in 'HSGP.stan', line 47, column 0 to column 62)\n",
      "\tException: neg_binomial_2_lpmf: Precision parameter is 0, but must be positive finite! (in 'HSGP.stan', line 47, column 0 to column 62)\n",
      "\tException: neg_binomial_2_lpmf: Precision parameter is 0, but must be positive finite! (in 'HSGP.stan', line 47, column 0 to column 62)\n",
      "\tException: neg_binomial_2_lpmf: Precision parameter is 0, but must be positive finite! (in 'HSGP.stan', line 47, column 0 to column 62)\n",
      "\tException: neg_binomial_2_lpmf: Precision parameter is 0, but must be positive finite! (in 'HSGP.stan', line 47, column 0 to column 62)\n",
      "\tException: neg_binomial_2_lpmf: Precision parameter is 0, but must be positive finite! (in 'HSGP.stan', line 47, column 0 to column 62)\n",
      "\tException: neg_binomial_2_lpmf: Precision parameter is 0, but must be positive finite! (in 'HSGP.stan', line 47, column 0 to column 62)\n",
      "\tException: neg_binomial_2_lpmf: Location parameter[1] is -nan, but must be positive finite! (in 'HSGP.stan', line 47, column 0 to column 62)\n",
      "\tException: neg_binomial_2_lpmf: Precision parameter is 0, but must be positive finite! (in 'HSGP.stan', line 47, column 0 to column 62)\n",
      "\tException: neg_binomial_2_lpmf: Location parameter[1] is -nan, but must be positive finite! (in 'HSGP.stan', line 47, column 0 to column 62)\n",
      "\tException: neg_binomial_2_lpmf: Location parameter[1] is -nan, but must be positive finite! (in 'HSGP.stan', line 47, column 0 to column 62)\n",
      "\tException: neg_binomial_2_lpmf: Precision parameter is 0, but must be positive finite! (in 'HSGP.stan', line 47, column 0 to column 62)\n",
      "\tException: neg_binomial_2_lpmf: Location parameter[1] is -nan, but must be positive finite! (in 'HSGP.stan', line 47, column 0 to column 62)\n",
      "Consider re-running with show_console=True if the above output is unclear!\n"
     ]
    },
    {
     "name": "stdout",
     "output_type": "stream",
     "text": [
      "\n"
     ]
    }
   ],
   "source": [
    "fit = model.sample(\"data.json\", chains = 4 , iter_sampling=1000, parallel_chains = 4)"
   ]
  },
  {
   "cell_type": "code",
   "execution_count": 18,
   "metadata": {},
   "outputs": [],
   "source": [
    "cmdstanpy_data = az.from_cmdstanpy(\n",
    "    posterior=fit   \n",
    ")"
   ]
  },
  {
   "cell_type": "code",
   "execution_count": null,
   "metadata": {},
   "outputs": [],
   "source": [
    "posterior_islands = cmdstanpy_data.posterior.stack(samples=(\"chain\", \"draw\"))\n",
    "trace_η = posterior_islands['eta'].values\n",
    "trace_ℓ = posterior_islands['length'].values\n",
    "\n",
    "_, ax = plt.subplots(1, 1, figsize=(11, 4))\n",
    "xrange = np.linspace(0, 7)\n",
    "\n",
    "median_ = np.median(trace_η[:,None] * (np.exp(-xrange**2 / (2*trace_ℓ[:,None]**2))), axis=0)\n",
    "\n",
    "ax.plot(xrange, median_, lw=3)\n",
    "\n",
    "\n",
    "ax.plot(xrange, (trace_η[::20][:, None] * np.exp(-xrange**2 / (2*trace_ℓ[::20][:, None]**2))).T,\n",
    "        'C0', alpha=.1)\n",
    "\n",
    "ax.set_ylim(0, 1)\n",
    "ax.set_xlabel('distance (thousand kilometers)')\n",
    "ax.set_ylabel('covariance')\n",
    "plt.savefig('../fig/GP_islands_dist_cov.png')"
   ]
  }
 ],
 "metadata": {
  "kernelspec": {
   "display_name": "cmdstanpyenv",
   "language": "python",
   "name": "python3"
  },
  "language_info": {
   "codemirror_mode": {
    "name": "ipython",
    "version": 3
   },
   "file_extension": ".py",
   "mimetype": "text/x-python",
   "name": "python",
   "nbconvert_exporter": "python",
   "pygments_lexer": "ipython3",
   "version": "3.12.1"
  }
 },
 "nbformat": 4,
 "nbformat_minor": 2
}
