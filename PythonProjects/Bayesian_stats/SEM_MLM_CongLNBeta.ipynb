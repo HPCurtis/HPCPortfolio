{
 "cells": [
  {
   "cell_type": "markdown",
   "id": "17cf09d9",
   "metadata": {},
   "source": [
    "# Structural equation models as Linear mixed models"
   ]
  },
  {
   "cell_type": "code",
   "execution_count": null,
   "id": "c324258d",
   "metadata": {},
   "outputs": [],
   "source": [
    "import pymc as pm\n",
    "import pytensor.tensor as pt\n",
    "import pandas as pd\n",
    "import numpy as np\n",
    "import arviz as az\n",
    "import nutpie\n",
    "import matplotlib.pyplot as plt\n",
    "import pymc.sampling_jax\n",
    "import scipy\n",
    "from pymc.distributions.dist_math import gammaln "
   ]
  },
  {
   "cell_type": "code",
   "execution_count": 3,
   "id": "71ec2064",
   "metadata": {},
   "outputs": [],
   "source": [
    "def betaProp_logp(mu, theta, value):\n",
    "    mXt = mu * theta\n",
    "    minusMu = (1 - mu)\n",
    "    log_prob = gammaln(theta) - gammaln(mXt) -\\\n",
    "               gammaln(minusMu*theta) + (mXt - 1) * np.log(value) +\\\n",
    "               (minusMu * theta - 1) * np.log(1 - y)\n",
    "    \n",
    "    #class betaProp(pm.Continuous):"
   ]
  },
  {
   "cell_type": "code",
   "execution_count": null,
   "id": "71bf3401",
   "metadata": {},
   "outputs": [],
   "source": [
    "with pm.Model() as congLN:\n",
    "    alpha = pm.Normal('alpha', 0, alphaScale)\n",
    "    sigmaBeta = pm.HalfNormal('sigmaBeta', betaScale)\n",
    "    beta = pm.Normal('beta', alpha, sigmaBeta, shape = Ni)\n",
    "    lamda = pm.LogNormal('lamda', lamdaMedian, lamdaScale, shape = Ni)\n",
    "    thetaP = pm.Normal('thetaP', 0, 1, shape = Np)\n",
    "    sigma = pm.HalfNormal('sigma', sigmaScale, shape = Ni)\n",
    "    prec = pm.Truncated('tau', pm.Gamma.dist( 2, \n",
    "                                      .1, \n",
    "                                         lower = 1, upper = None, shape = Ni)\n",
    "    #\n",
    "    prob = pm.Deterministic('prob', pm.math.invlogit(beta[itemid] + lamda[itemid]) )\n",
    "    \n",
    "    # Likelihood\n",
    "    y = pm.Beta('y', mu, sigmaY, observed = df['response.01']) "
   ]
  },
  {
   "cell_type": "markdown",
   "id": "6633be6f",
   "metadata": {},
   "source": [
    "# References\n",
    "Ferrari, S., & Cribari-Neto, F. (2004). Beta regression for modelling rates and proportions. Journal of applied statistics, 31(7), 799-815."
   ]
  }
 ],
 "metadata": {
  "kernelspec": {
   "display_name": "Python 3 (ipykernel)",
   "language": "python",
   "name": "python3"
  },
  "language_info": {
   "codemirror_mode": {
    "name": "ipython",
    "version": 3
   },
   "file_extension": ".py",
   "mimetype": "text/x-python",
   "name": "python",
   "nbconvert_exporter": "python",
   "pygments_lexer": "ipython3",
   "version": "3.11.4"
  }
 },
 "nbformat": 4,
 "nbformat_minor": 5
}
